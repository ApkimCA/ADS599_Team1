{
 "cells": [
  {
   "attachments": {},
   "cell_type": "markdown",
   "metadata": {},
   "source": [
    "# Complaints Evaluated by the Commission on Police Practices\n",
    "\n",
    "In 2020, voter-approved Measure B created a new independent Commission on Police Practices (CPP) that replaced the Community Review Board on Police Practices (CRB). The CPP independently investigates officer-involved shootings, in-custody deaths, & other significant incidents in a process that is transparent and accountable to the community. The CPP also evaluates SDPD policies, practices, training, and protocols. This dataset includes all cases the CPP reviewed and closed out since the beginning of FY 2019.\n",
    "\n",
    "The mission of the Commission is to hold law enforcement accountable to the community and to increase community trust in law enforcement, resulting in increased safety for both the community and law enforcement. To learn more, visit sandiego.gov/cpp/about\n",
    "\n",
    "Each case in this dataset is identified by a unique case id and case number. A single case may involve multiple allegations and multiple officers. In the FY2019 file, each row represents one allegation and finding per officer in the complaint. Each officer named in the complaint is assigned an anonymous person id in the pid field that is unique for that case id. Starting in FY2020, cases and allegation are in separate files that can be joined on the id and case_number fields.\n",
    "\n",
    "The body worn camera details file included with this dataset lists each officer (pid) per complaint and whether that officer had a body worn camera on or off during the incident under review.\n"
   ]
  },
  {
   "attachments": {},
   "cell_type": "markdown",
   "metadata": {},
   "source": [
    "##  Import Libraries"
   ]
  },
  {
   "cell_type": "code",
   "execution_count": 3,
   "metadata": {},
   "outputs": [],
   "source": [
    "import requests\n",
    "import pandas as pd\n",
    "import time\n",
    "from sqlalchemy import create_engine\n",
    "import os\n",
    "from bs4 import BeautifulSoup\n",
    "import csv\n",
    "import mysql.connector\n",
    "import getpass\n",
    "import warnings\n",
    "warnings.filterwarnings('ignore')\n",
    "import matplotlib.pyplot as plt\n",
    "import seaborn as sns\n",
    "import sweetviz as sw"
   ]
  },
  {
   "attachments": {},
   "cell_type": "markdown",
   "metadata": {},
   "source": [
    "# Data Aquisition\n",
    "\n",
    "https://data.sandiego.gov/datasets/crb-cases/"
   ]
  },
  {
   "cell_type": "code",
   "execution_count": 4,
   "metadata": {},
   "outputs": [
    {
     "name": "stdout",
     "output_type": "stream",
     "text": [
      "CSV file saved to: C:/Users/earne/OneDrive - University of San Diego/MSADS/ADS-599/git/ADS599_Team1\\crb_cases_fy2022_datasd.csv\n",
      "CSV file saved to: C:/Users/earne/OneDrive - University of San Diego/MSADS/ADS-599/git/ADS599_Team1\\crb_allegations_fy2022_datasd.csv\n",
      "CSV file saved to: C:/Users/earne/OneDrive - University of San Diego/MSADS/ADS-599/git/ADS599_Team1\\crb_cases_bwc_fy2022_datasd.csv\n",
      "CSV file saved to: C:/Users/earne/OneDrive - University of San Diego/MSADS/ADS-599/git/ADS599_Team1\\crb_cases_fy2021_datasd.csv\n",
      "CSV file saved to: C:/Users/earne/OneDrive - University of San Diego/MSADS/ADS-599/git/ADS599_Team1\\crb_allegations_fy2021_datasd.csv\n",
      "CSV file saved to: C:/Users/earne/OneDrive - University of San Diego/MSADS/ADS-599/git/ADS599_Team1\\crb_cases_bwc_fy2021_datasd.csv\n",
      "CSV file saved to: C:/Users/earne/OneDrive - University of San Diego/MSADS/ADS-599/git/ADS599_Team1\\crb_cases_fy2020_datasd.csv\n",
      "CSV file saved to: C:/Users/earne/OneDrive - University of San Diego/MSADS/ADS-599/git/ADS599_Team1\\crb_allegations_fy2020_datasd.csv\n",
      "CSV file saved to: C:/Users/earne/OneDrive - University of San Diego/MSADS/ADS-599/git/ADS599_Team1\\crb_cases_bwc_fy2020_datasd.csv\n",
      "CSV file saved to: C:/Users/earne/OneDrive - University of San Diego/MSADS/ADS-599/git/ADS599_Team1\\crb_cases_fy19_datasd.csv\n",
      "CSV file saved to: C:/Users/earne/OneDrive - University of San Diego/MSADS/ADS-599/git/ADS599_Team1\\crb_cases_bwc_fy19_datasd.csv\n",
      "CSV file saved to: C:/Users/earne/OneDrive - University of San Diego/MSADS/ADS-599/git/ADS599_Team1\\dictionary.csv\n"
     ]
    }
   ],
   "source": [
    "# Set the URL for the page with the download links\n",
    "url = 'https://data.sandiego.gov/datasets/crb-cases/'\n",
    "\n",
    "# Set the folder path to store the CSV files\n",
    "folder_path = 'C:/Users/earne/OneDrive - University of San Diego/MSADS/ADS-599/git/ADS599_Team1'   # Replace with the desired folder path\n",
    "\n",
    "# Create the folder if it doesn't exist\n",
    "if not os.path.exists(folder_path):\n",
    "    os.makedirs(folder_path)\n",
    "\n",
    "# Fetch the HTML content\n",
    "response = requests.get(url, verify=False)\n",
    "if response.status_code == 200:\n",
    "    html_content = response.text\n",
    "\n",
    "    # Parse the HTML content\n",
    "    soup = BeautifulSoup(html_content, 'html.parser')\n",
    "\n",
    "    # Find all <paper-button> elements with the class \"resource-table-button\"\n",
    "    button_elements = soup.find_all('paper-button', class_='resource-table-button')\n",
    "\n",
    "    # Extract the download links\n",
    "    download_links = []\n",
    "    for button in button_elements:\n",
    "        # Get the \"property\" attribute value\n",
    "        property_value = button.get('property')\n",
    "\n",
    "        # Check if it's the download link button\n",
    "        if property_value == 'dcat:accessURL':\n",
    "            # Get the URL from the parent <a> tag\n",
    "            url = button.parent['href']\n",
    "            download_links.append(url)\n",
    "\n",
    "    # Download and save each CSV file\n",
    "    for link in download_links:\n",
    "        # Set the filename based on the last part of the URL\n",
    "        file_name = link.split('/')[-1]\n",
    "\n",
    "        # Fetch the CSV data\n",
    "        response = requests.get(link)\n",
    "        if response.status_code == 200:\n",
    "            csv_data = response.content\n",
    "\n",
    "            # Save the CSV file to the folder\n",
    "            file_path = os.path.join(folder_path, file_name)\n",
    "            with open(file_path, 'wb') as file:\n",
    "                file.write(csv_data)\n",
    "            print(f\"CSV file saved to: {file_path}\")\n",
    "        else:\n",
    "            print(f\"Failed to fetch the CSV file: {link}\")\n",
    "else:\n",
    "    print(\"Failed to fetch the HTML content.\")\n"
   ]
  },
  {
   "cell_type": "code",
   "execution_count": 5,
   "metadata": {},
   "outputs": [],
   "source": [
    "# Set the MySQL database connection details\n",
    "host = 'localhost'  # Replace with your MySQL host\n",
    "user = 'root'  # Replace with your MySQL username\n",
    "password = getpass.getpass(prompt='Password:',stream=None)  # Replace with your MySQL password"
   ]
  },
  {
   "cell_type": "code",
   "execution_count": 7,
   "metadata": {},
   "outputs": [],
   "source": [
    "# Set the folder path containing the CSV files\n",
    "folder_path = 'C:/Users/earne/OneDrive - University of San Diego/MSADS/ADS-599/git/ADS599_Team1'  # Replace with the folder path where CSV files are stored\n",
    "\n",
    "# Create a MySQL database connection\n",
    "cnx = mysql.connector.connect(host=host, user=user, password=password)\n",
    "cursor = cnx.cursor()\n",
    "\n",
    "# Create the 'crb' database if it doesn't exist\n",
    "create_database_query = 'CREATE DATABASE IF NOT EXISTS crb'\n",
    "cursor.execute(create_database_query)"
   ]
  },
  {
   "cell_type": "code",
   "execution_count": 8,
   "metadata": {},
   "outputs": [],
   "source": [
    "# Use the 'crb' database\n",
    "use_database_query = 'USE crb'\n",
    "cursor.execute(use_database_query)"
   ]
  },
  {
   "cell_type": "code",
   "execution_count": 1,
   "metadata": {},
   "outputs": [
    {
     "ename": "NameError",
     "evalue": "name 'os' is not defined",
     "output_type": "error",
     "traceback": [
      "\u001b[1;31m---------------------------------------------------------------------------\u001b[0m",
      "\u001b[1;31mNameError\u001b[0m                                 Traceback (most recent call last)",
      "\u001b[1;32m<ipython-input-1-cb1118d22a4e>\u001b[0m in \u001b[0;36m<module>\u001b[1;34m\u001b[0m\n\u001b[0;32m      1\u001b[0m \u001b[1;31m# Fetch the list of CSV files in the folder\u001b[0m\u001b[1;33m\u001b[0m\u001b[1;33m\u001b[0m\u001b[1;33m\u001b[0m\u001b[0m\n\u001b[1;32m----> 2\u001b[1;33m \u001b[0mcsv_files\u001b[0m \u001b[1;33m=\u001b[0m \u001b[1;33m[\u001b[0m\u001b[0mf\u001b[0m \u001b[1;32mfor\u001b[0m \u001b[0mf\u001b[0m \u001b[1;32min\u001b[0m \u001b[0mos\u001b[0m\u001b[1;33m.\u001b[0m\u001b[0mlistdir\u001b[0m\u001b[1;33m(\u001b[0m\u001b[0mfolder_path\u001b[0m\u001b[1;33m)\u001b[0m \u001b[1;32mif\u001b[0m \u001b[0mf\u001b[0m\u001b[1;33m.\u001b[0m\u001b[0mendswith\u001b[0m\u001b[1;33m(\u001b[0m\u001b[1;34m'.csv'\u001b[0m\u001b[1;33m)\u001b[0m\u001b[1;33m]\u001b[0m\u001b[1;33m\u001b[0m\u001b[1;33m\u001b[0m\u001b[0m\n\u001b[0m\u001b[0;32m      3\u001b[0m \u001b[1;33m\u001b[0m\u001b[0m\n\u001b[0;32m      4\u001b[0m \u001b[1;31m# Iterate over each CSV file and create a table in the 'crb' database\u001b[0m\u001b[1;33m\u001b[0m\u001b[1;33m\u001b[0m\u001b[1;33m\u001b[0m\u001b[0m\n\u001b[0;32m      5\u001b[0m \u001b[1;32mfor\u001b[0m \u001b[0mcsv_file\u001b[0m \u001b[1;32min\u001b[0m \u001b[0mcsv_files\u001b[0m\u001b[1;33m:\u001b[0m\u001b[1;33m\u001b[0m\u001b[1;33m\u001b[0m\u001b[0m\n",
      "\u001b[1;31mNameError\u001b[0m: name 'os' is not defined"
     ]
    }
   ],
   "source": [
    "# Fetch the list of CSV files in the folder\n",
    "csv_files = [f for f in os.listdir(folder_path) if f.endswith('.csv')]\n",
    "\n",
    "# Iterate over each CSV file and create a table in the 'crb' database\n",
    "for csv_file in csv_files:\n",
    "    file_path = os.path.join(folder_path, csv_file)\n",
    "    table_name = csv_file[:-4]  # Remove the '.csv' extension to use it as the table name\n",
    "\n",
    "    # Read the CSV file\n",
    "    with open(file_path, 'r') as file:\n",
    "        csv_reader = csv.reader(file)\n",
    "\n",
    "        # Read the header row to extract the column names\n",
    "        header_row = next(csv_reader)\n",
    "        column_names = [col.strip() for col in header_row]  # Remove leading/trailing spaces\n",
    "\n",
    "        # Initialize a dictionary to store the maximum lengths for each column\n",
    "        max_lengths = {col: 0 for col in column_names}\n",
    "\n",
    "        # Iterate over each row to determine the maximum length for each column\n",
    "        for row in csv_reader:\n",
    "            for col, value in zip(column_names, row):\n",
    "                value_length = len(value.strip())  # Get the length of the value without leading/trailing spaces\n",
    "                max_lengths[col] = max(max_lengths[col], value_length)\n",
    "\n",
    "        # Generate the CREATE TABLE query with the appropriate column lengths\n",
    "        create_table_query = f'CREATE TABLE IF NOT EXISTS `{table_name}` ('\n",
    "        for col in column_names:\n",
    "            column_length = max_lengths[col] + 10  # Add additional buffer to the maximum length\n",
    "            create_table_query += f'`{col}` VARCHAR({column_length}), '\n",
    "        create_table_query = create_table_query.rstrip(', ') + ')'\n",
    "\n",
    "        # Create the table in the 'crb' database\n",
    "        cursor.execute(create_table_query)\n",
    "\n",
    "        # Reset the file pointer to the beginning of the CSV file\n",
    "        file.seek(0)\n",
    "\n",
    "        # Skip the header row\n",
    "        next(csv_reader)\n",
    "\n",
    "        # Iterate over each row and insert into the table\n",
    "        for row in csv_reader:\n",
    "            insert_query = f'INSERT INTO `{table_name}` VALUES ({\",\".join(\"%s\" for _ in row)})'\n",
    "            values = [value.strip() for value in row]\n",
    "\n",
    "            cursor.execute(insert_query, values)\n",
    "\n",
    "# Commit the changes and close the database connection\n",
    "cnx.commit()\n",
    "cursor.close()"
   ]
  },
  {
   "cell_type": "code",
   "execution_count": 9,
   "metadata": {},
   "outputs": [
    {
     "data": {
      "text/html": [
       "<div>\n",
       "<style scoped>\n",
       "    .dataframe tbody tr th:only-of-type {\n",
       "        vertical-align: middle;\n",
       "    }\n",
       "\n",
       "    .dataframe tbody tr th {\n",
       "        vertical-align: top;\n",
       "    }\n",
       "\n",
       "    .dataframe thead th {\n",
       "        text-align: right;\n",
       "    }\n",
       "</style>\n",
       "<table border=\"1\" class=\"dataframe\">\n",
       "  <thead>\n",
       "    <tr style=\"text-align: right;\">\n",
       "      <th></th>\n",
       "      <th>Tables_in_crb</th>\n",
       "    </tr>\n",
       "  </thead>\n",
       "  <tbody>\n",
       "    <tr>\n",
       "      <th>0</th>\n",
       "      <td>allyrs</td>\n",
       "    </tr>\n",
       "    <tr>\n",
       "      <th>1</th>\n",
       "      <td>crb_allegations_fy2020_datasd</td>\n",
       "    </tr>\n",
       "    <tr>\n",
       "      <th>2</th>\n",
       "      <td>crb_allegations_fy2021_datasd</td>\n",
       "    </tr>\n",
       "    <tr>\n",
       "      <th>3</th>\n",
       "      <td>crb_allegations_fy2022_datasd</td>\n",
       "    </tr>\n",
       "    <tr>\n",
       "      <th>4</th>\n",
       "      <td>crb_cases_bwc_fy19_datasd</td>\n",
       "    </tr>\n",
       "    <tr>\n",
       "      <th>5</th>\n",
       "      <td>crb_cases_bwc_fy2020_datasd</td>\n",
       "    </tr>\n",
       "    <tr>\n",
       "      <th>6</th>\n",
       "      <td>crb_cases_bwc_fy2021_datasd</td>\n",
       "    </tr>\n",
       "    <tr>\n",
       "      <th>7</th>\n",
       "      <td>crb_cases_bwc_fy2022_datasd</td>\n",
       "    </tr>\n",
       "    <tr>\n",
       "      <th>8</th>\n",
       "      <td>crb_cases_fy19_datasd</td>\n",
       "    </tr>\n",
       "    <tr>\n",
       "      <th>9</th>\n",
       "      <td>crb_cases_fy2020_datasd</td>\n",
       "    </tr>\n",
       "    <tr>\n",
       "      <th>10</th>\n",
       "      <td>crb_cases_fy2021_datasd</td>\n",
       "    </tr>\n",
       "    <tr>\n",
       "      <th>11</th>\n",
       "      <td>crb_cases_fy2022_datasd</td>\n",
       "    </tr>\n",
       "    <tr>\n",
       "      <th>12</th>\n",
       "      <td>dictionary</td>\n",
       "    </tr>\n",
       "  </tbody>\n",
       "</table>\n",
       "</div>"
      ],
      "text/plain": [
       "                    Tables_in_crb\n",
       "0                          allyrs\n",
       "1   crb_allegations_fy2020_datasd\n",
       "2   crb_allegations_fy2021_datasd\n",
       "3   crb_allegations_fy2022_datasd\n",
       "4       crb_cases_bwc_fy19_datasd\n",
       "5     crb_cases_bwc_fy2020_datasd\n",
       "6     crb_cases_bwc_fy2021_datasd\n",
       "7     crb_cases_bwc_fy2022_datasd\n",
       "8           crb_cases_fy19_datasd\n",
       "9         crb_cases_fy2020_datasd\n",
       "10        crb_cases_fy2021_datasd\n",
       "11        crb_cases_fy2022_datasd\n",
       "12                     dictionary"
      ]
     },
     "execution_count": 9,
     "metadata": {},
     "output_type": "execute_result"
    }
   ],
   "source": [
    "tables = pd.DataFrame(pd.read_sql('Show Tables', cnx))\n",
    "tables"
   ]
  },
  {
   "cell_type": "markdown",
   "metadata": {},
   "source": [
    "The dictionary explains what each of the variables are in the data sets.  We'll pull the list from the database here."
   ]
  },
  {
   "cell_type": "code",
   "execution_count": 10,
   "metadata": {},
   "outputs": [
    {
     "data": {
      "text/html": [
       "<div>\n",
       "<style scoped>\n",
       "    .dataframe tbody tr th:only-of-type {\n",
       "        vertical-align: middle;\n",
       "    }\n",
       "\n",
       "    .dataframe tbody tr th {\n",
       "        vertical-align: top;\n",
       "    }\n",
       "\n",
       "    .dataframe thead th {\n",
       "        text-align: right;\n",
       "    }\n",
       "</style>\n",
       "<table border=\"1\" class=\"dataframe\">\n",
       "  <thead>\n",
       "    <tr style=\"text-align: right;\">\n",
       "      <th></th>\n",
       "      <th>﻿field</th>\n",
       "      <th>description</th>\n",
       "      <th>possible_values</th>\n",
       "    </tr>\n",
       "  </thead>\n",
       "  <tbody>\n",
       "    <tr>\n",
       "      <th>0</th>\n",
       "      <td>id</td>\n",
       "      <td>Case id</td>\n",
       "      <td></td>\n",
       "    </tr>\n",
       "    <tr>\n",
       "      <th>1</th>\n",
       "      <td>case_number</td>\n",
       "      <td>Case number</td>\n",
       "      <td></td>\n",
       "    </tr>\n",
       "    <tr>\n",
       "      <th>2</th>\n",
       "      <td>team</td>\n",
       "      <td>CRB Team number</td>\n",
       "      <td></td>\n",
       "    </tr>\n",
       "    <tr>\n",
       "      <th>3</th>\n",
       "      <td>date_assigned</td>\n",
       "      <td>Date assigned to CRB</td>\n",
       "      <td></td>\n",
       "    </tr>\n",
       "    <tr>\n",
       "      <th>4</th>\n",
       "      <td>date_completed</td>\n",
       "      <td>Date CRB team completed case</td>\n",
       "      <td></td>\n",
       "    </tr>\n",
       "    <tr>\n",
       "      <th>5</th>\n",
       "      <td>date_presented</td>\n",
       "      <td>Date CRB deliberated on case</td>\n",
       "      <td></td>\n",
       "    </tr>\n",
       "    <tr>\n",
       "      <th>6</th>\n",
       "      <td>days_number</td>\n",
       "      <td></td>\n",
       "      <td></td>\n",
       "    </tr>\n",
       "    <tr>\n",
       "      <th>7</th>\n",
       "      <td>days_60_or_less</td>\n",
       "      <td>Number of days for case to be reviewed</td>\n",
       "      <td></td>\n",
       "    </tr>\n",
       "    <tr>\n",
       "      <th>8</th>\n",
       "      <td>days_90_or_less</td>\n",
       "      <td>Number of days for case to be reviewed</td>\n",
       "      <td></td>\n",
       "    </tr>\n",
       "    <tr>\n",
       "      <th>9</th>\n",
       "      <td>days_120_or_less</td>\n",
       "      <td>Number of days for case to be reviewed</td>\n",
       "      <td></td>\n",
       "    </tr>\n",
       "    <tr>\n",
       "      <th>10</th>\n",
       "      <td>allegation</td>\n",
       "      <td>Allegation in case</td>\n",
       "      <td>ICD: In-Custody-Death; OIS: Officer-Involved-S...</td>\n",
       "    </tr>\n",
       "    <tr>\n",
       "      <th>11</th>\n",
       "      <td>ia_finding</td>\n",
       "      <td>IA finding of the allegation</td>\n",
       "      <td>S: Sustained - The Department member committed...</td>\n",
       "    </tr>\n",
       "    <tr>\n",
       "      <th>12</th>\n",
       "      <td>crb_decision</td>\n",
       "      <td>CRB Decision on IA finding</td>\n",
       "      <td>A: The CRB agreed with the Internal Affairs’ f...</td>\n",
       "    </tr>\n",
       "    <tr>\n",
       "      <th>13</th>\n",
       "      <td>changes</td>\n",
       "      <td>Any changes made to the initial case</td>\n",
       "      <td></td>\n",
       "    </tr>\n",
       "    <tr>\n",
       "      <th>14</th>\n",
       "      <td>vote</td>\n",
       "      <td>Result of CRB vote</td>\n",
       "      <td></td>\n",
       "    </tr>\n",
       "    <tr>\n",
       "      <th>15</th>\n",
       "      <td>unanimous_vote</td>\n",
       "      <td>Whether vote was unanimous</td>\n",
       "      <td>NO, YES</td>\n",
       "    </tr>\n",
       "    <tr>\n",
       "      <th>16</th>\n",
       "      <td>pd_division</td>\n",
       "      <td>SDPD division where incident occurred</td>\n",
       "      <td></td>\n",
       "    </tr>\n",
       "    <tr>\n",
       "      <th>17</th>\n",
       "      <td>crb_viewed_bwc</td>\n",
       "      <td>Whether BWC video was used in case review</td>\n",
       "      <td></td>\n",
       "    </tr>\n",
       "    <tr>\n",
       "      <th>18</th>\n",
       "      <td>complainant_race</td>\n",
       "      <td>Race of complainant</td>\n",
       "      <td></td>\n",
       "    </tr>\n",
       "    <tr>\n",
       "      <th>19</th>\n",
       "      <td>complainant_gender</td>\n",
       "      <td>Gender of complainant</td>\n",
       "      <td></td>\n",
       "    </tr>\n",
       "  </tbody>\n",
       "</table>\n",
       "</div>"
      ],
      "text/plain": [
       "                ﻿field                                description  \\\n",
       "0                   id                                    Case id   \n",
       "1          case_number                                Case number   \n",
       "2                 team                            CRB Team number   \n",
       "3        date_assigned                       Date assigned to CRB   \n",
       "4       date_completed               Date CRB team completed case   \n",
       "5       date_presented               Date CRB deliberated on case   \n",
       "6          days_number                                              \n",
       "7      days_60_or_less     Number of days for case to be reviewed   \n",
       "8      days_90_or_less     Number of days for case to be reviewed   \n",
       "9     days_120_or_less     Number of days for case to be reviewed   \n",
       "10          allegation                         Allegation in case   \n",
       "11          ia_finding               IA finding of the allegation   \n",
       "12        crb_decision                 CRB Decision on IA finding   \n",
       "13             changes       Any changes made to the initial case   \n",
       "14                vote                         Result of CRB vote   \n",
       "15      unanimous_vote                 Whether vote was unanimous   \n",
       "16         pd_division      SDPD division where incident occurred   \n",
       "17      crb_viewed_bwc  Whether BWC video was used in case review   \n",
       "18    complainant_race                        Race of complainant   \n",
       "19  complainant_gender                      Gender of complainant   \n",
       "\n",
       "                                      possible_values  \n",
       "0                                                      \n",
       "1                                                      \n",
       "2                                                      \n",
       "3                                                      \n",
       "4                                                      \n",
       "5                                                      \n",
       "6                                                      \n",
       "7                                                      \n",
       "8                                                      \n",
       "9                                                      \n",
       "10  ICD: In-Custody-Death; OIS: Officer-Involved-S...  \n",
       "11  S: Sustained - The Department member committed...  \n",
       "12  A: The CRB agreed with the Internal Affairs’ f...  \n",
       "13                                                     \n",
       "14                                                     \n",
       "15                                            NO, YES  \n",
       "16                                                     \n",
       "17                                                     \n",
       "18                                                     \n",
       "19                                                     "
      ]
     },
     "execution_count": 10,
     "metadata": {},
     "output_type": "execute_result"
    }
   ],
   "source": [
    "dict_df = pd.DataFrame(pd.read_sql('SELECT * FROM dictionary', cnx))\n",
    "dict_df"
   ]
  },
  {
   "cell_type": "markdown",
   "metadata": {},
   "source": [
    "For our effort, we are most interested in any case specific data.  So we will do a query that pulls the id, case_number, team, allegation, ia_finding, crb_decision, changes, unanimous_vote, pd_division, crb_viewed_bwc, complainant_race, and complainant_gender columns from the data.  We'll start with doing this by year.\n",
    "\n",
    "Note: fy19 is the first year of reporting.  The data here is combined into one table, so no joining is required."
   ]
  },
  {
   "cell_type": "code",
   "execution_count": 11,
   "metadata": {},
   "outputs": [
    {
     "data": {
      "text/html": [
       "<div>\n",
       "<style scoped>\n",
       "    .dataframe tbody tr th:only-of-type {\n",
       "        vertical-align: middle;\n",
       "    }\n",
       "\n",
       "    .dataframe tbody tr th {\n",
       "        vertical-align: top;\n",
       "    }\n",
       "\n",
       "    .dataframe thead th {\n",
       "        text-align: right;\n",
       "    }\n",
       "</style>\n",
       "<table border=\"1\" class=\"dataframe\">\n",
       "  <thead>\n",
       "    <tr style=\"text-align: right;\">\n",
       "      <th></th>\n",
       "      <th>id</th>\n",
       "      <th>case_number</th>\n",
       "      <th>allegation</th>\n",
       "      <th>ia_finding</th>\n",
       "      <th>crb_decision</th>\n",
       "      <th>unanimous_vote</th>\n",
       "      <th>date_assigned</th>\n",
       "      <th>date_presented</th>\n",
       "      <th>pd_division</th>\n",
       "      <th>complainant_race</th>\n",
       "      <th>complainant_gender</th>\n",
       "      <th>changes</th>\n",
       "    </tr>\n",
       "  </thead>\n",
       "  <tbody>\n",
       "    <tr>\n",
       "      <th>0</th>\n",
       "      <td>19-59</td>\n",
       "      <td>2018-0182</td>\n",
       "      <td>ARREST</td>\n",
       "      <td>E</td>\n",
       "      <td>A</td>\n",
       "      <td>YES</td>\n",
       "      <td>1/29/19</td>\n",
       "      <td>6/11/19</td>\n",
       "      <td>CENTRAL</td>\n",
       "      <td>B</td>\n",
       "      <td>M</td>\n",
       "      <td>NO</td>\n",
       "    </tr>\n",
       "    <tr>\n",
       "      <th>1</th>\n",
       "      <td>19-59</td>\n",
       "      <td>2018-0182</td>\n",
       "      <td>FORCE</td>\n",
       "      <td>E</td>\n",
       "      <td>A</td>\n",
       "      <td>YES</td>\n",
       "      <td>1/29/19</td>\n",
       "      <td>6/11/19</td>\n",
       "      <td>CENTRAL</td>\n",
       "      <td>B</td>\n",
       "      <td>M</td>\n",
       "      <td>NO</td>\n",
       "    </tr>\n",
       "    <tr>\n",
       "      <th>2</th>\n",
       "      <td>19-59</td>\n",
       "      <td>2018-0182</td>\n",
       "      <td>OF1 PROCEDURE</td>\n",
       "      <td>S</td>\n",
       "      <td>A</td>\n",
       "      <td>YES</td>\n",
       "      <td>1/29/19</td>\n",
       "      <td>6/11/19</td>\n",
       "      <td>CENTRAL</td>\n",
       "      <td>B</td>\n",
       "      <td>M</td>\n",
       "      <td>NO</td>\n",
       "    </tr>\n",
       "    <tr>\n",
       "      <th>3</th>\n",
       "      <td>19-58</td>\n",
       "      <td>2019-0152</td>\n",
       "      <td>DISCRIMINATION</td>\n",
       "      <td>U</td>\n",
       "      <td>A</td>\n",
       "      <td>YES</td>\n",
       "      <td>4/17/19</td>\n",
       "      <td>6/25/19</td>\n",
       "      <td>WESTERN</td>\n",
       "      <td>W</td>\n",
       "      <td>M</td>\n",
       "      <td>NO</td>\n",
       "    </tr>\n",
       "    <tr>\n",
       "      <th>4</th>\n",
       "      <td>19-58</td>\n",
       "      <td>2019-0152</td>\n",
       "      <td>DISCRIMINATION</td>\n",
       "      <td>U</td>\n",
       "      <td>A</td>\n",
       "      <td>YES</td>\n",
       "      <td>4/17/19</td>\n",
       "      <td>6/25/19</td>\n",
       "      <td>WESTERN</td>\n",
       "      <td>W</td>\n",
       "      <td>M</td>\n",
       "      <td>NO</td>\n",
       "    </tr>\n",
       "  </tbody>\n",
       "</table>\n",
       "</div>"
      ],
      "text/plain": [
       "      id case_number      allegation ia_finding crb_decision unanimous_vote  \\\n",
       "0  19-59   2018-0182          ARREST          E            A            YES   \n",
       "1  19-59   2018-0182           FORCE          E            A            YES   \n",
       "2  19-59   2018-0182   OF1 PROCEDURE          S            A            YES   \n",
       "3  19-58   2019-0152  DISCRIMINATION          U            A            YES   \n",
       "4  19-58   2019-0152  DISCRIMINATION          U            A            YES   \n",
       "\n",
       "  date_assigned date_presented pd_division complainant_race  \\\n",
       "0       1/29/19        6/11/19     CENTRAL                B   \n",
       "1       1/29/19        6/11/19     CENTRAL                B   \n",
       "2       1/29/19        6/11/19     CENTRAL                B   \n",
       "3       4/17/19        6/25/19     WESTERN                W   \n",
       "4       4/17/19        6/25/19     WESTERN                W   \n",
       "\n",
       "  complainant_gender changes  \n",
       "0                  M      NO  \n",
       "1                  M      NO  \n",
       "2                  M      NO  \n",
       "3                  M      NO  \n",
       "4                  M      NO  "
      ]
     },
     "execution_count": 11,
     "metadata": {},
     "output_type": "execute_result"
    }
   ],
   "source": [
    "fy19 = pd.DataFrame(pd.read_sql(\"\"\"SELECT crb_cases_fy19_datasd.id, \n",
    "                                crb_cases_fy19_datasd.case_number,\n",
    "                                crb_cases_fy19_datasd.allegation,\n",
    "                                crb_cases_fy19_datasd.ia_finding,\n",
    "                                crb_cases_fy19_datasd.crb_decision,\n",
    "                                crb_cases_fy19_datasd.unanimous_vote,\n",
    "                                crb_cases_fy19_datasd.date_assigned,\n",
    "                                crb_Cases_fy19_datasd.date_presented,\n",
    "                                crb_cases_fy19_datasd.pd_division,\n",
    "                                crb_cases_fy19_datasd.complainant_race,\n",
    "                                crb_cases_fy19_datasd.complainant_gender,\n",
    "                                crb_cases_fy19_datasd.changes\n",
    "                                FROM crb_cases_fy19_datasd\n",
    "                                ;\"\"\", cnx))\n",
    "\n",
    "fy19.head()"
   ]
  },
  {
   "cell_type": "code",
   "execution_count": 12,
   "metadata": {},
   "outputs": [
    {
     "data": {
      "text/html": [
       "<div>\n",
       "<style scoped>\n",
       "    .dataframe tbody tr th:only-of-type {\n",
       "        vertical-align: middle;\n",
       "    }\n",
       "\n",
       "    .dataframe tbody tr th {\n",
       "        vertical-align: top;\n",
       "    }\n",
       "\n",
       "    .dataframe thead th {\n",
       "        text-align: right;\n",
       "    }\n",
       "</style>\n",
       "<table border=\"1\" class=\"dataframe\">\n",
       "  <thead>\n",
       "    <tr style=\"text-align: right;\">\n",
       "      <th></th>\n",
       "      <th>id</th>\n",
       "      <th>case_number</th>\n",
       "      <th>allegation</th>\n",
       "      <th>ia_finding</th>\n",
       "      <th>crb_decision</th>\n",
       "      <th>unanimous_vote</th>\n",
       "      <th>date_assigned</th>\n",
       "      <th>date_presented</th>\n",
       "      <th>pd_division</th>\n",
       "      <th>crb_viewed_bwc</th>\n",
       "      <th>complainant_race</th>\n",
       "      <th>complainant_gender</th>\n",
       "      <th>changes</th>\n",
       "    </tr>\n",
       "  </thead>\n",
       "  <tbody>\n",
       "    <tr>\n",
       "      <th>0</th>\n",
       "      <td>20-29</td>\n",
       "      <td>2019-0130</td>\n",
       "      <td>OIS</td>\n",
       "      <td>WP</td>\n",
       "      <td>A</td>\n",
       "      <td>YES</td>\n",
       "      <td>2019-11-05</td>\n",
       "      <td>2020-03-10</td>\n",
       "      <td>SOUTHEASTERN</td>\n",
       "      <td>YES</td>\n",
       "      <td>W</td>\n",
       "      <td>M</td>\n",
       "      <td>NO</td>\n",
       "    </tr>\n",
       "    <tr>\n",
       "      <th>1</th>\n",
       "      <td>20-29</td>\n",
       "      <td>2019-0130</td>\n",
       "      <td>OIS</td>\n",
       "      <td>WP</td>\n",
       "      <td>A</td>\n",
       "      <td>YES</td>\n",
       "      <td>2019-11-05</td>\n",
       "      <td>2020-03-10</td>\n",
       "      <td>SOUTHEASTERN</td>\n",
       "      <td>YES</td>\n",
       "      <td>W</td>\n",
       "      <td>M</td>\n",
       "      <td>NO</td>\n",
       "    </tr>\n",
       "    <tr>\n",
       "      <th>2</th>\n",
       "      <td>20-29</td>\n",
       "      <td>2019-0130</td>\n",
       "      <td>OIS</td>\n",
       "      <td>WP</td>\n",
       "      <td>A</td>\n",
       "      <td>YES</td>\n",
       "      <td>2019-11-05</td>\n",
       "      <td>2020-03-10</td>\n",
       "      <td>SOUTHEASTERN</td>\n",
       "      <td>YES</td>\n",
       "      <td>W</td>\n",
       "      <td>M</td>\n",
       "      <td>NO</td>\n",
       "    </tr>\n",
       "    <tr>\n",
       "      <th>3</th>\n",
       "      <td>20-29</td>\n",
       "      <td>2019-0130</td>\n",
       "      <td>OF1-PROCEDURE</td>\n",
       "      <td>S</td>\n",
       "      <td>A</td>\n",
       "      <td>YES</td>\n",
       "      <td>2019-11-05</td>\n",
       "      <td>2020-03-10</td>\n",
       "      <td>SOUTHEASTERN</td>\n",
       "      <td>YES</td>\n",
       "      <td>W</td>\n",
       "      <td>M</td>\n",
       "      <td>NO</td>\n",
       "    </tr>\n",
       "    <tr>\n",
       "      <th>4</th>\n",
       "      <td>20-29</td>\n",
       "      <td>2019-0130</td>\n",
       "      <td>OIS</td>\n",
       "      <td>WP</td>\n",
       "      <td>A</td>\n",
       "      <td>YES</td>\n",
       "      <td>2019-11-05</td>\n",
       "      <td>2020-03-10</td>\n",
       "      <td>SOUTHEASTERN</td>\n",
       "      <td>YES</td>\n",
       "      <td>W</td>\n",
       "      <td>M</td>\n",
       "      <td>NO</td>\n",
       "    </tr>\n",
       "  </tbody>\n",
       "</table>\n",
       "</div>"
      ],
      "text/plain": [
       "      id case_number     allegation ia_finding crb_decision unanimous_vote  \\\n",
       "0  20-29   2019-0130            OIS         WP            A            YES   \n",
       "1  20-29   2019-0130            OIS         WP            A            YES   \n",
       "2  20-29   2019-0130            OIS         WP            A            YES   \n",
       "3  20-29   2019-0130  OF1-PROCEDURE          S            A            YES   \n",
       "4  20-29   2019-0130            OIS         WP            A            YES   \n",
       "\n",
       "  date_assigned date_presented   pd_division crb_viewed_bwc complainant_race  \\\n",
       "0    2019-11-05     2020-03-10  SOUTHEASTERN            YES                W   \n",
       "1    2019-11-05     2020-03-10  SOUTHEASTERN            YES                W   \n",
       "2    2019-11-05     2020-03-10  SOUTHEASTERN            YES                W   \n",
       "3    2019-11-05     2020-03-10  SOUTHEASTERN            YES                W   \n",
       "4    2019-11-05     2020-03-10  SOUTHEASTERN            YES                W   \n",
       "\n",
       "  complainant_gender changes  \n",
       "0                  M      NO  \n",
       "1                  M      NO  \n",
       "2                  M      NO  \n",
       "3                  M      NO  \n",
       "4                  M      NO  "
      ]
     },
     "execution_count": 12,
     "metadata": {},
     "output_type": "execute_result"
    }
   ],
   "source": [
    "fy20 = pd.DataFrame(pd.read_sql(\"\"\"SELECT crb_allegations_fy2020_datasd.id, \n",
    "                                crb_allegations_fy2020_datasd.case_number,\n",
    "                                crb_allegations_fy2020_datasd.allegation,\n",
    "                                crb_allegations_fy2020_datasd.ia_finding,\n",
    "                                crb_allegations_fy2020_datasd.crb_decision,\n",
    "                                crb_allegations_fy2020_datasd.unanimous_vote,\n",
    "                                crb_cases_fy2020_datasd.date_assigned,\n",
    "                                crb_Cases_fy2020_datasd.date_presented,\n",
    "                                crb_cases_fy2020_datasd.pd_division,\n",
    "                                crb_cases_fy2020_datasd.crb_viewed_bwc,\n",
    "                                crb_cases_fy2020_datasd.complainant_race,\n",
    "                                crb_cases_fy2020_datasd.complainant_gender,\n",
    "                                crb_cases_fy2020_datasd.changes\n",
    "                                FROM crb_allegations_fy2020_datasd\n",
    "                                JOIN crb_cases_fy2020_datasd ON crb_allegations_fy2020_datasd.id = crb_cases_fy2020_datasd.id\n",
    "                                ;\"\"\", cnx))\n",
    "\n",
    "fy20.head()"
   ]
  },
  {
   "cell_type": "code",
   "execution_count": 13,
   "metadata": {},
   "outputs": [
    {
     "data": {
      "text/html": [
       "<div>\n",
       "<style scoped>\n",
       "    .dataframe tbody tr th:only-of-type {\n",
       "        vertical-align: middle;\n",
       "    }\n",
       "\n",
       "    .dataframe tbody tr th {\n",
       "        vertical-align: top;\n",
       "    }\n",
       "\n",
       "    .dataframe thead th {\n",
       "        text-align: right;\n",
       "    }\n",
       "</style>\n",
       "<table border=\"1\" class=\"dataframe\">\n",
       "  <thead>\n",
       "    <tr style=\"text-align: right;\">\n",
       "      <th></th>\n",
       "      <th>id</th>\n",
       "      <th>case_number</th>\n",
       "      <th>allegation</th>\n",
       "      <th>ia_finding</th>\n",
       "      <th>crb_decision</th>\n",
       "      <th>unanimous_vote</th>\n",
       "      <th>date_assigned</th>\n",
       "      <th>date_presented</th>\n",
       "      <th>pd_division</th>\n",
       "      <th>crb_viewed_bwc</th>\n",
       "      <th>complainant_race</th>\n",
       "      <th>complainant_gender</th>\n",
       "      <th>changes</th>\n",
       "    </tr>\n",
       "  </thead>\n",
       "  <tbody>\n",
       "    <tr>\n",
       "      <th>0</th>\n",
       "      <td>21-01</td>\n",
       "      <td>2019-0671</td>\n",
       "      <td>FORCE</td>\n",
       "      <td>S</td>\n",
       "      <td>A</td>\n",
       "      <td>YES</td>\n",
       "      <td>2020-05-06</td>\n",
       "      <td>2020-07-28</td>\n",
       "      <td>MID-CITY</td>\n",
       "      <td>YES</td>\n",
       "      <td>B</td>\n",
       "      <td>M</td>\n",
       "      <td>NO</td>\n",
       "    </tr>\n",
       "    <tr>\n",
       "      <th>1</th>\n",
       "      <td>21-02</td>\n",
       "      <td>2019-0617</td>\n",
       "      <td>OF2 PROCEDURE</td>\n",
       "      <td>S</td>\n",
       "      <td>A</td>\n",
       "      <td>YES</td>\n",
       "      <td>2020-04-23</td>\n",
       "      <td>2020-07-28</td>\n",
       "      <td>NATIONAL CITY Special ops</td>\n",
       "      <td>YES</td>\n",
       "      <td></td>\n",
       "      <td>F</td>\n",
       "      <td>NO</td>\n",
       "    </tr>\n",
       "    <tr>\n",
       "      <th>2</th>\n",
       "      <td>21-02</td>\n",
       "      <td>2019-0617</td>\n",
       "      <td>OF3 PROCEDURE</td>\n",
       "      <td>S</td>\n",
       "      <td>A</td>\n",
       "      <td>YES</td>\n",
       "      <td>2020-04-23</td>\n",
       "      <td>2020-07-28</td>\n",
       "      <td>NATIONAL CITY Special ops</td>\n",
       "      <td>YES</td>\n",
       "      <td></td>\n",
       "      <td>F</td>\n",
       "      <td>NO</td>\n",
       "    </tr>\n",
       "    <tr>\n",
       "      <th>3</th>\n",
       "      <td>21-02</td>\n",
       "      <td>2019-0617</td>\n",
       "      <td>FORCE</td>\n",
       "      <td>U</td>\n",
       "      <td>A</td>\n",
       "      <td>YES</td>\n",
       "      <td>2020-04-23</td>\n",
       "      <td>2020-07-28</td>\n",
       "      <td>NATIONAL CITY Special ops</td>\n",
       "      <td>YES</td>\n",
       "      <td></td>\n",
       "      <td>F</td>\n",
       "      <td>NO</td>\n",
       "    </tr>\n",
       "    <tr>\n",
       "      <th>4</th>\n",
       "      <td>21-02</td>\n",
       "      <td>2019-0617</td>\n",
       "      <td>FORCE</td>\n",
       "      <td>U</td>\n",
       "      <td>A</td>\n",
       "      <td>YES</td>\n",
       "      <td>2020-04-23</td>\n",
       "      <td>2020-07-28</td>\n",
       "      <td>NATIONAL CITY Special ops</td>\n",
       "      <td>YES</td>\n",
       "      <td></td>\n",
       "      <td>F</td>\n",
       "      <td>NO</td>\n",
       "    </tr>\n",
       "  </tbody>\n",
       "</table>\n",
       "</div>"
      ],
      "text/plain": [
       "      id case_number     allegation ia_finding crb_decision unanimous_vote  \\\n",
       "0  21-01   2019-0671          FORCE          S            A            YES   \n",
       "1  21-02   2019-0617  OF2 PROCEDURE          S            A            YES   \n",
       "2  21-02   2019-0617  OF3 PROCEDURE          S            A            YES   \n",
       "3  21-02   2019-0617          FORCE          U            A            YES   \n",
       "4  21-02   2019-0617          FORCE          U            A            YES   \n",
       "\n",
       "  date_assigned date_presented                pd_division crb_viewed_bwc  \\\n",
       "0    2020-05-06     2020-07-28                   MID-CITY            YES   \n",
       "1    2020-04-23     2020-07-28  NATIONAL CITY Special ops            YES   \n",
       "2    2020-04-23     2020-07-28  NATIONAL CITY Special ops            YES   \n",
       "3    2020-04-23     2020-07-28  NATIONAL CITY Special ops            YES   \n",
       "4    2020-04-23     2020-07-28  NATIONAL CITY Special ops            YES   \n",
       "\n",
       "  complainant_race complainant_gender changes  \n",
       "0                B                  M      NO  \n",
       "1                                   F      NO  \n",
       "2                                   F      NO  \n",
       "3                                   F      NO  \n",
       "4                                   F      NO  "
      ]
     },
     "execution_count": 13,
     "metadata": {},
     "output_type": "execute_result"
    }
   ],
   "source": [
    "fy21 = pd.DataFrame(pd.read_sql(\"\"\"SELECT crb_allegations_fy2021_datasd.id, \n",
    "                                crb_allegations_fy2021_datasd.case_number,\n",
    "                                crb_allegations_fy2021_datasd.allegation,\n",
    "                                crb_allegations_fy2021_datasd.ia_finding,\n",
    "                                crb_allegations_fy2021_datasd.crb_decision,\n",
    "                                crb_allegations_fy2021_datasd.unanimous_vote,\n",
    "                                crb_cases_fy2021_datasd.date_assigned,\n",
    "                                crb_Cases_fy2021_datasd.date_presented,\n",
    "                                crb_cases_fy2021_datasd.pd_division,\n",
    "                                crb_cases_fy2021_datasd.crb_viewed_bwc,\n",
    "                                crb_cases_fy2021_datasd.complainant_race,\n",
    "                                crb_cases_fy2021_datasd.complainant_gender,\n",
    "                                crb_cases_fy2021_datasd.changes\n",
    "                                FROM crb_allegations_fy2021_datasd\n",
    "                                JOIN crb_cases_fy2021_datasd ON crb_allegations_fy2021_datasd.id = crb_cases_fy2021_datasd.id\n",
    "                                ;\"\"\", cnx))\n",
    "\n",
    "fy21.head()\n"
   ]
  },
  {
   "cell_type": "code",
   "execution_count": 14,
   "metadata": {},
   "outputs": [
    {
     "data": {
      "text/html": [
       "<div>\n",
       "<style scoped>\n",
       "    .dataframe tbody tr th:only-of-type {\n",
       "        vertical-align: middle;\n",
       "    }\n",
       "\n",
       "    .dataframe tbody tr th {\n",
       "        vertical-align: top;\n",
       "    }\n",
       "\n",
       "    .dataframe thead th {\n",
       "        text-align: right;\n",
       "    }\n",
       "</style>\n",
       "<table border=\"1\" class=\"dataframe\">\n",
       "  <thead>\n",
       "    <tr style=\"text-align: right;\">\n",
       "      <th></th>\n",
       "      <th>id</th>\n",
       "      <th>case_number</th>\n",
       "      <th>allegation</th>\n",
       "      <th>ia_finding</th>\n",
       "      <th>crb_decision</th>\n",
       "      <th>unanimous_vote</th>\n",
       "      <th>date_assigned</th>\n",
       "      <th>date_presented</th>\n",
       "      <th>pd_division</th>\n",
       "      <th>crb_viewed_bwc</th>\n",
       "      <th>complainant_race</th>\n",
       "      <th>complainant_gender</th>\n",
       "      <th>changes</th>\n",
       "    </tr>\n",
       "  </thead>\n",
       "  <tbody>\n",
       "    <tr>\n",
       "      <th>0</th>\n",
       "      <td>22-01</td>\n",
       "      <td>2019-0241</td>\n",
       "      <td>PROCEDURE</td>\n",
       "      <td>NS</td>\n",
       "      <td>A</td>\n",
       "      <td>YES</td>\n",
       "      <td>2019-09-05</td>\n",
       "      <td>2021-07-13</td>\n",
       "      <td>SOUTHEASTERN</td>\n",
       "      <td>YES</td>\n",
       "      <td>B</td>\n",
       "      <td>M</td>\n",
       "      <td>YES</td>\n",
       "    </tr>\n",
       "    <tr>\n",
       "      <th>1</th>\n",
       "      <td>22-01</td>\n",
       "      <td>2019-0241</td>\n",
       "      <td>PROCEDURE</td>\n",
       "      <td>U</td>\n",
       "      <td>A</td>\n",
       "      <td>YES</td>\n",
       "      <td>2019-09-05</td>\n",
       "      <td>2021-07-13</td>\n",
       "      <td>SOUTHEASTERN</td>\n",
       "      <td>YES</td>\n",
       "      <td>B</td>\n",
       "      <td>M</td>\n",
       "      <td>YES</td>\n",
       "    </tr>\n",
       "    <tr>\n",
       "      <th>2</th>\n",
       "      <td>22-01</td>\n",
       "      <td>2019-0241</td>\n",
       "      <td>FORCE</td>\n",
       "      <td>E</td>\n",
       "      <td>A/C</td>\n",
       "      <td>YES</td>\n",
       "      <td>2019-09-05</td>\n",
       "      <td>2021-07-13</td>\n",
       "      <td>SOUTHEASTERN</td>\n",
       "      <td>YES</td>\n",
       "      <td>B</td>\n",
       "      <td>M</td>\n",
       "      <td>YES</td>\n",
       "    </tr>\n",
       "    <tr>\n",
       "      <th>3</th>\n",
       "      <td>22-01</td>\n",
       "      <td>2019-0241</td>\n",
       "      <td>ARREST</td>\n",
       "      <td>E</td>\n",
       "      <td>A</td>\n",
       "      <td>YES</td>\n",
       "      <td>2019-09-05</td>\n",
       "      <td>2021-07-13</td>\n",
       "      <td>SOUTHEASTERN</td>\n",
       "      <td>YES</td>\n",
       "      <td>B</td>\n",
       "      <td>M</td>\n",
       "      <td>YES</td>\n",
       "    </tr>\n",
       "    <tr>\n",
       "      <th>4</th>\n",
       "      <td>22-02</td>\n",
       "      <td>2020-0576</td>\n",
       "      <td>DETENTION</td>\n",
       "      <td>E</td>\n",
       "      <td>A/C</td>\n",
       "      <td>YES</td>\n",
       "      <td>2021-05-14</td>\n",
       "      <td>2021-07-13</td>\n",
       "      <td>SOUTHEASTERN</td>\n",
       "      <td>YES</td>\n",
       "      <td>B</td>\n",
       "      <td>M</td>\n",
       "      <td>NO</td>\n",
       "    </tr>\n",
       "  </tbody>\n",
       "</table>\n",
       "</div>"
      ],
      "text/plain": [
       "      id case_number allegation ia_finding crb_decision unanimous_vote  \\\n",
       "0  22-01   2019-0241  PROCEDURE         NS            A            YES   \n",
       "1  22-01   2019-0241  PROCEDURE          U            A            YES   \n",
       "2  22-01   2019-0241      FORCE          E          A/C            YES   \n",
       "3  22-01   2019-0241     ARREST          E            A            YES   \n",
       "4  22-02   2020-0576  DETENTION          E          A/C            YES   \n",
       "\n",
       "  date_assigned date_presented   pd_division crb_viewed_bwc complainant_race  \\\n",
       "0    2019-09-05     2021-07-13  SOUTHEASTERN            YES                B   \n",
       "1    2019-09-05     2021-07-13  SOUTHEASTERN            YES                B   \n",
       "2    2019-09-05     2021-07-13  SOUTHEASTERN            YES                B   \n",
       "3    2019-09-05     2021-07-13  SOUTHEASTERN            YES                B   \n",
       "4    2021-05-14     2021-07-13  SOUTHEASTERN            YES                B   \n",
       "\n",
       "  complainant_gender changes  \n",
       "0                  M     YES  \n",
       "1                  M     YES  \n",
       "2                  M     YES  \n",
       "3                  M     YES  \n",
       "4                  M      NO  "
      ]
     },
     "execution_count": 14,
     "metadata": {},
     "output_type": "execute_result"
    }
   ],
   "source": [
    "fy22 = pd.DataFrame(pd.read_sql(\"\"\"SELECT crb_allegations_fy2022_datasd.id, \n",
    "                                crb_allegations_fy2022_datasd.case_number,\n",
    "                                crb_allegations_fy2022_datasd.allegation,\n",
    "                                crb_allegations_fy2022_datasd.ia_finding,\n",
    "                                crb_allegations_fy2022_datasd.crb_decision,\n",
    "                                crb_allegations_fy2022_datasd.unanimous_vote,\n",
    "                                crb_cases_fy2022_datasd.date_assigned,\n",
    "                                crb_cases_fy2022_datasd.date_presented,\n",
    "                                crb_cases_fy2022_datasd.pd_division,\n",
    "                                crb_cases_fy2022_datasd.crb_viewed_bwc,\n",
    "                                crb_cases_fy2022_datasd.complainant_race,\n",
    "                                crb_cases_fy2022_datasd.complainant_gender,\n",
    "                                crb_cases_fy2022_datasd.changes\n",
    "                                FROM crb_allegations_fy2022_datasd\n",
    "                                JOIN crb_cases_fy2022_datasd ON crb_allegations_fy2022_datasd.id = crb_cases_fy2022_datasd.id\n",
    "                                ;\"\"\", cnx))\n",
    "\n",
    "fy22.head()"
   ]
  },
  {
   "cell_type": "code",
   "execution_count": 15,
   "metadata": {},
   "outputs": [
    {
     "data": {
      "text/html": [
       "<div>\n",
       "<style scoped>\n",
       "    .dataframe tbody tr th:only-of-type {\n",
       "        vertical-align: middle;\n",
       "    }\n",
       "\n",
       "    .dataframe tbody tr th {\n",
       "        vertical-align: top;\n",
       "    }\n",
       "\n",
       "    .dataframe thead th {\n",
       "        text-align: right;\n",
       "    }\n",
       "</style>\n",
       "<table border=\"1\" class=\"dataframe\">\n",
       "  <thead>\n",
       "    <tr style=\"text-align: right;\">\n",
       "      <th></th>\n",
       "      <th>id</th>\n",
       "      <th>case_number</th>\n",
       "      <th>allegation</th>\n",
       "      <th>ia_finding</th>\n",
       "      <th>crb_decision</th>\n",
       "      <th>unanimous_vote</th>\n",
       "      <th>date_assigned</th>\n",
       "      <th>date_presented</th>\n",
       "      <th>pd_division</th>\n",
       "      <th>complainant_race</th>\n",
       "      <th>complainant_gender</th>\n",
       "      <th>changes</th>\n",
       "      <th>crb_viewed_bwc</th>\n",
       "    </tr>\n",
       "  </thead>\n",
       "  <tbody>\n",
       "    <tr>\n",
       "      <th>0</th>\n",
       "      <td>19-59</td>\n",
       "      <td>2018-0182</td>\n",
       "      <td>ARREST</td>\n",
       "      <td>E</td>\n",
       "      <td>A</td>\n",
       "      <td>YES</td>\n",
       "      <td>1/29/19</td>\n",
       "      <td>6/11/19</td>\n",
       "      <td>CENTRAL</td>\n",
       "      <td>B</td>\n",
       "      <td>M</td>\n",
       "      <td>NO</td>\n",
       "      <td>NaN</td>\n",
       "    </tr>\n",
       "    <tr>\n",
       "      <th>1</th>\n",
       "      <td>19-59</td>\n",
       "      <td>2018-0182</td>\n",
       "      <td>FORCE</td>\n",
       "      <td>E</td>\n",
       "      <td>A</td>\n",
       "      <td>YES</td>\n",
       "      <td>1/29/19</td>\n",
       "      <td>6/11/19</td>\n",
       "      <td>CENTRAL</td>\n",
       "      <td>B</td>\n",
       "      <td>M</td>\n",
       "      <td>NO</td>\n",
       "      <td>NaN</td>\n",
       "    </tr>\n",
       "    <tr>\n",
       "      <th>2</th>\n",
       "      <td>19-59</td>\n",
       "      <td>2018-0182</td>\n",
       "      <td>OF1 PROCEDURE</td>\n",
       "      <td>S</td>\n",
       "      <td>A</td>\n",
       "      <td>YES</td>\n",
       "      <td>1/29/19</td>\n",
       "      <td>6/11/19</td>\n",
       "      <td>CENTRAL</td>\n",
       "      <td>B</td>\n",
       "      <td>M</td>\n",
       "      <td>NO</td>\n",
       "      <td>NaN</td>\n",
       "    </tr>\n",
       "    <tr>\n",
       "      <th>3</th>\n",
       "      <td>19-58</td>\n",
       "      <td>2019-0152</td>\n",
       "      <td>DISCRIMINATION</td>\n",
       "      <td>U</td>\n",
       "      <td>A</td>\n",
       "      <td>YES</td>\n",
       "      <td>4/17/19</td>\n",
       "      <td>6/25/19</td>\n",
       "      <td>WESTERN</td>\n",
       "      <td>W</td>\n",
       "      <td>M</td>\n",
       "      <td>NO</td>\n",
       "      <td>NaN</td>\n",
       "    </tr>\n",
       "    <tr>\n",
       "      <th>4</th>\n",
       "      <td>19-58</td>\n",
       "      <td>2019-0152</td>\n",
       "      <td>DISCRIMINATION</td>\n",
       "      <td>U</td>\n",
       "      <td>A</td>\n",
       "      <td>YES</td>\n",
       "      <td>4/17/19</td>\n",
       "      <td>6/25/19</td>\n",
       "      <td>WESTERN</td>\n",
       "      <td>W</td>\n",
       "      <td>M</td>\n",
       "      <td>NO</td>\n",
       "      <td>NaN</td>\n",
       "    </tr>\n",
       "  </tbody>\n",
       "</table>\n",
       "</div>"
      ],
      "text/plain": [
       "      id case_number      allegation ia_finding crb_decision unanimous_vote  \\\n",
       "0  19-59   2018-0182          ARREST          E            A            YES   \n",
       "1  19-59   2018-0182           FORCE          E            A            YES   \n",
       "2  19-59   2018-0182   OF1 PROCEDURE          S            A            YES   \n",
       "3  19-58   2019-0152  DISCRIMINATION          U            A            YES   \n",
       "4  19-58   2019-0152  DISCRIMINATION          U            A            YES   \n",
       "\n",
       "  date_assigned date_presented pd_division complainant_race  \\\n",
       "0       1/29/19        6/11/19     CENTRAL                B   \n",
       "1       1/29/19        6/11/19     CENTRAL                B   \n",
       "2       1/29/19        6/11/19     CENTRAL                B   \n",
       "3       4/17/19        6/25/19     WESTERN                W   \n",
       "4       4/17/19        6/25/19     WESTERN                W   \n",
       "\n",
       "  complainant_gender changes crb_viewed_bwc  \n",
       "0                  M      NO            NaN  \n",
       "1                  M      NO            NaN  \n",
       "2                  M      NO            NaN  \n",
       "3                  M      NO            NaN  \n",
       "4                  M      NO            NaN  "
      ]
     },
     "execution_count": 15,
     "metadata": {},
     "output_type": "execute_result"
    }
   ],
   "source": [
    "allyrs = pd.concat([fy19, fy20, fy21, fy22], axis=0)\n",
    "\n",
    "allyrs = allyrs.reset_index(drop=True)\n",
    "allyrs.head()"
   ]
  },
  {
   "cell_type": "markdown",
   "metadata": {},
   "source": [
    "# Data Cleaning"
   ]
  },
  {
   "cell_type": "markdown",
   "metadata": {},
   "source": [
    "Now that we've pulled data for each year from our database and combined into one database, we'll start processing and cleaning the data"
   ]
  },
  {
   "cell_type": "code",
   "execution_count": 16,
   "metadata": {},
   "outputs": [
    {
     "data": {
      "text/html": [
       "<div>\n",
       "<style scoped>\n",
       "    .dataframe tbody tr th:only-of-type {\n",
       "        vertical-align: middle;\n",
       "    }\n",
       "\n",
       "    .dataframe tbody tr th {\n",
       "        vertical-align: top;\n",
       "    }\n",
       "\n",
       "    .dataframe thead th {\n",
       "        text-align: right;\n",
       "    }\n",
       "</style>\n",
       "<table border=\"1\" class=\"dataframe\">\n",
       "  <thead>\n",
       "    <tr style=\"text-align: right;\">\n",
       "      <th></th>\n",
       "      <th>id</th>\n",
       "      <th>case_number</th>\n",
       "      <th>allegation</th>\n",
       "      <th>ia_finding</th>\n",
       "      <th>crb_decision</th>\n",
       "      <th>unanimous_vote</th>\n",
       "      <th>date_assigned</th>\n",
       "      <th>date_presented</th>\n",
       "      <th>pd_division</th>\n",
       "      <th>complainant_race</th>\n",
       "      <th>complainant_gender</th>\n",
       "      <th>changes</th>\n",
       "      <th>crb_viewed_bwc</th>\n",
       "    </tr>\n",
       "  </thead>\n",
       "  <tbody>\n",
       "    <tr>\n",
       "      <th>0</th>\n",
       "      <td>19-59</td>\n",
       "      <td>2018-0182</td>\n",
       "      <td>ARREST</td>\n",
       "      <td>E</td>\n",
       "      <td>A</td>\n",
       "      <td>YES</td>\n",
       "      <td>1/29/19</td>\n",
       "      <td>6/11/19</td>\n",
       "      <td>CENTRAL</td>\n",
       "      <td>B</td>\n",
       "      <td>M</td>\n",
       "      <td>NO</td>\n",
       "      <td>NaN</td>\n",
       "    </tr>\n",
       "    <tr>\n",
       "      <th>1</th>\n",
       "      <td>19-59</td>\n",
       "      <td>2018-0182</td>\n",
       "      <td>FORCE</td>\n",
       "      <td>E</td>\n",
       "      <td>A</td>\n",
       "      <td>YES</td>\n",
       "      <td>1/29/19</td>\n",
       "      <td>6/11/19</td>\n",
       "      <td>CENTRAL</td>\n",
       "      <td>B</td>\n",
       "      <td>M</td>\n",
       "      <td>NO</td>\n",
       "      <td>NaN</td>\n",
       "    </tr>\n",
       "    <tr>\n",
       "      <th>2</th>\n",
       "      <td>19-59</td>\n",
       "      <td>2018-0182</td>\n",
       "      <td>OF1 PROCEDURE</td>\n",
       "      <td>S</td>\n",
       "      <td>A</td>\n",
       "      <td>YES</td>\n",
       "      <td>1/29/19</td>\n",
       "      <td>6/11/19</td>\n",
       "      <td>CENTRAL</td>\n",
       "      <td>B</td>\n",
       "      <td>M</td>\n",
       "      <td>NO</td>\n",
       "      <td>NaN</td>\n",
       "    </tr>\n",
       "    <tr>\n",
       "      <th>3</th>\n",
       "      <td>19-58</td>\n",
       "      <td>2019-0152</td>\n",
       "      <td>DISCRIMINATION</td>\n",
       "      <td>U</td>\n",
       "      <td>A</td>\n",
       "      <td>YES</td>\n",
       "      <td>4/17/19</td>\n",
       "      <td>6/25/19</td>\n",
       "      <td>WESTERN</td>\n",
       "      <td>W</td>\n",
       "      <td>M</td>\n",
       "      <td>NO</td>\n",
       "      <td>NaN</td>\n",
       "    </tr>\n",
       "    <tr>\n",
       "      <th>4</th>\n",
       "      <td>19-58</td>\n",
       "      <td>2019-0152</td>\n",
       "      <td>DISCRIMINATION</td>\n",
       "      <td>U</td>\n",
       "      <td>A</td>\n",
       "      <td>YES</td>\n",
       "      <td>4/17/19</td>\n",
       "      <td>6/25/19</td>\n",
       "      <td>WESTERN</td>\n",
       "      <td>W</td>\n",
       "      <td>M</td>\n",
       "      <td>NO</td>\n",
       "      <td>NaN</td>\n",
       "    </tr>\n",
       "  </tbody>\n",
       "</table>\n",
       "</div>"
      ],
      "text/plain": [
       "      id case_number      allegation ia_finding crb_decision unanimous_vote  \\\n",
       "0  19-59   2018-0182          ARREST          E            A            YES   \n",
       "1  19-59   2018-0182           FORCE          E            A            YES   \n",
       "2  19-59   2018-0182   OF1 PROCEDURE          S            A            YES   \n",
       "3  19-58   2019-0152  DISCRIMINATION          U            A            YES   \n",
       "4  19-58   2019-0152  DISCRIMINATION          U            A            YES   \n",
       "\n",
       "  date_assigned date_presented pd_division complainant_race  \\\n",
       "0       1/29/19        6/11/19     CENTRAL                B   \n",
       "1       1/29/19        6/11/19     CENTRAL                B   \n",
       "2       1/29/19        6/11/19     CENTRAL                B   \n",
       "3       4/17/19        6/25/19     WESTERN                W   \n",
       "4       4/17/19        6/25/19     WESTERN                W   \n",
       "\n",
       "  complainant_gender changes crb_viewed_bwc  \n",
       "0                  M      NO            NaN  \n",
       "1                  M      NO            NaN  \n",
       "2                  M      NO            NaN  \n",
       "3                  M      NO            NaN  \n",
       "4                  M      NO            NaN  "
      ]
     },
     "execution_count": 16,
     "metadata": {},
     "output_type": "execute_result"
    }
   ],
   "source": [
    "allyrs.head()"
   ]
  },
  {
   "cell_type": "code",
   "execution_count": 17,
   "metadata": {},
   "outputs": [
    {
     "data": {
      "text/html": [
       "<div>\n",
       "<style scoped>\n",
       "    .dataframe tbody tr th:only-of-type {\n",
       "        vertical-align: middle;\n",
       "    }\n",
       "\n",
       "    .dataframe tbody tr th {\n",
       "        vertical-align: top;\n",
       "    }\n",
       "\n",
       "    .dataframe thead th {\n",
       "        text-align: right;\n",
       "    }\n",
       "</style>\n",
       "<table border=\"1\" class=\"dataframe\">\n",
       "  <thead>\n",
       "    <tr style=\"text-align: right;\">\n",
       "      <th></th>\n",
       "      <th>id</th>\n",
       "      <th>case_number</th>\n",
       "      <th>allegation</th>\n",
       "      <th>ia_finding</th>\n",
       "      <th>crb_decision</th>\n",
       "      <th>unanimous_vote</th>\n",
       "      <th>date_assigned</th>\n",
       "      <th>date_presented</th>\n",
       "      <th>pd_division</th>\n",
       "      <th>crb_viewed_bwc</th>\n",
       "      <th>complainant_race</th>\n",
       "      <th>complainant_gender</th>\n",
       "      <th>changes</th>\n",
       "    </tr>\n",
       "  </thead>\n",
       "  <tbody>\n",
       "    <tr>\n",
       "      <th>0</th>\n",
       "      <td>21-01</td>\n",
       "      <td>2019-0671</td>\n",
       "      <td>FORCE</td>\n",
       "      <td>S</td>\n",
       "      <td>A</td>\n",
       "      <td>YES</td>\n",
       "      <td>2020-05-06</td>\n",
       "      <td>2020-07-28</td>\n",
       "      <td>MID-CITY</td>\n",
       "      <td>YES</td>\n",
       "      <td>B</td>\n",
       "      <td>M</td>\n",
       "      <td>NO</td>\n",
       "    </tr>\n",
       "    <tr>\n",
       "      <th>1</th>\n",
       "      <td>21-02</td>\n",
       "      <td>2019-0617</td>\n",
       "      <td>OF2 PROCEDURE</td>\n",
       "      <td>S</td>\n",
       "      <td>A</td>\n",
       "      <td>YES</td>\n",
       "      <td>2020-04-23</td>\n",
       "      <td>2020-07-28</td>\n",
       "      <td>NATIONAL CITY Special ops</td>\n",
       "      <td>YES</td>\n",
       "      <td></td>\n",
       "      <td>F</td>\n",
       "      <td>NO</td>\n",
       "    </tr>\n",
       "    <tr>\n",
       "      <th>2</th>\n",
       "      <td>21-02</td>\n",
       "      <td>2019-0617</td>\n",
       "      <td>OF3 PROCEDURE</td>\n",
       "      <td>S</td>\n",
       "      <td>A</td>\n",
       "      <td>YES</td>\n",
       "      <td>2020-04-23</td>\n",
       "      <td>2020-07-28</td>\n",
       "      <td>NATIONAL CITY Special ops</td>\n",
       "      <td>YES</td>\n",
       "      <td></td>\n",
       "      <td>F</td>\n",
       "      <td>NO</td>\n",
       "    </tr>\n",
       "    <tr>\n",
       "      <th>3</th>\n",
       "      <td>21-02</td>\n",
       "      <td>2019-0617</td>\n",
       "      <td>FORCE</td>\n",
       "      <td>U</td>\n",
       "      <td>A</td>\n",
       "      <td>YES</td>\n",
       "      <td>2020-04-23</td>\n",
       "      <td>2020-07-28</td>\n",
       "      <td>NATIONAL CITY Special ops</td>\n",
       "      <td>YES</td>\n",
       "      <td></td>\n",
       "      <td>F</td>\n",
       "      <td>NO</td>\n",
       "    </tr>\n",
       "    <tr>\n",
       "      <th>4</th>\n",
       "      <td>21-02</td>\n",
       "      <td>2019-0617</td>\n",
       "      <td>FORCE</td>\n",
       "      <td>U</td>\n",
       "      <td>A</td>\n",
       "      <td>YES</td>\n",
       "      <td>2020-04-23</td>\n",
       "      <td>2020-07-28</td>\n",
       "      <td>NATIONAL CITY Special ops</td>\n",
       "      <td>YES</td>\n",
       "      <td></td>\n",
       "      <td>F</td>\n",
       "      <td>NO</td>\n",
       "    </tr>\n",
       "  </tbody>\n",
       "</table>\n",
       "</div>"
      ],
      "text/plain": [
       "      id case_number     allegation ia_finding crb_decision unanimous_vote  \\\n",
       "0  21-01   2019-0671          FORCE          S            A            YES   \n",
       "1  21-02   2019-0617  OF2 PROCEDURE          S            A            YES   \n",
       "2  21-02   2019-0617  OF3 PROCEDURE          S            A            YES   \n",
       "3  21-02   2019-0617          FORCE          U            A            YES   \n",
       "4  21-02   2019-0617          FORCE          U            A            YES   \n",
       "\n",
       "  date_assigned date_presented                pd_division crb_viewed_bwc  \\\n",
       "0    2020-05-06     2020-07-28                   MID-CITY            YES   \n",
       "1    2020-04-23     2020-07-28  NATIONAL CITY Special ops            YES   \n",
       "2    2020-04-23     2020-07-28  NATIONAL CITY Special ops            YES   \n",
       "3    2020-04-23     2020-07-28  NATIONAL CITY Special ops            YES   \n",
       "4    2020-04-23     2020-07-28  NATIONAL CITY Special ops            YES   \n",
       "\n",
       "  complainant_race complainant_gender changes  \n",
       "0                B                  M      NO  \n",
       "1                                   F      NO  \n",
       "2                                   F      NO  \n",
       "3                                   F      NO  \n",
       "4                                   F      NO  "
      ]
     },
     "execution_count": 17,
     "metadata": {},
     "output_type": "execute_result"
    }
   ],
   "source": [
    "fy21.head()"
   ]
  },
  {
   "cell_type": "code",
   "execution_count": 18,
   "metadata": {},
   "outputs": [
    {
     "data": {
      "text/plain": [
       "id                    object\n",
       "case_number           object\n",
       "allegation            object\n",
       "ia_finding            object\n",
       "crb_decision          object\n",
       "unanimous_vote        object\n",
       "date_assigned         object\n",
       "date_presented        object\n",
       "pd_division           object\n",
       "complainant_race      object\n",
       "complainant_gender    object\n",
       "changes               object\n",
       "crb_viewed_bwc        object\n",
       "dtype: object"
      ]
     },
     "execution_count": 18,
     "metadata": {},
     "output_type": "execute_result"
    }
   ],
   "source": [
    "#Inspect the dataframe\n",
    "allyrs.dtypes"
   ]
  },
  {
   "cell_type": "code",
   "execution_count": 19,
   "metadata": {},
   "outputs": [
    {
     "data": {
      "text/plain": [
       "1947"
      ]
     },
     "execution_count": 19,
     "metadata": {},
     "output_type": "execute_result"
    }
   ],
   "source": [
    "#Total number of cases from 2019 to 2022\n",
    "len(allyrs)"
   ]
  },
  {
   "cell_type": "code",
   "execution_count": 20,
   "metadata": {},
   "outputs": [
    {
     "data": {
      "text/plain": [
       "id                      0\n",
       "case_number             0\n",
       "allegation              0\n",
       "ia_finding              0\n",
       "crb_decision            0\n",
       "unanimous_vote          0\n",
       "date_assigned           0\n",
       "date_presented          0\n",
       "pd_division             0\n",
       "complainant_race        0\n",
       "complainant_gender      0\n",
       "changes                 0\n",
       "crb_viewed_bwc        213\n",
       "dtype: int64"
      ]
     },
     "execution_count": 20,
     "metadata": {},
     "output_type": "execute_result"
    }
   ],
   "source": [
    "allyrs.isna().sum()"
   ]
  },
  {
   "cell_type": "code",
   "execution_count": 21,
   "metadata": {},
   "outputs": [
    {
     "data": {
      "text/plain": [
       "id                    0\n",
       "case_number           0\n",
       "allegation            0\n",
       "ia_finding            0\n",
       "crb_decision          0\n",
       "unanimous_vote        0\n",
       "date_assigned         0\n",
       "date_presented        0\n",
       "pd_division           0\n",
       "complainant_race      0\n",
       "complainant_gender    0\n",
       "changes               0\n",
       "crb_viewed_bwc        0\n",
       "dtype: int64"
      ]
     },
     "execution_count": 21,
     "metadata": {},
     "output_type": "execute_result"
    }
   ],
   "source": [
    "# replace na values in allyrs with 'NO'\n",
    "allyrs['crb_viewed_bwc'] = allyrs['crb_viewed_bwc'].fillna('NO')\n",
    "allyrs.isna().sum()"
   ]
  },
  {
   "cell_type": "code",
   "execution_count": 22,
   "metadata": {},
   "outputs": [
    {
     "ename": "ValueError",
     "evalue": "time data \"1/29/19\" doesn't match format \"%Y-%m-%d\", at position 0. You might want to try:\n    - passing `format` if your strings have a consistent format;\n    - passing `format='ISO8601'` if your strings are all ISO8601 but not necessarily in exactly the same format;\n    - passing `format='mixed'`, and the format will be inferred for each element individually. You might want to use `dayfirst` alongside this.",
     "output_type": "error",
     "traceback": [
      "\u001b[1;31m---------------------------------------------------------------------------\u001b[0m",
      "\u001b[1;31mValueError\u001b[0m                                Traceback (most recent call last)",
      "\u001b[1;32m<ipython-input-22-7504303af9c7>\u001b[0m in \u001b[0;36m<module>\u001b[1;34m\u001b[0m\n\u001b[0;32m      7\u001b[0m \u001b[1;32mfor\u001b[0m \u001b[0mdf\u001b[0m \u001b[1;32min\u001b[0m \u001b[0mdfs\u001b[0m\u001b[1;33m:\u001b[0m\u001b[1;33m\u001b[0m\u001b[1;33m\u001b[0m\u001b[0m\n\u001b[0;32m      8\u001b[0m     \u001b[1;31m# Convert date columns to datetime with \"YYYY-MM-DD\" format\u001b[0m\u001b[1;33m\u001b[0m\u001b[1;33m\u001b[0m\u001b[1;33m\u001b[0m\u001b[0m\n\u001b[1;32m----> 9\u001b[1;33m     \u001b[0mdf\u001b[0m\u001b[1;33m[\u001b[0m\u001b[0mdate_columns\u001b[0m\u001b[1;33m]\u001b[0m \u001b[1;33m=\u001b[0m \u001b[0mdf\u001b[0m\u001b[1;33m[\u001b[0m\u001b[0mdate_columns\u001b[0m\u001b[1;33m]\u001b[0m\u001b[1;33m.\u001b[0m\u001b[0mapply\u001b[0m\u001b[1;33m(\u001b[0m\u001b[0mpd\u001b[0m\u001b[1;33m.\u001b[0m\u001b[0mto_datetime\u001b[0m\u001b[1;33m,\u001b[0m \u001b[0mformat\u001b[0m\u001b[1;33m=\u001b[0m\u001b[1;34m'%Y-%m-%d'\u001b[0m\u001b[1;33m)\u001b[0m\u001b[1;33m\u001b[0m\u001b[1;33m\u001b[0m\u001b[0m\n\u001b[0m\u001b[0;32m     10\u001b[0m \u001b[1;33m\u001b[0m\u001b[0m\n",
      "\u001b[1;32mc:\\Users\\earne\\Anaconda3\\lib\\site-packages\\pandas\\core\\frame.py\u001b[0m in \u001b[0;36mapply\u001b[1;34m(self, func, axis, raw, result_type, args, **kwargs)\u001b[0m\n\u001b[0;32m   9421\u001b[0m             \u001b[0mkwargs\u001b[0m\u001b[1;33m=\u001b[0m\u001b[0mkwargs\u001b[0m\u001b[1;33m,\u001b[0m\u001b[1;33m\u001b[0m\u001b[1;33m\u001b[0m\u001b[0m\n\u001b[0;32m   9422\u001b[0m         )\n\u001b[1;32m-> 9423\u001b[1;33m         \u001b[1;32mreturn\u001b[0m \u001b[0mop\u001b[0m\u001b[1;33m.\u001b[0m\u001b[0mapply\u001b[0m\u001b[1;33m(\u001b[0m\u001b[1;33m)\u001b[0m\u001b[1;33m.\u001b[0m\u001b[0m__finalize__\u001b[0m\u001b[1;33m(\u001b[0m\u001b[0mself\u001b[0m\u001b[1;33m,\u001b[0m \u001b[0mmethod\u001b[0m\u001b[1;33m=\u001b[0m\u001b[1;34m\"apply\"\u001b[0m\u001b[1;33m)\u001b[0m\u001b[1;33m\u001b[0m\u001b[1;33m\u001b[0m\u001b[0m\n\u001b[0m\u001b[0;32m   9424\u001b[0m \u001b[1;33m\u001b[0m\u001b[0m\n\u001b[0;32m   9425\u001b[0m     def applymap(\n",
      "\u001b[1;32mc:\\Users\\earne\\Anaconda3\\lib\\site-packages\\pandas\\core\\apply.py\u001b[0m in \u001b[0;36mapply\u001b[1;34m(self)\u001b[0m\n\u001b[0;32m    676\u001b[0m             \u001b[1;32mreturn\u001b[0m \u001b[0mself\u001b[0m\u001b[1;33m.\u001b[0m\u001b[0mapply_raw\u001b[0m\u001b[1;33m(\u001b[0m\u001b[1;33m)\u001b[0m\u001b[1;33m\u001b[0m\u001b[1;33m\u001b[0m\u001b[0m\n\u001b[0;32m    677\u001b[0m \u001b[1;33m\u001b[0m\u001b[0m\n\u001b[1;32m--> 678\u001b[1;33m         \u001b[1;32mreturn\u001b[0m \u001b[0mself\u001b[0m\u001b[1;33m.\u001b[0m\u001b[0mapply_standard\u001b[0m\u001b[1;33m(\u001b[0m\u001b[1;33m)\u001b[0m\u001b[1;33m\u001b[0m\u001b[1;33m\u001b[0m\u001b[0m\n\u001b[0m\u001b[0;32m    679\u001b[0m \u001b[1;33m\u001b[0m\u001b[0m\n\u001b[0;32m    680\u001b[0m     \u001b[1;32mdef\u001b[0m \u001b[0magg\u001b[0m\u001b[1;33m(\u001b[0m\u001b[0mself\u001b[0m\u001b[1;33m)\u001b[0m\u001b[1;33m:\u001b[0m\u001b[1;33m\u001b[0m\u001b[1;33m\u001b[0m\u001b[0m\n",
      "\u001b[1;32mc:\\Users\\earne\\Anaconda3\\lib\\site-packages\\pandas\\core\\apply.py\u001b[0m in \u001b[0;36mapply_standard\u001b[1;34m(self)\u001b[0m\n\u001b[0;32m    796\u001b[0m \u001b[1;33m\u001b[0m\u001b[0m\n\u001b[0;32m    797\u001b[0m     \u001b[1;32mdef\u001b[0m \u001b[0mapply_standard\u001b[0m\u001b[1;33m(\u001b[0m\u001b[0mself\u001b[0m\u001b[1;33m)\u001b[0m\u001b[1;33m:\u001b[0m\u001b[1;33m\u001b[0m\u001b[1;33m\u001b[0m\u001b[0m\n\u001b[1;32m--> 798\u001b[1;33m         \u001b[0mresults\u001b[0m\u001b[1;33m,\u001b[0m \u001b[0mres_index\u001b[0m \u001b[1;33m=\u001b[0m \u001b[0mself\u001b[0m\u001b[1;33m.\u001b[0m\u001b[0mapply_series_generator\u001b[0m\u001b[1;33m(\u001b[0m\u001b[1;33m)\u001b[0m\u001b[1;33m\u001b[0m\u001b[1;33m\u001b[0m\u001b[0m\n\u001b[0m\u001b[0;32m    799\u001b[0m \u001b[1;33m\u001b[0m\u001b[0m\n\u001b[0;32m    800\u001b[0m         \u001b[1;31m# wrap results\u001b[0m\u001b[1;33m\u001b[0m\u001b[1;33m\u001b[0m\u001b[1;33m\u001b[0m\u001b[0m\n",
      "\u001b[1;32mc:\\Users\\earne\\Anaconda3\\lib\\site-packages\\pandas\\core\\apply.py\u001b[0m in \u001b[0;36mapply_series_generator\u001b[1;34m(self)\u001b[0m\n\u001b[0;32m    812\u001b[0m             \u001b[1;32mfor\u001b[0m \u001b[0mi\u001b[0m\u001b[1;33m,\u001b[0m \u001b[0mv\u001b[0m \u001b[1;32min\u001b[0m \u001b[0menumerate\u001b[0m\u001b[1;33m(\u001b[0m\u001b[0mseries_gen\u001b[0m\u001b[1;33m)\u001b[0m\u001b[1;33m:\u001b[0m\u001b[1;33m\u001b[0m\u001b[1;33m\u001b[0m\u001b[0m\n\u001b[0;32m    813\u001b[0m                 \u001b[1;31m# ignore SettingWithCopy here in case the user mutates\u001b[0m\u001b[1;33m\u001b[0m\u001b[1;33m\u001b[0m\u001b[1;33m\u001b[0m\u001b[0m\n\u001b[1;32m--> 814\u001b[1;33m                 \u001b[0mresults\u001b[0m\u001b[1;33m[\u001b[0m\u001b[0mi\u001b[0m\u001b[1;33m]\u001b[0m \u001b[1;33m=\u001b[0m \u001b[0mself\u001b[0m\u001b[1;33m.\u001b[0m\u001b[0mf\u001b[0m\u001b[1;33m(\u001b[0m\u001b[0mv\u001b[0m\u001b[1;33m)\u001b[0m\u001b[1;33m\u001b[0m\u001b[1;33m\u001b[0m\u001b[0m\n\u001b[0m\u001b[0;32m    815\u001b[0m                 \u001b[1;32mif\u001b[0m \u001b[0misinstance\u001b[0m\u001b[1;33m(\u001b[0m\u001b[0mresults\u001b[0m\u001b[1;33m[\u001b[0m\u001b[0mi\u001b[0m\u001b[1;33m]\u001b[0m\u001b[1;33m,\u001b[0m \u001b[0mABCSeries\u001b[0m\u001b[1;33m)\u001b[0m\u001b[1;33m:\u001b[0m\u001b[1;33m\u001b[0m\u001b[1;33m\u001b[0m\u001b[0m\n\u001b[0;32m    816\u001b[0m                     \u001b[1;31m# If we have a view on v, we need to make a copy because\u001b[0m\u001b[1;33m\u001b[0m\u001b[1;33m\u001b[0m\u001b[1;33m\u001b[0m\u001b[0m\n",
      "\u001b[1;32mc:\\Users\\earne\\Anaconda3\\lib\\site-packages\\pandas\\core\\apply.py\u001b[0m in \u001b[0;36mf\u001b[1;34m(x)\u001b[0m\n\u001b[0;32m    131\u001b[0m \u001b[1;33m\u001b[0m\u001b[0m\n\u001b[0;32m    132\u001b[0m             \u001b[1;32mdef\u001b[0m \u001b[0mf\u001b[0m\u001b[1;33m(\u001b[0m\u001b[0mx\u001b[0m\u001b[1;33m)\u001b[0m\u001b[1;33m:\u001b[0m\u001b[1;33m\u001b[0m\u001b[1;33m\u001b[0m\u001b[0m\n\u001b[1;32m--> 133\u001b[1;33m                 \u001b[1;32mreturn\u001b[0m \u001b[0mfunc\u001b[0m\u001b[1;33m(\u001b[0m\u001b[0mx\u001b[0m\u001b[1;33m,\u001b[0m \u001b[1;33m*\u001b[0m\u001b[0margs\u001b[0m\u001b[1;33m,\u001b[0m \u001b[1;33m**\u001b[0m\u001b[0mkwargs\u001b[0m\u001b[1;33m)\u001b[0m\u001b[1;33m\u001b[0m\u001b[1;33m\u001b[0m\u001b[0m\n\u001b[0m\u001b[0;32m    134\u001b[0m \u001b[1;33m\u001b[0m\u001b[0m\n\u001b[0;32m    135\u001b[0m         \u001b[1;32melse\u001b[0m\u001b[1;33m:\u001b[0m\u001b[1;33m\u001b[0m\u001b[1;33m\u001b[0m\u001b[0m\n",
      "\u001b[1;32mc:\\Users\\earne\\Anaconda3\\lib\\site-packages\\pandas\\core\\tools\\datetimes.py\u001b[0m in \u001b[0;36mto_datetime\u001b[1;34m(arg, errors, dayfirst, yearfirst, utc, format, exact, unit, infer_datetime_format, origin, cache)\u001b[0m\n\u001b[0;32m   1044\u001b[0m                 \u001b[0mresult\u001b[0m \u001b[1;33m=\u001b[0m \u001b[0marg\u001b[0m\u001b[1;33m.\u001b[0m\u001b[0mtz_localize\u001b[0m\u001b[1;33m(\u001b[0m\u001b[1;34m\"utc\"\u001b[0m\u001b[1;33m)\u001b[0m\u001b[1;33m\u001b[0m\u001b[1;33m\u001b[0m\u001b[0m\n\u001b[0;32m   1045\u001b[0m     \u001b[1;32melif\u001b[0m \u001b[0misinstance\u001b[0m\u001b[1;33m(\u001b[0m\u001b[0marg\u001b[0m\u001b[1;33m,\u001b[0m \u001b[0mABCSeries\u001b[0m\u001b[1;33m)\u001b[0m\u001b[1;33m:\u001b[0m\u001b[1;33m\u001b[0m\u001b[1;33m\u001b[0m\u001b[0m\n\u001b[1;32m-> 1046\u001b[1;33m         \u001b[0mcache_array\u001b[0m \u001b[1;33m=\u001b[0m \u001b[0m_maybe_cache\u001b[0m\u001b[1;33m(\u001b[0m\u001b[0marg\u001b[0m\u001b[1;33m,\u001b[0m \u001b[0mformat\u001b[0m\u001b[1;33m,\u001b[0m \u001b[0mcache\u001b[0m\u001b[1;33m,\u001b[0m \u001b[0mconvert_listlike\u001b[0m\u001b[1;33m)\u001b[0m\u001b[1;33m\u001b[0m\u001b[1;33m\u001b[0m\u001b[0m\n\u001b[0m\u001b[0;32m   1047\u001b[0m         \u001b[1;32mif\u001b[0m \u001b[1;32mnot\u001b[0m \u001b[0mcache_array\u001b[0m\u001b[1;33m.\u001b[0m\u001b[0mempty\u001b[0m\u001b[1;33m:\u001b[0m\u001b[1;33m\u001b[0m\u001b[1;33m\u001b[0m\u001b[0m\n\u001b[0;32m   1048\u001b[0m             \u001b[0mresult\u001b[0m \u001b[1;33m=\u001b[0m \u001b[0marg\u001b[0m\u001b[1;33m.\u001b[0m\u001b[0mmap\u001b[0m\u001b[1;33m(\u001b[0m\u001b[0mcache_array\u001b[0m\u001b[1;33m)\u001b[0m\u001b[1;33m\u001b[0m\u001b[1;33m\u001b[0m\u001b[0m\n",
      "\u001b[1;32mc:\\Users\\earne\\Anaconda3\\lib\\site-packages\\pandas\\core\\tools\\datetimes.py\u001b[0m in \u001b[0;36m_maybe_cache\u001b[1;34m(arg, format, cache, convert_listlike)\u001b[0m\n\u001b[0;32m    248\u001b[0m         \u001b[0munique_dates\u001b[0m \u001b[1;33m=\u001b[0m \u001b[0munique\u001b[0m\u001b[1;33m(\u001b[0m\u001b[0marg\u001b[0m\u001b[1;33m)\u001b[0m\u001b[1;33m\u001b[0m\u001b[1;33m\u001b[0m\u001b[0m\n\u001b[0;32m    249\u001b[0m         \u001b[1;32mif\u001b[0m \u001b[0mlen\u001b[0m\u001b[1;33m(\u001b[0m\u001b[0munique_dates\u001b[0m\u001b[1;33m)\u001b[0m \u001b[1;33m<\u001b[0m \u001b[0mlen\u001b[0m\u001b[1;33m(\u001b[0m\u001b[0marg\u001b[0m\u001b[1;33m)\u001b[0m\u001b[1;33m:\u001b[0m\u001b[1;33m\u001b[0m\u001b[1;33m\u001b[0m\u001b[0m\n\u001b[1;32m--> 250\u001b[1;33m             \u001b[0mcache_dates\u001b[0m \u001b[1;33m=\u001b[0m \u001b[0mconvert_listlike\u001b[0m\u001b[1;33m(\u001b[0m\u001b[0munique_dates\u001b[0m\u001b[1;33m,\u001b[0m \u001b[0mformat\u001b[0m\u001b[1;33m)\u001b[0m\u001b[1;33m\u001b[0m\u001b[1;33m\u001b[0m\u001b[0m\n\u001b[0m\u001b[0;32m    251\u001b[0m             \u001b[1;31m# GH#45319\u001b[0m\u001b[1;33m\u001b[0m\u001b[1;33m\u001b[0m\u001b[1;33m\u001b[0m\u001b[0m\n\u001b[0;32m    252\u001b[0m             \u001b[1;32mtry\u001b[0m\u001b[1;33m:\u001b[0m\u001b[1;33m\u001b[0m\u001b[1;33m\u001b[0m\u001b[0m\n",
      "\u001b[1;32mc:\\Users\\earne\\Anaconda3\\lib\\site-packages\\pandas\\core\\tools\\datetimes.py\u001b[0m in \u001b[0;36m_convert_listlike_datetimes\u001b[1;34m(arg, format, name, utc, unit, errors, dayfirst, yearfirst, exact)\u001b[0m\n\u001b[0;32m    451\u001b[0m     \u001b[1;31m# `format` could be inferred, or user didn't ask for mixed-format parsing.\u001b[0m\u001b[1;33m\u001b[0m\u001b[1;33m\u001b[0m\u001b[1;33m\u001b[0m\u001b[0m\n\u001b[0;32m    452\u001b[0m     \u001b[1;32mif\u001b[0m \u001b[0mformat\u001b[0m \u001b[1;32mis\u001b[0m \u001b[1;32mnot\u001b[0m \u001b[1;32mNone\u001b[0m \u001b[1;32mand\u001b[0m \u001b[0mformat\u001b[0m \u001b[1;33m!=\u001b[0m \u001b[1;34m\"mixed\"\u001b[0m\u001b[1;33m:\u001b[0m\u001b[1;33m\u001b[0m\u001b[1;33m\u001b[0m\u001b[0m\n\u001b[1;32m--> 453\u001b[1;33m         \u001b[1;32mreturn\u001b[0m \u001b[0m_array_strptime_with_fallback\u001b[0m\u001b[1;33m(\u001b[0m\u001b[0marg\u001b[0m\u001b[1;33m,\u001b[0m \u001b[0mname\u001b[0m\u001b[1;33m,\u001b[0m \u001b[0mutc\u001b[0m\u001b[1;33m,\u001b[0m \u001b[0mformat\u001b[0m\u001b[1;33m,\u001b[0m \u001b[0mexact\u001b[0m\u001b[1;33m,\u001b[0m \u001b[0merrors\u001b[0m\u001b[1;33m)\u001b[0m\u001b[1;33m\u001b[0m\u001b[1;33m\u001b[0m\u001b[0m\n\u001b[0m\u001b[0;32m    454\u001b[0m \u001b[1;33m\u001b[0m\u001b[0m\n\u001b[0;32m    455\u001b[0m     result, tz_parsed = objects_to_datetime64ns(\n",
      "\u001b[1;32mc:\\Users\\earne\\Anaconda3\\lib\\site-packages\\pandas\\core\\tools\\datetimes.py\u001b[0m in \u001b[0;36m_array_strptime_with_fallback\u001b[1;34m(arg, name, utc, fmt, exact, errors)\u001b[0m\n\u001b[0;32m    482\u001b[0m     \u001b[0mCall\u001b[0m \u001b[0marray_strptime\u001b[0m\u001b[1;33m,\u001b[0m \u001b[1;32mwith\u001b[0m \u001b[0mfallback\u001b[0m \u001b[0mbehavior\u001b[0m \u001b[0mdepending\u001b[0m \u001b[0mon\u001b[0m \u001b[1;34m'errors'\u001b[0m\u001b[1;33m.\u001b[0m\u001b[1;33m\u001b[0m\u001b[1;33m\u001b[0m\u001b[0m\n\u001b[0;32m    483\u001b[0m     \"\"\"\n\u001b[1;32m--> 484\u001b[1;33m     \u001b[0mresult\u001b[0m\u001b[1;33m,\u001b[0m \u001b[0mtimezones\u001b[0m \u001b[1;33m=\u001b[0m \u001b[0marray_strptime\u001b[0m\u001b[1;33m(\u001b[0m\u001b[0marg\u001b[0m\u001b[1;33m,\u001b[0m \u001b[0mfmt\u001b[0m\u001b[1;33m,\u001b[0m \u001b[0mexact\u001b[0m\u001b[1;33m=\u001b[0m\u001b[0mexact\u001b[0m\u001b[1;33m,\u001b[0m \u001b[0merrors\u001b[0m\u001b[1;33m=\u001b[0m\u001b[0merrors\u001b[0m\u001b[1;33m,\u001b[0m \u001b[0mutc\u001b[0m\u001b[1;33m=\u001b[0m\u001b[0mutc\u001b[0m\u001b[1;33m)\u001b[0m\u001b[1;33m\u001b[0m\u001b[1;33m\u001b[0m\u001b[0m\n\u001b[0m\u001b[0;32m    485\u001b[0m     \u001b[1;32mif\u001b[0m \u001b[0many\u001b[0m\u001b[1;33m(\u001b[0m\u001b[0mtz\u001b[0m \u001b[1;32mis\u001b[0m \u001b[1;32mnot\u001b[0m \u001b[1;32mNone\u001b[0m \u001b[1;32mfor\u001b[0m \u001b[0mtz\u001b[0m \u001b[1;32min\u001b[0m \u001b[0mtimezones\u001b[0m\u001b[1;33m)\u001b[0m\u001b[1;33m:\u001b[0m\u001b[1;33m\u001b[0m\u001b[1;33m\u001b[0m\u001b[0m\n\u001b[0;32m    486\u001b[0m         \u001b[1;32mreturn\u001b[0m \u001b[0m_return_parsed_timezone_results\u001b[0m\u001b[1;33m(\u001b[0m\u001b[0mresult\u001b[0m\u001b[1;33m,\u001b[0m \u001b[0mtimezones\u001b[0m\u001b[1;33m,\u001b[0m \u001b[0mutc\u001b[0m\u001b[1;33m,\u001b[0m \u001b[0mname\u001b[0m\u001b[1;33m)\u001b[0m\u001b[1;33m\u001b[0m\u001b[1;33m\u001b[0m\u001b[0m\n",
      "\u001b[1;32mc:\\Users\\earne\\Anaconda3\\lib\\site-packages\\pandas\\_libs\\tslibs\\strptime.pyx\u001b[0m in \u001b[0;36mpandas._libs.tslibs.strptime.array_strptime\u001b[1;34m()\u001b[0m\n",
      "\u001b[1;32mc:\\Users\\earne\\Anaconda3\\lib\\site-packages\\pandas\\_libs\\tslibs\\strptime.pyx\u001b[0m in \u001b[0;36mpandas._libs.tslibs.strptime.array_strptime\u001b[1;34m()\u001b[0m\n",
      "\u001b[1;31mValueError\u001b[0m: time data \"1/29/19\" doesn't match format \"%Y-%m-%d\", at position 0. You might want to try:\n    - passing `format` if your strings have a consistent format;\n    - passing `format='ISO8601'` if your strings are all ISO8601 but not necessarily in exactly the same format;\n    - passing `format='mixed'`, and the format will be inferred for each element individually. You might want to use `dayfirst` alongside this."
     ]
    }
   ],
   "source": [
    "dfs = [fy19, fy20, fy21, fy22, allyrs]\n",
    "\n",
    "# List of date column names\n",
    "date_columns = ['date_assigned', 'date_presented']\n",
    "\n",
    "# Iterate over each DataFrame\n",
    "for df in dfs:\n",
    "    # Convert date columns to datetime with \"YYYY-MM-DD\" format\n",
    "    df[date_columns] = df[date_columns].apply(pd.to_datetime, format='%Y-%m-%d')\n",
    "\n"
   ]
  },
  {
   "cell_type": "code",
   "execution_count": 23,
   "metadata": {},
   "outputs": [
    {
     "data": {
      "text/html": [
       "<div>\n",
       "<style scoped>\n",
       "    .dataframe tbody tr th:only-of-type {\n",
       "        vertical-align: middle;\n",
       "    }\n",
       "\n",
       "    .dataframe tbody tr th {\n",
       "        vertical-align: top;\n",
       "    }\n",
       "\n",
       "    .dataframe thead th {\n",
       "        text-align: right;\n",
       "    }\n",
       "</style>\n",
       "<table border=\"1\" class=\"dataframe\">\n",
       "  <thead>\n",
       "    <tr style=\"text-align: right;\">\n",
       "      <th></th>\n",
       "      <th>id</th>\n",
       "      <th>case_number</th>\n",
       "      <th>allegation</th>\n",
       "      <th>ia_finding</th>\n",
       "      <th>crb_decision</th>\n",
       "      <th>unanimous_vote</th>\n",
       "      <th>date_assigned</th>\n",
       "      <th>date_presented</th>\n",
       "      <th>pd_division</th>\n",
       "      <th>complainant_race</th>\n",
       "      <th>complainant_gender</th>\n",
       "      <th>changes</th>\n",
       "    </tr>\n",
       "  </thead>\n",
       "  <tbody>\n",
       "    <tr>\n",
       "      <th>0</th>\n",
       "      <td>19-59</td>\n",
       "      <td>2018-0182</td>\n",
       "      <td>ARREST</td>\n",
       "      <td>E</td>\n",
       "      <td>A</td>\n",
       "      <td>YES</td>\n",
       "      <td>1/29/19</td>\n",
       "      <td>6/11/19</td>\n",
       "      <td>CENTRAL</td>\n",
       "      <td>B</td>\n",
       "      <td>M</td>\n",
       "      <td>NO</td>\n",
       "    </tr>\n",
       "    <tr>\n",
       "      <th>1</th>\n",
       "      <td>19-59</td>\n",
       "      <td>2018-0182</td>\n",
       "      <td>FORCE</td>\n",
       "      <td>E</td>\n",
       "      <td>A</td>\n",
       "      <td>YES</td>\n",
       "      <td>1/29/19</td>\n",
       "      <td>6/11/19</td>\n",
       "      <td>CENTRAL</td>\n",
       "      <td>B</td>\n",
       "      <td>M</td>\n",
       "      <td>NO</td>\n",
       "    </tr>\n",
       "    <tr>\n",
       "      <th>2</th>\n",
       "      <td>19-59</td>\n",
       "      <td>2018-0182</td>\n",
       "      <td>OF1 PROCEDURE</td>\n",
       "      <td>S</td>\n",
       "      <td>A</td>\n",
       "      <td>YES</td>\n",
       "      <td>1/29/19</td>\n",
       "      <td>6/11/19</td>\n",
       "      <td>CENTRAL</td>\n",
       "      <td>B</td>\n",
       "      <td>M</td>\n",
       "      <td>NO</td>\n",
       "    </tr>\n",
       "    <tr>\n",
       "      <th>3</th>\n",
       "      <td>19-58</td>\n",
       "      <td>2019-0152</td>\n",
       "      <td>DISCRIMINATION</td>\n",
       "      <td>U</td>\n",
       "      <td>A</td>\n",
       "      <td>YES</td>\n",
       "      <td>4/17/19</td>\n",
       "      <td>6/25/19</td>\n",
       "      <td>WESTERN</td>\n",
       "      <td>W</td>\n",
       "      <td>M</td>\n",
       "      <td>NO</td>\n",
       "    </tr>\n",
       "    <tr>\n",
       "      <th>4</th>\n",
       "      <td>19-58</td>\n",
       "      <td>2019-0152</td>\n",
       "      <td>DISCRIMINATION</td>\n",
       "      <td>U</td>\n",
       "      <td>A</td>\n",
       "      <td>YES</td>\n",
       "      <td>4/17/19</td>\n",
       "      <td>6/25/19</td>\n",
       "      <td>WESTERN</td>\n",
       "      <td>W</td>\n",
       "      <td>M</td>\n",
       "      <td>NO</td>\n",
       "    </tr>\n",
       "  </tbody>\n",
       "</table>\n",
       "</div>"
      ],
      "text/plain": [
       "      id case_number      allegation ia_finding crb_decision unanimous_vote  \\\n",
       "0  19-59   2018-0182          ARREST          E            A            YES   \n",
       "1  19-59   2018-0182           FORCE          E            A            YES   \n",
       "2  19-59   2018-0182   OF1 PROCEDURE          S            A            YES   \n",
       "3  19-58   2019-0152  DISCRIMINATION          U            A            YES   \n",
       "4  19-58   2019-0152  DISCRIMINATION          U            A            YES   \n",
       "\n",
       "  date_assigned date_presented pd_division complainant_race  \\\n",
       "0       1/29/19        6/11/19     CENTRAL                B   \n",
       "1       1/29/19        6/11/19     CENTRAL                B   \n",
       "2       1/29/19        6/11/19     CENTRAL                B   \n",
       "3       4/17/19        6/25/19     WESTERN                W   \n",
       "4       4/17/19        6/25/19     WESTERN                W   \n",
       "\n",
       "  complainant_gender changes  \n",
       "0                  M      NO  \n",
       "1                  M      NO  \n",
       "2                  M      NO  \n",
       "3                  M      NO  \n",
       "4                  M      NO  "
      ]
     },
     "execution_count": 23,
     "metadata": {},
     "output_type": "execute_result"
    }
   ],
   "source": [
    "fy19.head()"
   ]
  },
  {
   "cell_type": "code",
   "execution_count": 24,
   "metadata": {},
   "outputs": [
    {
     "data": {
      "text/html": [
       "<div>\n",
       "<style scoped>\n",
       "    .dataframe tbody tr th:only-of-type {\n",
       "        vertical-align: middle;\n",
       "    }\n",
       "\n",
       "    .dataframe tbody tr th {\n",
       "        vertical-align: top;\n",
       "    }\n",
       "\n",
       "    .dataframe thead th {\n",
       "        text-align: right;\n",
       "    }\n",
       "</style>\n",
       "<table border=\"1\" class=\"dataframe\">\n",
       "  <thead>\n",
       "    <tr style=\"text-align: right;\">\n",
       "      <th></th>\n",
       "      <th>id</th>\n",
       "      <th>case_number</th>\n",
       "      <th>allegation</th>\n",
       "      <th>ia_finding</th>\n",
       "      <th>crb_decision</th>\n",
       "      <th>unanimous_vote</th>\n",
       "      <th>date_assigned</th>\n",
       "      <th>date_presented</th>\n",
       "      <th>pd_division</th>\n",
       "      <th>complainant_race</th>\n",
       "      <th>complainant_gender</th>\n",
       "      <th>changes</th>\n",
       "      <th>crb_viewed_bwc</th>\n",
       "    </tr>\n",
       "  </thead>\n",
       "  <tbody>\n",
       "    <tr>\n",
       "      <th>0</th>\n",
       "      <td>19-59</td>\n",
       "      <td>2018-0182</td>\n",
       "      <td>ARREST</td>\n",
       "      <td>E</td>\n",
       "      <td>A</td>\n",
       "      <td>YES</td>\n",
       "      <td>1/29/19</td>\n",
       "      <td>6/11/19</td>\n",
       "      <td>CENTRAL</td>\n",
       "      <td>B</td>\n",
       "      <td>M</td>\n",
       "      <td>NO</td>\n",
       "      <td>NO</td>\n",
       "    </tr>\n",
       "    <tr>\n",
       "      <th>1</th>\n",
       "      <td>19-59</td>\n",
       "      <td>2018-0182</td>\n",
       "      <td>FORCE</td>\n",
       "      <td>E</td>\n",
       "      <td>A</td>\n",
       "      <td>YES</td>\n",
       "      <td>1/29/19</td>\n",
       "      <td>6/11/19</td>\n",
       "      <td>CENTRAL</td>\n",
       "      <td>B</td>\n",
       "      <td>M</td>\n",
       "      <td>NO</td>\n",
       "      <td>NO</td>\n",
       "    </tr>\n",
       "    <tr>\n",
       "      <th>2</th>\n",
       "      <td>19-59</td>\n",
       "      <td>2018-0182</td>\n",
       "      <td>OF1 PROCEDURE</td>\n",
       "      <td>S</td>\n",
       "      <td>A</td>\n",
       "      <td>YES</td>\n",
       "      <td>1/29/19</td>\n",
       "      <td>6/11/19</td>\n",
       "      <td>CENTRAL</td>\n",
       "      <td>B</td>\n",
       "      <td>M</td>\n",
       "      <td>NO</td>\n",
       "      <td>NO</td>\n",
       "    </tr>\n",
       "    <tr>\n",
       "      <th>3</th>\n",
       "      <td>19-58</td>\n",
       "      <td>2019-0152</td>\n",
       "      <td>DISCRIMINATION</td>\n",
       "      <td>U</td>\n",
       "      <td>A</td>\n",
       "      <td>YES</td>\n",
       "      <td>4/17/19</td>\n",
       "      <td>6/25/19</td>\n",
       "      <td>WESTERN</td>\n",
       "      <td>W</td>\n",
       "      <td>M</td>\n",
       "      <td>NO</td>\n",
       "      <td>NO</td>\n",
       "    </tr>\n",
       "    <tr>\n",
       "      <th>4</th>\n",
       "      <td>19-58</td>\n",
       "      <td>2019-0152</td>\n",
       "      <td>DISCRIMINATION</td>\n",
       "      <td>U</td>\n",
       "      <td>A</td>\n",
       "      <td>YES</td>\n",
       "      <td>4/17/19</td>\n",
       "      <td>6/25/19</td>\n",
       "      <td>WESTERN</td>\n",
       "      <td>W</td>\n",
       "      <td>M</td>\n",
       "      <td>NO</td>\n",
       "      <td>NO</td>\n",
       "    </tr>\n",
       "  </tbody>\n",
       "</table>\n",
       "</div>"
      ],
      "text/plain": [
       "      id case_number      allegation ia_finding crb_decision unanimous_vote  \\\n",
       "0  19-59   2018-0182          ARREST          E            A            YES   \n",
       "1  19-59   2018-0182           FORCE          E            A            YES   \n",
       "2  19-59   2018-0182   OF1 PROCEDURE          S            A            YES   \n",
       "3  19-58   2019-0152  DISCRIMINATION          U            A            YES   \n",
       "4  19-58   2019-0152  DISCRIMINATION          U            A            YES   \n",
       "\n",
       "  date_assigned date_presented pd_division complainant_race  \\\n",
       "0       1/29/19        6/11/19     CENTRAL                B   \n",
       "1       1/29/19        6/11/19     CENTRAL                B   \n",
       "2       1/29/19        6/11/19     CENTRAL                B   \n",
       "3       4/17/19        6/25/19     WESTERN                W   \n",
       "4       4/17/19        6/25/19     WESTERN                W   \n",
       "\n",
       "  complainant_gender changes crb_viewed_bwc  \n",
       "0                  M      NO             NO  \n",
       "1                  M      NO             NO  \n",
       "2                  M      NO             NO  \n",
       "3                  M      NO             NO  \n",
       "4                  M      NO             NO  "
      ]
     },
     "execution_count": 24,
     "metadata": {},
     "output_type": "execute_result"
    }
   ],
   "source": [
    "allyrs.head()"
   ]
  },
  {
   "cell_type": "code",
   "execution_count": 25,
   "metadata": {},
   "outputs": [
    {
     "data": {
      "text/plain": [
       "(1947, 13)"
      ]
     },
     "execution_count": 25,
     "metadata": {},
     "output_type": "execute_result"
    }
   ],
   "source": [
    "allyrs.shape"
   ]
  },
  {
   "cell_type": "code",
   "execution_count": 26,
   "metadata": {},
   "outputs": [
    {
     "data": {
      "text/plain": [
       "id                    object\n",
       "case_number           object\n",
       "allegation            object\n",
       "ia_finding            object\n",
       "crb_decision          object\n",
       "unanimous_vote        object\n",
       "date_assigned         object\n",
       "date_presented        object\n",
       "pd_division           object\n",
       "complainant_race      object\n",
       "complainant_gender    object\n",
       "changes               object\n",
       "crb_viewed_bwc        object\n",
       "dtype: object"
      ]
     },
     "execution_count": 26,
     "metadata": {},
     "output_type": "execute_result"
    }
   ],
   "source": [
    "allyrs.dtypes"
   ]
  },
  {
   "cell_type": "code",
   "execution_count": 27,
   "metadata": {},
   "outputs": [
    {
     "data": {
      "text/plain": [
       "id                    0\n",
       "case_number           0\n",
       "allegation            0\n",
       "ia_finding            0\n",
       "crb_decision          0\n",
       "unanimous_vote        0\n",
       "date_assigned         0\n",
       "date_presented        0\n",
       "pd_division           0\n",
       "complainant_race      0\n",
       "complainant_gender    0\n",
       "changes               0\n",
       "crb_viewed_bwc        0\n",
       "dtype: int64"
      ]
     },
     "execution_count": 27,
     "metadata": {},
     "output_type": "execute_result"
    }
   ],
   "source": [
    "#missing values\n",
    "allyrs.isna().sum()"
   ]
  },
  {
   "cell_type": "code",
   "execution_count": 28,
   "metadata": {},
   "outputs": [
    {
     "data": {
      "text/plain": [
       "complainant_gender\n",
       "M      1092\n",
       "F       802\n",
       "UNK      22\n",
       "F,M      13\n",
       "M,M       7\n",
       "          7\n",
       "F,F       3\n",
       "MM        1\n",
       "Name: count, dtype: int64"
      ]
     },
     "execution_count": 28,
     "metadata": {},
     "output_type": "execute_result"
    }
   ],
   "source": [
    "#check for issues in the gender and race columns\n",
    "allyrs['complainant_gender'].value_counts()"
   ]
  },
  {
   "cell_type": "code",
   "execution_count": 29,
   "metadata": {},
   "outputs": [
    {
     "data": {
      "text/plain": [
       "complainant_gender\n",
       "M      1100\n",
       "F       805\n",
       "UNK      42\n",
       "Name: count, dtype: int64"
      ]
     },
     "execution_count": 29,
     "metadata": {},
     "output_type": "execute_result"
    }
   ],
   "source": [
    "for df in dfs:\n",
    "    df['complainant_gender'] = df['complainant_gender'].replace({'M,M': 'M', 'MM': 'M', 'F,F': 'F', '': 'UNK',\n",
    "                                                                     'F,M': 'UNK'})\n",
    "\n",
    "allyrs['complainant_gender'].value_counts()"
   ]
  },
  {
   "cell_type": "code",
   "execution_count": 30,
   "metadata": {},
   "outputs": [
    {
     "data": {
      "text/plain": [
       "complainant_race\n",
       "B                           859\n",
       "H                           448\n",
       "W                           366\n",
       "O                            82\n",
       "UNK                          72\n",
       "unkn                         41\n",
       "                             27\n",
       "A                            10\n",
       "H,H                           7\n",
       "W,B                           7\n",
       "B,B                           6\n",
       "ME                            5\n",
       "S                             4\n",
       "F                             4\n",
       "NOT STATED IN THE REPORT      3\n",
       "W,W                           3\n",
       "P                             2\n",
       "HH                            1\n",
       "Name: count, dtype: int64"
      ]
     },
     "execution_count": 30,
     "metadata": {},
     "output_type": "execute_result"
    }
   ],
   "source": [
    "allyrs['complainant_race'].value_counts()"
   ]
  },
  {
   "cell_type": "code",
   "execution_count": 31,
   "metadata": {},
   "outputs": [
    {
     "data": {
      "text/plain": [
       "complainant_race\n",
       "B      865\n",
       "H      456\n",
       "W      369\n",
       "UNK    155\n",
       "O       82\n",
       "A       10\n",
       "F        4\n",
       "S        4\n",
       "P        2\n",
       "Name: count, dtype: int64"
      ]
     },
     "execution_count": 31,
     "metadata": {},
     "output_type": "execute_result"
    }
   ],
   "source": [
    "for df in dfs:\n",
    "    df['complainant_race'] = df['complainant_race'].replace({'H,H': 'H', 'HH': 'H', 'B,B': 'B', 'W,W': 'W',\n",
    "                                                                 'unkn': 'UNK', 'W,B': 'UNK', 'ME': 'UNK', 'NOT STATED IN THE REPORT': 'UNK',\n",
    "                                                                 '': 'UNK'})\n",
    "\n",
    "allyrs['complainant_race'].value_counts()"
   ]
  },
  {
   "cell_type": "code",
   "execution_count": 32,
   "metadata": {},
   "outputs": [
    {
     "data": {
      "text/plain": [
       "crb_decision\n",
       "A      1730\n",
       "A/C     189\n",
       "D/C      25\n",
       "AC        3\n",
       "Name: count, dtype: int64"
      ]
     },
     "execution_count": 32,
     "metadata": {},
     "output_type": "execute_result"
    }
   ],
   "source": [
    "allyrs['crb_decision'].value_counts()"
   ]
  },
  {
   "cell_type": "code",
   "execution_count": 33,
   "metadata": {},
   "outputs": [
    {
     "data": {
      "text/plain": [
       "crb_viewed_bwc\n",
       "YES                             1679\n",
       "NO                               228\n",
       "NO (OTHER VIDEO)                  22\n",
       "NO (DELETED RETENTION)             6\n",
       "                                   4\n",
       "NO - NOT ENFORCEMENT CONTACT       4\n",
       "OTHER VIDEO                        3\n",
       "N/A                                1\n",
       "Name: count, dtype: int64"
      ]
     },
     "execution_count": 33,
     "metadata": {},
     "output_type": "execute_result"
    }
   ],
   "source": [
    "allyrs['crb_viewed_bwc'].value_counts()"
   ]
  },
  {
   "cell_type": "code",
   "execution_count": 34,
   "metadata": {},
   "outputs": [
    {
     "data": {
      "text/plain": [
       "crb_viewed_bwc\n",
       "YES    1679\n",
       "NO      268\n",
       "Name: count, dtype: int64"
      ]
     },
     "execution_count": 34,
     "metadata": {},
     "output_type": "execute_result"
    }
   ],
   "source": [
    "allyrs['crb_viewed_bwc'] = allyrs['crb_viewed_bwc'].replace({'NO (OTHER VIDEO)': 'NO', 'NO (DELETED RETENTION)': 'NO',\n",
    "                                                              'NO - NOT ENFORCEMENT CONTACT': 'NO', 'N/A': 'NO', 'OTHER VIDEO': 'NO', '': 'NO'})\n",
    "\n",
    "allyrs['crb_viewed_bwc'].value_counts()"
   ]
  },
  {
   "cell_type": "code",
   "execution_count": 35,
   "metadata": {},
   "outputs": [
    {
     "data": {
      "text/plain": [
       "changes\n",
       "NO     1425\n",
       "YES     492\n",
       "         30\n",
       "Name: count, dtype: int64"
      ]
     },
     "execution_count": 35,
     "metadata": {},
     "output_type": "execute_result"
    }
   ],
   "source": [
    "allyrs['changes'].value_counts()"
   ]
  },
  {
   "cell_type": "markdown",
   "metadata": {},
   "source": [
    "# Exploratory Data Analysis"
   ]
  },
  {
   "cell_type": "markdown",
   "metadata": {},
   "source": [
    "We'll being by looking at data provided each year"
   ]
  },
  {
   "cell_type": "markdown",
   "metadata": {},
   "source": [
    "## Allegations by year"
   ]
  },
  {
   "cell_type": "code",
   "execution_count": 36,
   "metadata": {},
   "outputs": [
    {
     "data": {
      "text/plain": [
       "213"
      ]
     },
     "execution_count": 36,
     "metadata": {},
     "output_type": "execute_result"
    }
   ],
   "source": [
    "tot19 = fy19.shape[0]\n",
    "tot19"
   ]
  },
  {
   "cell_type": "code",
   "execution_count": 37,
   "metadata": {},
   "outputs": [
    {
     "data": {
      "image/png": "[encoded data removed]",
      "text/plain": [
       "<Figure size 720x432 with 1 Axes>"
      ]
     },
     "metadata": {
      "needs_background": "light"
     },
     "output_type": "display_data"
    }
   ],
   "source": [
    "# Total complaints by year\n",
    "tot19 = pd.DataFrame({'Count': [fy19.shape[0]]}, index=['2019'])\n",
    "tot20 = pd.DataFrame({'Count': [fy20.shape[0]]}, index=['2020'])\n",
    "tot21 = pd.DataFrame({'Count': [fy21.shape[0]]}, index=['2021'])\n",
    "tot22 = pd.DataFrame({'Count': [fy22.shape[0]]}, index=['2022'])\n",
    "\n",
    "tot_counts = pd.concat([tot19, tot20, tot21, tot22])\n",
    "\n",
    "# Reset index\n",
    "tot_counts.reset_index(inplace=True)\n",
    "tot_counts.columns = ['Year', 'Count']\n",
    "\n",
    "# Create the bar plot\n",
    "plt.figure(figsize=(10, 6))\n",
    "sns.barplot(data=tot_counts, x='Count', y='Year')\n",
    "plt.title('Total Allegations by Year')\n",
    "plt.xlabel('Count')\n",
    "plt.ylabel('Year')\n",
    "plt.show()\n"
   ]
  },
  {
   "cell_type": "markdown",
   "metadata": {},
   "source": [
    "## Allegations by year and gender"
   ]
  },
  {
   "cell_type": "code",
   "execution_count": 38,
   "metadata": {},
   "outputs": [
    {
     "data": {
      "image/png": "[encoded data removed]",
      "text/plain": [
       "<Figure size 720x432 with 1 Axes>"
      ]
     },
     "metadata": {
      "needs_background": "light"
     },
     "output_type": "display_data"
    }
   ],
   "source": [
    "# Total complaints by year\n",
    "tot19 = pd.DataFrame({'Year': ['2019'], 'Count': [fy19.shape[0]], 'complainant_gender': ['Total']})\n",
    "tot20 = pd.DataFrame({'Year': ['2020'], 'Count': [fy20.shape[0]], 'complainant_gender': ['Total']})\n",
    "tot21 = pd.DataFrame({'Year': ['2021'], 'Count': [fy21.shape[0]], 'complainant_gender': ['Total']})\n",
    "tot22 = pd.DataFrame({'Year': ['2022'], 'Count': [fy22.shape[0]], 'complainant_gender': ['Total']})\n",
    "\n",
    "tot_counts = pd.concat([tot19, tot20, tot21, tot22])\n",
    "\n",
    "# Complainant gender counts by year\n",
    "gender_counts_19 = fy19['complainant_gender'].value_counts().reset_index()\n",
    "gender_counts_19['Year'] = '2019'\n",
    "gender_counts_20 = fy20['complainant_gender'].value_counts().reset_index()\n",
    "gender_counts_20['Year'] = '2020'\n",
    "gender_counts_21 = fy21['complainant_gender'].value_counts().reset_index()\n",
    "gender_counts_21['Year'] = '2021'\n",
    "gender_counts_22 = fy22['complainant_gender'].value_counts().reset_index()\n",
    "gender_counts_22['Year'] = '2022'\n",
    "\n",
    "gender_counts = pd.concat([gender_counts_19, gender_counts_20, gender_counts_21, gender_counts_22])\n",
    "gender_counts.columns = ['complainant_gender', 'Count', 'Year']\n",
    "\n",
    "# Combine total complaints and gender counts\n",
    "combined_counts = pd.concat([tot_counts, gender_counts])\n",
    "\n",
    "# Create the stacked bar plot\n",
    "plt.figure(figsize=(10, 6))\n",
    "sns.barplot(data=gender_counts, x='Count', y='Year', hue='complainant_gender', dodge=False)\n",
    "plt.title('Total Allegations by Year and Complainant Gender')\n",
    "plt.xlabel('Count')\n",
    "plt.ylabel('Year')\n",
    "plt.legend(title='Complainant Gender')\n",
    "plt.show()\n"
   ]
  },
  {
   "cell_type": "code",
   "execution_count": 39,
   "metadata": {},
   "outputs": [
    {
     "data": {
      "text/html": [
       "<div>\n",
       "<style scoped>\n",
       "    .dataframe tbody tr th:only-of-type {\n",
       "        vertical-align: middle;\n",
       "    }\n",
       "\n",
       "    .dataframe tbody tr th {\n",
       "        vertical-align: top;\n",
       "    }\n",
       "\n",
       "    .dataframe thead th {\n",
       "        text-align: right;\n",
       "    }\n",
       "</style>\n",
       "<table border=\"1\" class=\"dataframe\">\n",
       "  <thead>\n",
       "    <tr style=\"text-align: right;\">\n",
       "      <th></th>\n",
       "      <th>complainant_gender</th>\n",
       "      <th>Count</th>\n",
       "      <th>Year</th>\n",
       "    </tr>\n",
       "  </thead>\n",
       "  <tbody>\n",
       "    <tr>\n",
       "      <th>0</th>\n",
       "      <td>M</td>\n",
       "      <td>136</td>\n",
       "      <td>2019</td>\n",
       "    </tr>\n",
       "    <tr>\n",
       "      <th>1</th>\n",
       "      <td>F</td>\n",
       "      <td>64</td>\n",
       "      <td>2019</td>\n",
       "    </tr>\n",
       "    <tr>\n",
       "      <th>2</th>\n",
       "      <td>UNK</td>\n",
       "      <td>13</td>\n",
       "      <td>2019</td>\n",
       "    </tr>\n",
       "    <tr>\n",
       "      <th>0</th>\n",
       "      <td>M</td>\n",
       "      <td>99</td>\n",
       "      <td>2020</td>\n",
       "    </tr>\n",
       "    <tr>\n",
       "      <th>1</th>\n",
       "      <td>F</td>\n",
       "      <td>69</td>\n",
       "      <td>2020</td>\n",
       "    </tr>\n",
       "    <tr>\n",
       "      <th>0</th>\n",
       "      <td>M</td>\n",
       "      <td>415</td>\n",
       "      <td>2021</td>\n",
       "    </tr>\n",
       "    <tr>\n",
       "      <th>1</th>\n",
       "      <td>F</td>\n",
       "      <td>355</td>\n",
       "      <td>2021</td>\n",
       "    </tr>\n",
       "    <tr>\n",
       "      <th>2</th>\n",
       "      <td>UNK</td>\n",
       "      <td>7</td>\n",
       "      <td>2021</td>\n",
       "    </tr>\n",
       "    <tr>\n",
       "      <th>0</th>\n",
       "      <td>M</td>\n",
       "      <td>450</td>\n",
       "      <td>2022</td>\n",
       "    </tr>\n",
       "    <tr>\n",
       "      <th>1</th>\n",
       "      <td>F</td>\n",
       "      <td>317</td>\n",
       "      <td>2022</td>\n",
       "    </tr>\n",
       "    <tr>\n",
       "      <th>2</th>\n",
       "      <td>UNK</td>\n",
       "      <td>22</td>\n",
       "      <td>2022</td>\n",
       "    </tr>\n",
       "  </tbody>\n",
       "</table>\n",
       "</div>"
      ],
      "text/plain": [
       "  complainant_gender  Count  Year\n",
       "0                  M    136  2019\n",
       "1                  F     64  2019\n",
       "2                UNK     13  2019\n",
       "0                  M     99  2020\n",
       "1                  F     69  2020\n",
       "0                  M    415  2021\n",
       "1                  F    355  2021\n",
       "2                UNK      7  2021\n",
       "0                  M    450  2022\n",
       "1                  F    317  2022\n",
       "2                UNK     22  2022"
      ]
     },
     "execution_count": 39,
     "metadata": {},
     "output_type": "execute_result"
    }
   ],
   "source": [
    "gender_counts"
   ]
  },
  {
   "cell_type": "markdown",
   "metadata": {},
   "source": [
    "## Allegations by Race\n"
   ]
  },
  {
   "cell_type": "code",
   "execution_count": 40,
   "metadata": {},
   "outputs": [
    {
     "data": {
      "image/png": "[encoded data removed]",
      "text/plain": [
       "<Figure size 720x432 with 1 Axes>"
      ]
     },
     "metadata": {
      "needs_background": "light"
     },
     "output_type": "display_data"
    }
   ],
   "source": [
    "tot = pd.DataFrame(allyrs['complainant_race'].value_counts().reset_index())\n",
    "tot.columns = ['race', 'count']\n",
    "\n",
    "# Create the bar plot\n",
    "plt.figure(figsize=(10, 6))\n",
    "sns.barplot(data=tot, x='count', y='race')\n",
    "plt.title('Total Allegations by Race')\n",
    "plt.xlabel('Count')\n",
    "plt.ylabel('Race')\n",
    "plt.show()\n"
   ]
  },
  {
   "cell_type": "code",
   "execution_count": 41,
   "metadata": {},
   "outputs": [
    {
     "data": {
      "image/png": "[encoded data removed]",
      "text/plain": [
       "<Figure size 720x720 with 1 Axes>"
      ]
     },
     "metadata": {
      "needs_background": "light"
     },
     "output_type": "display_data"
    }
   ],
   "source": [
    "tot = pd.DataFrame(allyrs['allegation'].value_counts().reset_index())\n",
    "tot.columns = ['allegation', 'count']\n",
    "\n",
    "# Create the bar plot\n",
    "plt.figure(figsize=(10, 10))\n",
    "sns.barplot(data=tot, x='count', y='allegation')\n",
    "plt.title('Total Allegations')\n",
    "plt.xlabel('Count')\n",
    "plt.ylabel('Allegations')\n",
    "plt.show()"
   ]
  },
  {
   "cell_type": "code",
   "execution_count": 42,
   "metadata": {},
   "outputs": [
    {
     "data": {
      "image/png": "[encoded data removed]",
      "text/plain": [
       "<Figure size 1080x1296 with 1 Axes>"
      ]
     },
     "metadata": {
      "needs_background": "light"
     },
     "output_type": "display_data"
    }
   ],
   "source": [
    "# Calculate the allegation counts for each year\n",
    "alleg_count_22 = fy22['allegation'].value_counts()\n",
    "alleg_count_21 = fy21['allegation'].value_counts()\n",
    "alleg_count_20 = fy20['allegation'].value_counts()\n",
    "alleg_count_19 = fy19['allegation'].value_counts()\n",
    "\n",
    "# Combine the counts into a single DataFrame\n",
    "alleg_counts = pd.concat([alleg_count_22, alleg_count_21, alleg_count_20, alleg_count_19], axis=1)\n",
    "alleg_counts.columns = ['2022', '2021', '2020', '2019']\n",
    "\n",
    "# Reshape the data into a long format\n",
    "alleg_counts_long = alleg_counts.stack().reset_index()\n",
    "alleg_counts_long.columns = ['Allegation', 'Year', 'Count']\n",
    "\n",
    "# Create the bar plot\n",
    "plt.figure(figsize=(15, 18))\n",
    "sns.barplot(data=alleg_counts_long, x='Count', y='Allegation', hue='Year')\n",
    "plt.title('Allegation Counts by Year')\n",
    "plt.xlabel('Count')\n",
    "plt.ylabel('Allegation')\n",
    "plt.legend(title='Year')\n",
    "plt.show()\n"
   ]
  },
  {
   "cell_type": "markdown",
   "metadata": {},
   "source": [
    "## IA and CRB findings"
   ]
  },
  {
   "cell_type": "code",
   "execution_count": 43,
   "metadata": {},
   "outputs": [
    {
     "data": {
      "image/png": "[encoded data removed]",
      "text/plain": [
       "<Figure size 720x432 with 1 Axes>"
      ]
     },
     "metadata": {
      "needs_background": "light"
     },
     "output_type": "display_data"
    }
   ],
   "source": [
    "tot = pd.DataFrame(allyrs['ia_finding'].value_counts().reset_index())\n",
    "tot.columns = ['ia_finding', 'count']\n",
    "\n",
    "# Create the bar plot\n",
    "plt.figure(figsize=(10, 6))\n",
    "sns.barplot(data=tot, x='count', y='ia_finding')\n",
    "plt.title('Internal Affairs Findings')\n",
    "plt.xlabel('Count')\n",
    "plt.ylabel('Finding')\n",
    "plt.show()\n"
   ]
  },
  {
   "cell_type": "code",
   "execution_count": 44,
   "metadata": {},
   "outputs": [
    {
     "data": {
      "image/png": "[encoded data removed]",
      "text/plain": [
       "<Figure size 720x432 with 1 Axes>"
      ]
     },
     "metadata": {
      "needs_background": "light"
     },
     "output_type": "display_data"
    }
   ],
   "source": [
    "tot = pd.DataFrame(allyrs['crb_decision'].value_counts().reset_index())\n",
    "tot.columns = ['crb_decision', 'count']\n",
    "\n",
    "# Create the bar plot\n",
    "plt.figure(figsize=(10, 6))\n",
    "sns.barplot(data=tot, x='count', y='crb_decision')\n",
    "plt.title('CRB Decision')\n",
    "plt.xlabel('Count')\n",
    "plt.ylabel('Decision')\n",
    "plt.show()"
   ]
  },
  {
   "cell_type": "code",
   "execution_count": 45,
   "metadata": {},
   "outputs": [
    {
     "data": {
      "image/png": "[encoded data removed]",
      "text/plain": [
       "<Figure size 720x432 with 1 Axes>"
      ]
     },
     "metadata": {
      "needs_background": "light"
     },
     "output_type": "display_data"
    }
   ],
   "source": [
    "tot = pd.DataFrame(allyrs['changes'].value_counts().reset_index())\n",
    "tot.columns = ['changes', 'count']\n",
    "\n",
    "# Create the bar plot\n",
    "plt.figure(figsize=(10, 6))\n",
    "sns.barplot(data=tot, x='count', y='changes')\n",
    "plt.title('Changes to IA Decision')\n",
    "plt.xlabel('Count')\n",
    "plt.ylabel('Changes')\n",
    "plt.show()"
   ]
  },
  {
   "cell_type": "code",
   "execution_count": 46,
   "metadata": {},
   "outputs": [],
   "source": [
    "allyrs.to_csv('C:/Users/earne/OneDrive - University of San Diego/MSADS/ADS-599/git/ADS599_Team1/allyrs.csv', index=False)"
   ]
  },
  {
   "cell_type": "markdown",
   "metadata": {},
   "source": [
    "# Feature Engineering"
   ]
  },
  {
   "cell_type": "code",
   "execution_count": 47,
   "metadata": {},
   "outputs": [
    {
     "data": {
      "text/html": [
       "<div>\n",
       "<style scoped>\n",
       "    .dataframe tbody tr th:only-of-type {\n",
       "        vertical-align: middle;\n",
       "    }\n",
       "\n",
       "    .dataframe tbody tr th {\n",
       "        vertical-align: top;\n",
       "    }\n",
       "\n",
       "    .dataframe thead th {\n",
       "        text-align: right;\n",
       "    }\n",
       "</style>\n",
       "<table border=\"1\" class=\"dataframe\">\n",
       "  <thead>\n",
       "    <tr style=\"text-align: right;\">\n",
       "      <th></th>\n",
       "      <th>id</th>\n",
       "      <th>case_number</th>\n",
       "      <th>allegation</th>\n",
       "      <th>ia_finding</th>\n",
       "      <th>crb_decision</th>\n",
       "      <th>unanimous_vote</th>\n",
       "      <th>date_assigned</th>\n",
       "      <th>date_presented</th>\n",
       "      <th>pd_division</th>\n",
       "      <th>complainant_race</th>\n",
       "      <th>complainant_gender</th>\n",
       "      <th>changes</th>\n",
       "      <th>crb_viewed_bwc</th>\n",
       "    </tr>\n",
       "  </thead>\n",
       "  <tbody>\n",
       "    <tr>\n",
       "      <th>0</th>\n",
       "      <td>19-59</td>\n",
       "      <td>2018-0182</td>\n",
       "      <td>ARREST</td>\n",
       "      <td>E</td>\n",
       "      <td>A</td>\n",
       "      <td>YES</td>\n",
       "      <td>1/29/19</td>\n",
       "      <td>6/11/19</td>\n",
       "      <td>CENTRAL</td>\n",
       "      <td>B</td>\n",
       "      <td>M</td>\n",
       "      <td>NO</td>\n",
       "      <td>NO</td>\n",
       "    </tr>\n",
       "    <tr>\n",
       "      <th>1</th>\n",
       "      <td>19-59</td>\n",
       "      <td>2018-0182</td>\n",
       "      <td>FORCE</td>\n",
       "      <td>E</td>\n",
       "      <td>A</td>\n",
       "      <td>YES</td>\n",
       "      <td>1/29/19</td>\n",
       "      <td>6/11/19</td>\n",
       "      <td>CENTRAL</td>\n",
       "      <td>B</td>\n",
       "      <td>M</td>\n",
       "      <td>NO</td>\n",
       "      <td>NO</td>\n",
       "    </tr>\n",
       "    <tr>\n",
       "      <th>2</th>\n",
       "      <td>19-59</td>\n",
       "      <td>2018-0182</td>\n",
       "      <td>OF1 PROCEDURE</td>\n",
       "      <td>S</td>\n",
       "      <td>A</td>\n",
       "      <td>YES</td>\n",
       "      <td>1/29/19</td>\n",
       "      <td>6/11/19</td>\n",
       "      <td>CENTRAL</td>\n",
       "      <td>B</td>\n",
       "      <td>M</td>\n",
       "      <td>NO</td>\n",
       "      <td>NO</td>\n",
       "    </tr>\n",
       "    <tr>\n",
       "      <th>3</th>\n",
       "      <td>19-58</td>\n",
       "      <td>2019-0152</td>\n",
       "      <td>DISCRIMINATION</td>\n",
       "      <td>U</td>\n",
       "      <td>A</td>\n",
       "      <td>YES</td>\n",
       "      <td>4/17/19</td>\n",
       "      <td>6/25/19</td>\n",
       "      <td>WESTERN</td>\n",
       "      <td>W</td>\n",
       "      <td>M</td>\n",
       "      <td>NO</td>\n",
       "      <td>NO</td>\n",
       "    </tr>\n",
       "    <tr>\n",
       "      <th>4</th>\n",
       "      <td>19-58</td>\n",
       "      <td>2019-0152</td>\n",
       "      <td>DISCRIMINATION</td>\n",
       "      <td>U</td>\n",
       "      <td>A</td>\n",
       "      <td>YES</td>\n",
       "      <td>4/17/19</td>\n",
       "      <td>6/25/19</td>\n",
       "      <td>WESTERN</td>\n",
       "      <td>W</td>\n",
       "      <td>M</td>\n",
       "      <td>NO</td>\n",
       "      <td>NO</td>\n",
       "    </tr>\n",
       "  </tbody>\n",
       "</table>\n",
       "</div>"
      ],
      "text/plain": [
       "      id case_number      allegation ia_finding crb_decision unanimous_vote  \\\n",
       "0  19-59   2018-0182          ARREST          E            A            YES   \n",
       "1  19-59   2018-0182           FORCE          E            A            YES   \n",
       "2  19-59   2018-0182   OF1 PROCEDURE          S            A            YES   \n",
       "3  19-58   2019-0152  DISCRIMINATION          U            A            YES   \n",
       "4  19-58   2019-0152  DISCRIMINATION          U            A            YES   \n",
       "\n",
       "  date_assigned date_presented pd_division complainant_race  \\\n",
       "0       1/29/19        6/11/19     CENTRAL                B   \n",
       "1       1/29/19        6/11/19     CENTRAL                B   \n",
       "2       1/29/19        6/11/19     CENTRAL                B   \n",
       "3       4/17/19        6/25/19     WESTERN                W   \n",
       "4       4/17/19        6/25/19     WESTERN                W   \n",
       "\n",
       "  complainant_gender changes crb_viewed_bwc  \n",
       "0                  M      NO             NO  \n",
       "1                  M      NO             NO  \n",
       "2                  M      NO             NO  \n",
       "3                  M      NO             NO  \n",
       "4                  M      NO             NO  "
      ]
     },
     "execution_count": 47,
     "metadata": {},
     "output_type": "execute_result"
    }
   ],
   "source": [
    "allyrs.head()"
   ]
  },
  {
   "cell_type": "code",
   "execution_count": 48,
   "metadata": {},
   "outputs": [
    {
     "data": {
      "text/html": [
       "<div>\n",
       "<style scoped>\n",
       "    .dataframe tbody tr th:only-of-type {\n",
       "        vertical-align: middle;\n",
       "    }\n",
       "\n",
       "    .dataframe tbody tr th {\n",
       "        vertical-align: top;\n",
       "    }\n",
       "\n",
       "    .dataframe thead th {\n",
       "        text-align: right;\n",
       "    }\n",
       "</style>\n",
       "<table border=\"1\" class=\"dataframe\">\n",
       "  <thead>\n",
       "    <tr style=\"text-align: right;\">\n",
       "      <th></th>\n",
       "      <th>id</th>\n",
       "      <th>case_number</th>\n",
       "      <th>allegation</th>\n",
       "      <th>ia_finding</th>\n",
       "      <th>crb_decision</th>\n",
       "      <th>unanimous_vote</th>\n",
       "      <th>date_assigned</th>\n",
       "      <th>date_presented</th>\n",
       "      <th>pd_division</th>\n",
       "      <th>complainant_race</th>\n",
       "      <th>complainant_gender</th>\n",
       "      <th>changes</th>\n",
       "      <th>crb_viewed_bwc</th>\n",
       "    </tr>\n",
       "  </thead>\n",
       "  <tbody>\n",
       "    <tr>\n",
       "      <th>28</th>\n",
       "      <td>19-46</td>\n",
       "      <td>2018-0257</td>\n",
       "      <td>PROCEDURE</td>\n",
       "      <td>NS</td>\n",
       "      <td>D/C</td>\n",
       "      <td>NO</td>\n",
       "      <td>12/12/18</td>\n",
       "      <td>4/23/19</td>\n",
       "      <td>EASTERN</td>\n",
       "      <td>B</td>\n",
       "      <td>M</td>\n",
       "      <td>YES</td>\n",
       "      <td>NO</td>\n",
       "    </tr>\n",
       "    <tr>\n",
       "      <th>61</th>\n",
       "      <td>19-34</td>\n",
       "      <td>2017-0603</td>\n",
       "      <td>ARREST</td>\n",
       "      <td>E</td>\n",
       "      <td>D/C</td>\n",
       "      <td>NO</td>\n",
       "      <td>10/17/18</td>\n",
       "      <td>2/26/19</td>\n",
       "      <td>SOUTHEASTERN</td>\n",
       "      <td>B</td>\n",
       "      <td>M</td>\n",
       "      <td>NO</td>\n",
       "      <td>NO</td>\n",
       "    </tr>\n",
       "    <tr>\n",
       "      <th>154</th>\n",
       "      <td>19-14</td>\n",
       "      <td>2017-0255</td>\n",
       "      <td>FORCE</td>\n",
       "      <td>E</td>\n",
       "      <td>D/C</td>\n",
       "      <td>NO</td>\n",
       "      <td>5/7/18</td>\n",
       "      <td>10/30/18</td>\n",
       "      <td>SOUTHERN</td>\n",
       "      <td>W</td>\n",
       "      <td>M</td>\n",
       "      <td>NO</td>\n",
       "      <td>NO</td>\n",
       "    </tr>\n",
       "    <tr>\n",
       "      <th>155</th>\n",
       "      <td>19-14</td>\n",
       "      <td>2017-0255</td>\n",
       "      <td>PROCEDURE</td>\n",
       "      <td>U</td>\n",
       "      <td>D/C</td>\n",
       "      <td>NO</td>\n",
       "      <td>5/7/18</td>\n",
       "      <td>10/30/18</td>\n",
       "      <td>SOUTHERN</td>\n",
       "      <td>W</td>\n",
       "      <td>M</td>\n",
       "      <td>NO</td>\n",
       "      <td>NO</td>\n",
       "    </tr>\n",
       "    <tr>\n",
       "      <th>174</th>\n",
       "      <td>19-08</td>\n",
       "      <td>2018-0046</td>\n",
       "      <td>ARREST</td>\n",
       "      <td>E</td>\n",
       "      <td>D/C</td>\n",
       "      <td>NO</td>\n",
       "      <td>6/19/18</td>\n",
       "      <td>9/11/18</td>\n",
       "      <td>CENTRAL</td>\n",
       "      <td>B</td>\n",
       "      <td>M</td>\n",
       "      <td>NO</td>\n",
       "      <td>NO</td>\n",
       "    </tr>\n",
       "    <tr>\n",
       "      <th>204</th>\n",
       "      <td>19-03</td>\n",
       "      <td>2017-0914</td>\n",
       "      <td>PROCEDURE</td>\n",
       "      <td>U</td>\n",
       "      <td>D/C</td>\n",
       "      <td>YES</td>\n",
       "      <td>3/2/18</td>\n",
       "      <td>7/10/18</td>\n",
       "      <td>WESTERN</td>\n",
       "      <td>W</td>\n",
       "      <td>M</td>\n",
       "      <td>NO</td>\n",
       "      <td>NO</td>\n",
       "    </tr>\n",
       "    <tr>\n",
       "      <th>354</th>\n",
       "      <td>20-06</td>\n",
       "      <td>2017-0916</td>\n",
       "      <td>FORCE</td>\n",
       "      <td>E</td>\n",
       "      <td>D/C</td>\n",
       "      <td>NO</td>\n",
       "      <td>2019-03-07</td>\n",
       "      <td>2019-08-13</td>\n",
       "      <td>EASTERN</td>\n",
       "      <td>W</td>\n",
       "      <td>M</td>\n",
       "      <td>YES</td>\n",
       "      <td>YES</td>\n",
       "    </tr>\n",
       "    <tr>\n",
       "      <th>582</th>\n",
       "      <td>21-113</td>\n",
       "      <td>2019-0594</td>\n",
       "      <td>ARREST</td>\n",
       "      <td>E</td>\n",
       "      <td>D/C</td>\n",
       "      <td>YES</td>\n",
       "      <td>2019-12-19</td>\n",
       "      <td>2021-05-25</td>\n",
       "      <td>EASTERN</td>\n",
       "      <td>B</td>\n",
       "      <td>M</td>\n",
       "      <td>YES</td>\n",
       "      <td>YES</td>\n",
       "    </tr>\n",
       "    <tr>\n",
       "      <th>674</th>\n",
       "      <td>21-121</td>\n",
       "      <td>2020-0051</td>\n",
       "      <td>DISCRIMINATION</td>\n",
       "      <td>NS</td>\n",
       "      <td>D/C</td>\n",
       "      <td>NO</td>\n",
       "      <td>2021-01-14</td>\n",
       "      <td>2021-06-29</td>\n",
       "      <td>MID-CITY</td>\n",
       "      <td>B</td>\n",
       "      <td>F</td>\n",
       "      <td>YES</td>\n",
       "      <td>YES</td>\n",
       "    </tr>\n",
       "    <tr>\n",
       "      <th>675</th>\n",
       "      <td>21-121</td>\n",
       "      <td>2020-0051</td>\n",
       "      <td>DISCRIMINATION</td>\n",
       "      <td>NS</td>\n",
       "      <td>D/C</td>\n",
       "      <td>NO</td>\n",
       "      <td>2021-01-14</td>\n",
       "      <td>2021-06-29</td>\n",
       "      <td>MID-CITY</td>\n",
       "      <td>B</td>\n",
       "      <td>F</td>\n",
       "      <td>YES</td>\n",
       "      <td>YES</td>\n",
       "    </tr>\n",
       "    <tr>\n",
       "      <th>676</th>\n",
       "      <td>21-121</td>\n",
       "      <td>2020-0051</td>\n",
       "      <td>DISCRIMINATION</td>\n",
       "      <td>NS</td>\n",
       "      <td>D/C</td>\n",
       "      <td>NO</td>\n",
       "      <td>2021-01-14</td>\n",
       "      <td>2021-06-29</td>\n",
       "      <td>MID-CITY</td>\n",
       "      <td>B</td>\n",
       "      <td>F</td>\n",
       "      <td>YES</td>\n",
       "      <td>YES</td>\n",
       "    </tr>\n",
       "    <tr>\n",
       "      <th>677</th>\n",
       "      <td>21-121</td>\n",
       "      <td>2020-0051</td>\n",
       "      <td>DISCRIMINATION</td>\n",
       "      <td>NS</td>\n",
       "      <td>D/C</td>\n",
       "      <td>NO</td>\n",
       "      <td>2021-01-14</td>\n",
       "      <td>2021-06-29</td>\n",
       "      <td>MID-CITY</td>\n",
       "      <td>B</td>\n",
       "      <td>F</td>\n",
       "      <td>YES</td>\n",
       "      <td>YES</td>\n",
       "    </tr>\n",
       "    <tr>\n",
       "      <th>679</th>\n",
       "      <td>21-121</td>\n",
       "      <td>2020-0051</td>\n",
       "      <td>DISCRIMINATION</td>\n",
       "      <td>NS</td>\n",
       "      <td>D/C</td>\n",
       "      <td>NO</td>\n",
       "      <td>2021-01-14</td>\n",
       "      <td>2021-06-29</td>\n",
       "      <td>MID-CITY</td>\n",
       "      <td>B</td>\n",
       "      <td>F</td>\n",
       "      <td>YES</td>\n",
       "      <td>YES</td>\n",
       "    </tr>\n",
       "    <tr>\n",
       "      <th>681</th>\n",
       "      <td>21-121</td>\n",
       "      <td>2020-0051</td>\n",
       "      <td>DISCRIMINATION</td>\n",
       "      <td>NS</td>\n",
       "      <td>D/C</td>\n",
       "      <td>NO</td>\n",
       "      <td>2021-01-14</td>\n",
       "      <td>2021-06-29</td>\n",
       "      <td>MID-CITY</td>\n",
       "      <td>B</td>\n",
       "      <td>F</td>\n",
       "      <td>YES</td>\n",
       "      <td>YES</td>\n",
       "    </tr>\n",
       "    <tr>\n",
       "      <th>963</th>\n",
       "      <td>21-63</td>\n",
       "      <td>2020-0043</td>\n",
       "      <td>DETENTION</td>\n",
       "      <td>E</td>\n",
       "      <td>D/C</td>\n",
       "      <td>YES</td>\n",
       "      <td>2020-05-08</td>\n",
       "      <td>2020-12-08</td>\n",
       "      <td>Special Ops</td>\n",
       "      <td>B</td>\n",
       "      <td>M</td>\n",
       "      <td>YES</td>\n",
       "      <td>YES</td>\n",
       "    </tr>\n",
       "    <tr>\n",
       "      <th>1069</th>\n",
       "      <td>21-83</td>\n",
       "      <td>2020-0256</td>\n",
       "      <td>COURTESY</td>\n",
       "      <td>U</td>\n",
       "      <td>D/C</td>\n",
       "      <td>YES</td>\n",
       "      <td>2020-09-28</td>\n",
       "      <td>2021-03-09</td>\n",
       "      <td>SOUTHEASTERN</td>\n",
       "      <td>B</td>\n",
       "      <td>F</td>\n",
       "      <td>NO</td>\n",
       "      <td>YES</td>\n",
       "    </tr>\n",
       "    <tr>\n",
       "      <th>1207</th>\n",
       "      <td>22-03</td>\n",
       "      <td>2020-0450</td>\n",
       "      <td>FORCE</td>\n",
       "      <td>E</td>\n",
       "      <td>D/C</td>\n",
       "      <td>YES</td>\n",
       "      <td>2021-05-04</td>\n",
       "      <td>2021-07-13</td>\n",
       "      <td>WESTERN</td>\n",
       "      <td>H</td>\n",
       "      <td>M</td>\n",
       "      <td>YES</td>\n",
       "      <td>YES</td>\n",
       "    </tr>\n",
       "    <tr>\n",
       "      <th>1212</th>\n",
       "      <td>22-03</td>\n",
       "      <td>2020-0450</td>\n",
       "      <td>FORCE</td>\n",
       "      <td>E</td>\n",
       "      <td>D/C</td>\n",
       "      <td>YES</td>\n",
       "      <td>2021-05-04</td>\n",
       "      <td>2021-07-13</td>\n",
       "      <td>WESTERN</td>\n",
       "      <td>H</td>\n",
       "      <td>M</td>\n",
       "      <td>YES</td>\n",
       "      <td>YES</td>\n",
       "    </tr>\n",
       "    <tr>\n",
       "      <th>1318</th>\n",
       "      <td>22-18</td>\n",
       "      <td>2020-0702</td>\n",
       "      <td>FORCE</td>\n",
       "      <td>E</td>\n",
       "      <td>D/C</td>\n",
       "      <td>NO</td>\n",
       "      <td>2021-01-26</td>\n",
       "      <td>2021-08-10</td>\n",
       "      <td>SANTEE</td>\n",
       "      <td>B</td>\n",
       "      <td>F</td>\n",
       "      <td>YES</td>\n",
       "      <td>YES</td>\n",
       "    </tr>\n",
       "    <tr>\n",
       "      <th>1439</th>\n",
       "      <td>22-32</td>\n",
       "      <td>2020-0707</td>\n",
       "      <td>DISCRIMINATION</td>\n",
       "      <td>U</td>\n",
       "      <td>D/C</td>\n",
       "      <td>YES</td>\n",
       "      <td>2021-03-26</td>\n",
       "      <td>2021-09-21</td>\n",
       "      <td>EASTERN</td>\n",
       "      <td>H</td>\n",
       "      <td>F</td>\n",
       "      <td>YES</td>\n",
       "      <td>YES</td>\n",
       "    </tr>\n",
       "    <tr>\n",
       "      <th>1442</th>\n",
       "      <td>22-32</td>\n",
       "      <td>2020-0707</td>\n",
       "      <td>ARREST</td>\n",
       "      <td>E</td>\n",
       "      <td>D/C</td>\n",
       "      <td>YES</td>\n",
       "      <td>2021-03-26</td>\n",
       "      <td>2021-09-21</td>\n",
       "      <td>EASTERN</td>\n",
       "      <td>H</td>\n",
       "      <td>F</td>\n",
       "      <td>YES</td>\n",
       "      <td>YES</td>\n",
       "    </tr>\n",
       "    <tr>\n",
       "      <th>1444</th>\n",
       "      <td>22-32</td>\n",
       "      <td>2020-0707</td>\n",
       "      <td>DISCRIMINATION</td>\n",
       "      <td>NS</td>\n",
       "      <td>D/C</td>\n",
       "      <td>YES</td>\n",
       "      <td>2021-03-26</td>\n",
       "      <td>2021-09-21</td>\n",
       "      <td>EASTERN</td>\n",
       "      <td>H</td>\n",
       "      <td>F</td>\n",
       "      <td>YES</td>\n",
       "      <td>YES</td>\n",
       "    </tr>\n",
       "    <tr>\n",
       "      <th>1447</th>\n",
       "      <td>22-32</td>\n",
       "      <td>2020-0707</td>\n",
       "      <td>ARREST</td>\n",
       "      <td>E</td>\n",
       "      <td>D/C</td>\n",
       "      <td>YES</td>\n",
       "      <td>2021-03-26</td>\n",
       "      <td>2021-09-21</td>\n",
       "      <td>EASTERN</td>\n",
       "      <td>H</td>\n",
       "      <td>F</td>\n",
       "      <td>YES</td>\n",
       "      <td>YES</td>\n",
       "    </tr>\n",
       "    <tr>\n",
       "      <th>1921</th>\n",
       "      <td>22-96</td>\n",
       "      <td>2021-0327</td>\n",
       "      <td>FORCE</td>\n",
       "      <td>U</td>\n",
       "      <td>D/C</td>\n",
       "      <td>YES</td>\n",
       "      <td>2021-11-08</td>\n",
       "      <td>2022-04-12</td>\n",
       "      <td>CENTRAL</td>\n",
       "      <td>H</td>\n",
       "      <td>F</td>\n",
       "      <td>YES</td>\n",
       "      <td>YES</td>\n",
       "    </tr>\n",
       "    <tr>\n",
       "      <th>1924</th>\n",
       "      <td>22-96</td>\n",
       "      <td>2021-0327</td>\n",
       "      <td>FORCE</td>\n",
       "      <td>U</td>\n",
       "      <td>D/C</td>\n",
       "      <td>YES</td>\n",
       "      <td>2021-11-08</td>\n",
       "      <td>2022-04-12</td>\n",
       "      <td>CENTRAL</td>\n",
       "      <td>H</td>\n",
       "      <td>F</td>\n",
       "      <td>YES</td>\n",
       "      <td>YES</td>\n",
       "    </tr>\n",
       "  </tbody>\n",
       "</table>\n",
       "</div>"
      ],
      "text/plain": [
       "          id case_number      allegation ia_finding crb_decision  \\\n",
       "28     19-46   2018-0257       PROCEDURE         NS          D/C   \n",
       "61     19-34   2017-0603          ARREST          E          D/C   \n",
       "154    19-14   2017-0255           FORCE          E          D/C   \n",
       "155    19-14   2017-0255       PROCEDURE          U          D/C   \n",
       "174    19-08   2018-0046          ARREST          E          D/C   \n",
       "204    19-03   2017-0914       PROCEDURE          U          D/C   \n",
       "354    20-06   2017-0916           FORCE          E          D/C   \n",
       "582   21-113   2019-0594          ARREST          E          D/C   \n",
       "674   21-121   2020-0051  DISCRIMINATION         NS          D/C   \n",
       "675   21-121   2020-0051  DISCRIMINATION         NS          D/C   \n",
       "676   21-121   2020-0051  DISCRIMINATION         NS          D/C   \n",
       "677   21-121   2020-0051  DISCRIMINATION         NS          D/C   \n",
       "679   21-121   2020-0051  DISCRIMINATION         NS          D/C   \n",
       "681   21-121   2020-0051  DISCRIMINATION         NS          D/C   \n",
       "963    21-63   2020-0043       DETENTION          E          D/C   \n",
       "1069   21-83   2020-0256        COURTESY          U          D/C   \n",
       "1207   22-03   2020-0450           FORCE          E          D/C   \n",
       "1212   22-03   2020-0450           FORCE          E          D/C   \n",
       "1318   22-18   2020-0702           FORCE          E          D/C   \n",
       "1439   22-32   2020-0707  DISCRIMINATION          U          D/C   \n",
       "1442   22-32   2020-0707          ARREST          E          D/C   \n",
       "1444   22-32   2020-0707  DISCRIMINATION         NS          D/C   \n",
       "1447   22-32   2020-0707          ARREST          E          D/C   \n",
       "1921   22-96   2021-0327           FORCE          U          D/C   \n",
       "1924   22-96   2021-0327           FORCE          U          D/C   \n",
       "\n",
       "     unanimous_vote date_assigned date_presented   pd_division  \\\n",
       "28               NO      12/12/18        4/23/19       EASTERN   \n",
       "61               NO      10/17/18        2/26/19  SOUTHEASTERN   \n",
       "154              NO        5/7/18       10/30/18      SOUTHERN   \n",
       "155              NO        5/7/18       10/30/18      SOUTHERN   \n",
       "174              NO       6/19/18        9/11/18       CENTRAL   \n",
       "204             YES        3/2/18        7/10/18       WESTERN   \n",
       "354              NO    2019-03-07     2019-08-13       EASTERN   \n",
       "582             YES    2019-12-19     2021-05-25       EASTERN   \n",
       "674              NO    2021-01-14     2021-06-29      MID-CITY   \n",
       "675              NO    2021-01-14     2021-06-29      MID-CITY   \n",
       "676              NO    2021-01-14     2021-06-29      MID-CITY   \n",
       "677              NO    2021-01-14     2021-06-29      MID-CITY   \n",
       "679              NO    2021-01-14     2021-06-29      MID-CITY   \n",
       "681              NO    2021-01-14     2021-06-29      MID-CITY   \n",
       "963             YES    2020-05-08     2020-12-08   Special Ops   \n",
       "1069            YES    2020-09-28     2021-03-09  SOUTHEASTERN   \n",
       "1207            YES    2021-05-04     2021-07-13       WESTERN   \n",
       "1212            YES    2021-05-04     2021-07-13       WESTERN   \n",
       "1318             NO    2021-01-26     2021-08-10        SANTEE   \n",
       "1439            YES    2021-03-26     2021-09-21       EASTERN   \n",
       "1442            YES    2021-03-26     2021-09-21       EASTERN   \n",
       "1444            YES    2021-03-26     2021-09-21       EASTERN   \n",
       "1447            YES    2021-03-26     2021-09-21       EASTERN   \n",
       "1921            YES    2021-11-08     2022-04-12       CENTRAL   \n",
       "1924            YES    2021-11-08     2022-04-12       CENTRAL   \n",
       "\n",
       "     complainant_race complainant_gender changes crb_viewed_bwc  \n",
       "28                  B                  M     YES             NO  \n",
       "61                  B                  M      NO             NO  \n",
       "154                 W                  M      NO             NO  \n",
       "155                 W                  M      NO             NO  \n",
       "174                 B                  M      NO             NO  \n",
       "204                 W                  M      NO             NO  \n",
       "354                 W                  M     YES            YES  \n",
       "582                 B                  M     YES            YES  \n",
       "674                 B                  F     YES            YES  \n",
       "675                 B                  F     YES            YES  \n",
       "676                 B                  F     YES            YES  \n",
       "677                 B                  F     YES            YES  \n",
       "679                 B                  F     YES            YES  \n",
       "681                 B                  F     YES            YES  \n",
       "963                 B                  M     YES            YES  \n",
       "1069                B                  F      NO            YES  \n",
       "1207                H                  M     YES            YES  \n",
       "1212                H                  M     YES            YES  \n",
       "1318                B                  F     YES            YES  \n",
       "1439                H                  F     YES            YES  \n",
       "1442                H                  F     YES            YES  \n",
       "1444                H                  F     YES            YES  \n",
       "1447                H                  F     YES            YES  \n",
       "1921                H                  F     YES            YES  \n",
       "1924                H                  F     YES            YES  "
      ]
     },
     "execution_count": 48,
     "metadata": {},
     "output_type": "execute_result"
    }
   ],
   "source": [
    "crb_disagree = allyrs[allyrs['crb_decision'] == 'D/C']\n",
    "crb_disagree"
   ]
  },
  {
   "cell_type": "code",
   "execution_count": 50,
   "metadata": {},
   "outputs": [
    {
     "data": {
      "text/html": [
       "<div>\n",
       "<style scoped>\n",
       "    .dataframe tbody tr th:only-of-type {\n",
       "        vertical-align: middle;\n",
       "    }\n",
       "\n",
       "    .dataframe tbody tr th {\n",
       "        vertical-align: top;\n",
       "    }\n",
       "\n",
       "    .dataframe thead th {\n",
       "        text-align: right;\n",
       "    }\n",
       "</style>\n",
       "<table border=\"1\" class=\"dataframe\">\n",
       "  <thead>\n",
       "    <tr style=\"text-align: right;\">\n",
       "      <th></th>\n",
       "      <th>id</th>\n",
       "      <th>case_number</th>\n",
       "      <th>allegation</th>\n",
       "      <th>ia_finding</th>\n",
       "      <th>crb_decision</th>\n",
       "      <th>unanimous_vote</th>\n",
       "      <th>date_assigned</th>\n",
       "      <th>date_presented</th>\n",
       "      <th>pd_division</th>\n",
       "      <th>complainant_race</th>\n",
       "      <th>complainant_gender</th>\n",
       "      <th>changes</th>\n",
       "      <th>crb_viewed_bwc</th>\n",
       "      <th>misconduct</th>\n",
       "    </tr>\n",
       "  </thead>\n",
       "  <tbody>\n",
       "    <tr>\n",
       "      <th>0</th>\n",
       "      <td>19-59</td>\n",
       "      <td>2018-0182</td>\n",
       "      <td>ARREST</td>\n",
       "      <td>E</td>\n",
       "      <td>A</td>\n",
       "      <td>YES</td>\n",
       "      <td>1/29/19</td>\n",
       "      <td>6/11/19</td>\n",
       "      <td>CENTRAL</td>\n",
       "      <td>B</td>\n",
       "      <td>M</td>\n",
       "      <td>NO</td>\n",
       "      <td>NO</td>\n",
       "      <td>0</td>\n",
       "    </tr>\n",
       "    <tr>\n",
       "      <th>1</th>\n",
       "      <td>19-59</td>\n",
       "      <td>2018-0182</td>\n",
       "      <td>FORCE</td>\n",
       "      <td>E</td>\n",
       "      <td>A</td>\n",
       "      <td>YES</td>\n",
       "      <td>1/29/19</td>\n",
       "      <td>6/11/19</td>\n",
       "      <td>CENTRAL</td>\n",
       "      <td>B</td>\n",
       "      <td>M</td>\n",
       "      <td>NO</td>\n",
       "      <td>NO</td>\n",
       "      <td>0</td>\n",
       "    </tr>\n",
       "    <tr>\n",
       "      <th>2</th>\n",
       "      <td>19-59</td>\n",
       "      <td>2018-0182</td>\n",
       "      <td>OF1 PROCEDURE</td>\n",
       "      <td>S</td>\n",
       "      <td>A</td>\n",
       "      <td>YES</td>\n",
       "      <td>1/29/19</td>\n",
       "      <td>6/11/19</td>\n",
       "      <td>CENTRAL</td>\n",
       "      <td>B</td>\n",
       "      <td>M</td>\n",
       "      <td>NO</td>\n",
       "      <td>NO</td>\n",
       "      <td>1</td>\n",
       "    </tr>\n",
       "    <tr>\n",
       "      <th>3</th>\n",
       "      <td>19-58</td>\n",
       "      <td>2019-0152</td>\n",
       "      <td>DISCRIMINATION</td>\n",
       "      <td>U</td>\n",
       "      <td>A</td>\n",
       "      <td>YES</td>\n",
       "      <td>4/17/19</td>\n",
       "      <td>6/25/19</td>\n",
       "      <td>WESTERN</td>\n",
       "      <td>W</td>\n",
       "      <td>M</td>\n",
       "      <td>NO</td>\n",
       "      <td>NO</td>\n",
       "      <td>0</td>\n",
       "    </tr>\n",
       "    <tr>\n",
       "      <th>4</th>\n",
       "      <td>19-58</td>\n",
       "      <td>2019-0152</td>\n",
       "      <td>DISCRIMINATION</td>\n",
       "      <td>U</td>\n",
       "      <td>A</td>\n",
       "      <td>YES</td>\n",
       "      <td>4/17/19</td>\n",
       "      <td>6/25/19</td>\n",
       "      <td>WESTERN</td>\n",
       "      <td>W</td>\n",
       "      <td>M</td>\n",
       "      <td>NO</td>\n",
       "      <td>NO</td>\n",
       "      <td>0</td>\n",
       "    </tr>\n",
       "  </tbody>\n",
       "</table>\n",
       "</div>"
      ],
      "text/plain": [
       "      id case_number      allegation ia_finding crb_decision unanimous_vote  \\\n",
       "0  19-59   2018-0182          ARREST          E            A            YES   \n",
       "1  19-59   2018-0182           FORCE          E            A            YES   \n",
       "2  19-59   2018-0182   OF1 PROCEDURE          S            A            YES   \n",
       "3  19-58   2019-0152  DISCRIMINATION          U            A            YES   \n",
       "4  19-58   2019-0152  DISCRIMINATION          U            A            YES   \n",
       "\n",
       "  date_assigned date_presented pd_division complainant_race  \\\n",
       "0       1/29/19        6/11/19     CENTRAL                B   \n",
       "1       1/29/19        6/11/19     CENTRAL                B   \n",
       "2       1/29/19        6/11/19     CENTRAL                B   \n",
       "3       4/17/19        6/25/19     WESTERN                W   \n",
       "4       4/17/19        6/25/19     WESTERN                W   \n",
       "\n",
       "  complainant_gender changes crb_viewed_bwc  misconduct  \n",
       "0                  M      NO             NO           0  \n",
       "1                  M      NO             NO           0  \n",
       "2                  M      NO             NO           1  \n",
       "3                  M      NO             NO           0  \n",
       "4                  M      NO             NO           0  "
      ]
     },
     "execution_count": 50,
     "metadata": {},
     "output_type": "execute_result"
    }
   ],
   "source": [
    "# Create the 'misconduct' column\n",
    "allyrs['misconduct'] = ((allyrs['ia_finding'] == 'S') | (allyrs['crb_decision'].isin(['D/C']))).astype(int)\n",
    "\n",
    "allyrs.head()"
   ]
  },
  {
   "cell_type": "code",
   "execution_count": 51,
   "metadata": {},
   "outputs": [
    {
     "data": {
      "text/plain": [
       "387"
      ]
     },
     "execution_count": 51,
     "metadata": {},
     "output_type": "execute_result"
    }
   ],
   "source": [
    "misconduct = allyrs[allyrs['misconduct'] == 1]\n",
    "len(misconduct)"
   ]
  },
  {
   "cell_type": "code",
   "execution_count": 52,
   "metadata": {},
   "outputs": [
    {
     "data": {
      "image/png": "[encoded data removed]",
      "text/plain": [
       "<Figure size 720x720 with 1 Axes>"
      ]
     },
     "metadata": {
      "needs_background": "light"
     },
     "output_type": "display_data"
    }
   ],
   "source": [
    "tot = pd.DataFrame(misconduct['allegation'].value_counts().reset_index())\n",
    "tot.columns = ['allegation', 'count']\n",
    "\n",
    "# Create the bar plot\n",
    "plt.figure(figsize=(10, 10))\n",
    "sns.barplot(data=tot, x='count', y='allegation')\n",
    "plt.title('Allegations in Favor of Complainant')\n",
    "plt.xlabel('Count')\n",
    "plt.ylabel('Allegations')\n",
    "plt.show()"
   ]
  },
  {
   "cell_type": "code",
   "execution_count": 53,
   "metadata": {},
   "outputs": [
    {
     "data": {
      "text/plain": [
       "1947"
      ]
     },
     "execution_count": 53,
     "metadata": {},
     "output_type": "execute_result"
    }
   ],
   "source": [
    "len(allyrs)"
   ]
  },
  {
   "cell_type": "code",
   "execution_count": 54,
   "metadata": {},
   "outputs": [
    {
     "data": {
      "text/plain": [
       "misconduct\n",
       "0    1560\n",
       "1     387\n",
       "Name: count, dtype: int64"
      ]
     },
     "execution_count": 54,
     "metadata": {},
     "output_type": "execute_result"
    }
   ],
   "source": [
    "allyrs['misconduct'].value_counts()"
   ]
  },
  {
   "cell_type": "code",
   "execution_count": 55,
   "metadata": {},
   "outputs": [
    {
     "data": {
      "image/png": "[encoded data removed]",
      "text/plain": [
       "<Figure size 720x432 with 1 Axes>"
      ]
     },
     "metadata": {
      "needs_background": "light"
     },
     "output_type": "display_data"
    }
   ],
   "source": [
    "tot = pd.DataFrame(allyrs['misconduct'].value_counts().reset_index())\n",
    "tot.columns = ['misconduct', 'count']\n",
    "\n",
    "# Create the bar plot\n",
    "plt.figure(figsize=(10, 6))\n",
    "sns.barplot(data=tot, x='misconduct', y='count')\n",
    "plt.title('Complaint Affirmed as Misconduct')\n",
    "plt.xlabel('misconduct')\n",
    "plt.ylabel('count')\n",
    "plt.show()"
   ]
  },
  {
   "cell_type": "code",
   "execution_count": 56,
   "metadata": {},
   "outputs": [
    {
     "data": {
      "image/png": "[encoded data removed]",
      "text/plain": [
       "<Figure size 720x720 with 1 Axes>"
      ]
     },
     "metadata": {
      "needs_background": "light"
     },
     "output_type": "display_data"
    }
   ],
   "source": [
    "tot = pd.DataFrame(misconduct['pd_division'].value_counts().reset_index())\n",
    "tot.columns = ['pd_division', 'count']\n",
    "\n",
    "# Create the bar plot\n",
    "plt.figure(figsize=(10, 10))\n",
    "sns.barplot(data=tot, x='count', y='pd_division')\n",
    "plt.title('Misconduct by PD Division')\n",
    "plt.xlabel('Count')\n",
    "plt.ylabel('PD Division')\n",
    "plt.show()"
   ]
  },
  {
   "cell_type": "markdown",
   "metadata": {},
   "source": [
    "# Modeling"
   ]
  },
  {
   "cell_type": "markdown",
   "metadata": {},
   "source": [
    "## Prepare the data for modeling"
   ]
  },
  {
   "cell_type": "code",
   "execution_count": 57,
   "metadata": {},
   "outputs": [],
   "source": [
    "#import libraries\n",
    "from sklearn.model_selection import train_test_split, GridSearchCV\n",
    "from sklearn.linear_model import LogisticRegression\n",
    "from sklearn.ensemble import RandomForestClassifier, GradientBoostingClassifier\n",
    "from sklearn.metrics import roc_auc_score\n",
    "import matplotlib.pyplot as plt"
   ]
  },
  {
   "cell_type": "code",
   "execution_count": 58,
   "metadata": {},
   "outputs": [],
   "source": [
    "# Drop date columns and columns that we used to generate the 'misconduct' feature\n",
    "df = allyrs.drop(['id', 'case_number', 'date_assigned', 'date_presented', 'ia_finding', 'crb_decision'], axis=1)"
   ]
  },
  {
   "cell_type": "code",
   "execution_count": 59,
   "metadata": {},
   "outputs": [
    {
     "data": {
      "text/html": [
       "<div>\n",
       "<style scoped>\n",
       "    .dataframe tbody tr th:only-of-type {\n",
       "        vertical-align: middle;\n",
       "    }\n",
       "\n",
       "    .dataframe tbody tr th {\n",
       "        vertical-align: top;\n",
       "    }\n",
       "\n",
       "    .dataframe thead th {\n",
       "        text-align: right;\n",
       "    }\n",
       "</style>\n",
       "<table border=\"1\" class=\"dataframe\">\n",
       "  <thead>\n",
       "    <tr style=\"text-align: right;\">\n",
       "      <th></th>\n",
       "      <th>allegation</th>\n",
       "      <th>unanimous_vote</th>\n",
       "      <th>pd_division</th>\n",
       "      <th>complainant_race</th>\n",
       "      <th>complainant_gender</th>\n",
       "      <th>changes</th>\n",
       "      <th>crb_viewed_bwc</th>\n",
       "      <th>misconduct</th>\n",
       "    </tr>\n",
       "  </thead>\n",
       "  <tbody>\n",
       "    <tr>\n",
       "      <th>0</th>\n",
       "      <td>ARREST</td>\n",
       "      <td>YES</td>\n",
       "      <td>CENTRAL</td>\n",
       "      <td>B</td>\n",
       "      <td>M</td>\n",
       "      <td>NO</td>\n",
       "      <td>NO</td>\n",
       "      <td>0</td>\n",
       "    </tr>\n",
       "    <tr>\n",
       "      <th>1</th>\n",
       "      <td>FORCE</td>\n",
       "      <td>YES</td>\n",
       "      <td>CENTRAL</td>\n",
       "      <td>B</td>\n",
       "      <td>M</td>\n",
       "      <td>NO</td>\n",
       "      <td>NO</td>\n",
       "      <td>0</td>\n",
       "    </tr>\n",
       "    <tr>\n",
       "      <th>2</th>\n",
       "      <td>OF1 PROCEDURE</td>\n",
       "      <td>YES</td>\n",
       "      <td>CENTRAL</td>\n",
       "      <td>B</td>\n",
       "      <td>M</td>\n",
       "      <td>NO</td>\n",
       "      <td>NO</td>\n",
       "      <td>1</td>\n",
       "    </tr>\n",
       "    <tr>\n",
       "      <th>3</th>\n",
       "      <td>DISCRIMINATION</td>\n",
       "      <td>YES</td>\n",
       "      <td>WESTERN</td>\n",
       "      <td>W</td>\n",
       "      <td>M</td>\n",
       "      <td>NO</td>\n",
       "      <td>NO</td>\n",
       "      <td>0</td>\n",
       "    </tr>\n",
       "    <tr>\n",
       "      <th>4</th>\n",
       "      <td>DISCRIMINATION</td>\n",
       "      <td>YES</td>\n",
       "      <td>WESTERN</td>\n",
       "      <td>W</td>\n",
       "      <td>M</td>\n",
       "      <td>NO</td>\n",
       "      <td>NO</td>\n",
       "      <td>0</td>\n",
       "    </tr>\n",
       "  </tbody>\n",
       "</table>\n",
       "</div>"
      ],
      "text/plain": [
       "       allegation unanimous_vote pd_division complainant_race  \\\n",
       "0          ARREST            YES     CENTRAL                B   \n",
       "1           FORCE            YES     CENTRAL                B   \n",
       "2   OF1 PROCEDURE            YES     CENTRAL                B   \n",
       "3  DISCRIMINATION            YES     WESTERN                W   \n",
       "4  DISCRIMINATION            YES     WESTERN                W   \n",
       "\n",
       "  complainant_gender changes crb_viewed_bwc  misconduct  \n",
       "0                  M      NO             NO           0  \n",
       "1                  M      NO             NO           0  \n",
       "2                  M      NO             NO           1  \n",
       "3                  M      NO             NO           0  \n",
       "4                  M      NO             NO           0  "
      ]
     },
     "execution_count": 59,
     "metadata": {},
     "output_type": "execute_result"
    }
   ],
   "source": [
    "df.head()"
   ]
  },
  {
   "cell_type": "code",
   "execution_count": 60,
   "metadata": {},
   "outputs": [
    {
     "data": {
      "text/html": [
       "<div>\n",
       "<style scoped>\n",
       "    .dataframe tbody tr th:only-of-type {\n",
       "        vertical-align: middle;\n",
       "    }\n",
       "\n",
       "    .dataframe tbody tr th {\n",
       "        vertical-align: top;\n",
       "    }\n",
       "\n",
       "    .dataframe thead th {\n",
       "        text-align: right;\n",
       "    }\n",
       "</style>\n",
       "<table border=\"1\" class=\"dataframe\">\n",
       "  <thead>\n",
       "    <tr style=\"text-align: right;\">\n",
       "      <th></th>\n",
       "      <th>misconduct</th>\n",
       "      <th>allegation_0F4 PROCEDURE</th>\n",
       "      <th>allegation_ARREST</th>\n",
       "      <th>allegation_CONDUCT</th>\n",
       "      <th>allegation_COURTESY</th>\n",
       "      <th>allegation_CRIMINAL CONDUCT</th>\n",
       "      <th>allegation_DETENTION</th>\n",
       "      <th>allegation_DISCRIMINATION</th>\n",
       "      <th>allegation_FORCE</th>\n",
       "      <th>allegation_ICD</th>\n",
       "      <th>...</th>\n",
       "      <th>complainant_race_UNK</th>\n",
       "      <th>complainant_race_W</th>\n",
       "      <th>complainant_gender_F</th>\n",
       "      <th>complainant_gender_M</th>\n",
       "      <th>complainant_gender_UNK</th>\n",
       "      <th>changes_</th>\n",
       "      <th>changes_NO</th>\n",
       "      <th>changes_YES</th>\n",
       "      <th>crb_viewed_bwc_NO</th>\n",
       "      <th>crb_viewed_bwc_YES</th>\n",
       "    </tr>\n",
       "  </thead>\n",
       "  <tbody>\n",
       "    <tr>\n",
       "      <th>0</th>\n",
       "      <td>0</td>\n",
       "      <td>False</td>\n",
       "      <td>True</td>\n",
       "      <td>False</td>\n",
       "      <td>False</td>\n",
       "      <td>False</td>\n",
       "      <td>False</td>\n",
       "      <td>False</td>\n",
       "      <td>False</td>\n",
       "      <td>False</td>\n",
       "      <td>...</td>\n",
       "      <td>False</td>\n",
       "      <td>False</td>\n",
       "      <td>False</td>\n",
       "      <td>True</td>\n",
       "      <td>False</td>\n",
       "      <td>False</td>\n",
       "      <td>True</td>\n",
       "      <td>False</td>\n",
       "      <td>True</td>\n",
       "      <td>False</td>\n",
       "    </tr>\n",
       "    <tr>\n",
       "      <th>1</th>\n",
       "      <td>0</td>\n",
       "      <td>False</td>\n",
       "      <td>False</td>\n",
       "      <td>False</td>\n",
       "      <td>False</td>\n",
       "      <td>False</td>\n",
       "      <td>False</td>\n",
       "      <td>False</td>\n",
       "      <td>True</td>\n",
       "      <td>False</td>\n",
       "      <td>...</td>\n",
       "      <td>False</td>\n",
       "      <td>False</td>\n",
       "      <td>False</td>\n",
       "      <td>True</td>\n",
       "      <td>False</td>\n",
       "      <td>False</td>\n",
       "      <td>True</td>\n",
       "      <td>False</td>\n",
       "      <td>True</td>\n",
       "      <td>False</td>\n",
       "    </tr>\n",
       "    <tr>\n",
       "      <th>2</th>\n",
       "      <td>1</td>\n",
       "      <td>False</td>\n",
       "      <td>False</td>\n",
       "      <td>False</td>\n",
       "      <td>False</td>\n",
       "      <td>False</td>\n",
       "      <td>False</td>\n",
       "      <td>False</td>\n",
       "      <td>False</td>\n",
       "      <td>False</td>\n",
       "      <td>...</td>\n",
       "      <td>False</td>\n",
       "      <td>False</td>\n",
       "      <td>False</td>\n",
       "      <td>True</td>\n",
       "      <td>False</td>\n",
       "      <td>False</td>\n",
       "      <td>True</td>\n",
       "      <td>False</td>\n",
       "      <td>True</td>\n",
       "      <td>False</td>\n",
       "    </tr>\n",
       "    <tr>\n",
       "      <th>3</th>\n",
       "      <td>0</td>\n",
       "      <td>False</td>\n",
       "      <td>False</td>\n",
       "      <td>False</td>\n",
       "      <td>False</td>\n",
       "      <td>False</td>\n",
       "      <td>False</td>\n",
       "      <td>True</td>\n",
       "      <td>False</td>\n",
       "      <td>False</td>\n",
       "      <td>...</td>\n",
       "      <td>False</td>\n",
       "      <td>True</td>\n",
       "      <td>False</td>\n",
       "      <td>True</td>\n",
       "      <td>False</td>\n",
       "      <td>False</td>\n",
       "      <td>True</td>\n",
       "      <td>False</td>\n",
       "      <td>True</td>\n",
       "      <td>False</td>\n",
       "    </tr>\n",
       "    <tr>\n",
       "      <th>4</th>\n",
       "      <td>0</td>\n",
       "      <td>False</td>\n",
       "      <td>False</td>\n",
       "      <td>False</td>\n",
       "      <td>False</td>\n",
       "      <td>False</td>\n",
       "      <td>False</td>\n",
       "      <td>True</td>\n",
       "      <td>False</td>\n",
       "      <td>False</td>\n",
       "      <td>...</td>\n",
       "      <td>False</td>\n",
       "      <td>True</td>\n",
       "      <td>False</td>\n",
       "      <td>True</td>\n",
       "      <td>False</td>\n",
       "      <td>False</td>\n",
       "      <td>True</td>\n",
       "      <td>False</td>\n",
       "      <td>True</td>\n",
       "      <td>False</td>\n",
       "    </tr>\n",
       "  </tbody>\n",
       "</table>\n",
       "<p>5 rows × 82 columns</p>\n",
       "</div>"
      ],
      "text/plain": [
       "   misconduct  allegation_0F4 PROCEDURE  allegation_ARREST  \\\n",
       "0           0                     False               True   \n",
       "1           0                     False              False   \n",
       "2           1                     False              False   \n",
       "3           0                     False              False   \n",
       "4           0                     False              False   \n",
       "\n",
       "   allegation_CONDUCT  allegation_COURTESY  allegation_CRIMINAL CONDUCT  \\\n",
       "0               False                False                        False   \n",
       "1               False                False                        False   \n",
       "2               False                False                        False   \n",
       "3               False                False                        False   \n",
       "4               False                False                        False   \n",
       "\n",
       "   allegation_DETENTION  allegation_DISCRIMINATION  allegation_FORCE  \\\n",
       "0                 False                      False             False   \n",
       "1                 False                      False              True   \n",
       "2                 False                      False             False   \n",
       "3                 False                       True             False   \n",
       "4                 False                       True             False   \n",
       "\n",
       "   allegation_ICD  ...  complainant_race_UNK  complainant_race_W  \\\n",
       "0           False  ...                 False               False   \n",
       "1           False  ...                 False               False   \n",
       "2           False  ...                 False               False   \n",
       "3           False  ...                 False                True   \n",
       "4           False  ...                 False                True   \n",
       "\n",
       "   complainant_gender_F  complainant_gender_M  complainant_gender_UNK  \\\n",
       "0                 False                  True                   False   \n",
       "1                 False                  True                   False   \n",
       "2                 False                  True                   False   \n",
       "3                 False                  True                   False   \n",
       "4                 False                  True                   False   \n",
       "\n",
       "   changes_  changes_NO  changes_YES  crb_viewed_bwc_NO  crb_viewed_bwc_YES  \n",
       "0     False        True        False               True               False  \n",
       "1     False        True        False               True               False  \n",
       "2     False        True        False               True               False  \n",
       "3     False        True        False               True               False  \n",
       "4     False        True        False               True               False  \n",
       "\n",
       "[5 rows x 82 columns]"
      ]
     },
     "execution_count": 60,
     "metadata": {},
     "output_type": "execute_result"
    }
   ],
   "source": [
    "# Apply one-hot encoding\n",
    "df_encoded = pd.get_dummies(df)\n",
    "\n",
    "df_encoded.head()"
   ]
  },
  {
   "cell_type": "code",
   "execution_count": 61,
   "metadata": {},
   "outputs": [],
   "source": [
    "# Split the data into training and testing sets\n",
    "X = df_encoded.drop('misconduct', axis=1)\n",
    "y = df_encoded['misconduct']\n",
    "X_train, X_test, y_train, y_test = train_test_split(X, y, test_size=0.2, random_state=42)\n"
   ]
  },
  {
   "cell_type": "markdown",
   "metadata": {},
   "source": [
    "## Logistic Regresstion"
   ]
  },
  {
   "cell_type": "markdown",
   "metadata": {},
   "source": [
    "Imbalanced data set performance"
   ]
  },
  {
   "cell_type": "code",
   "execution_count": 62,
   "metadata": {},
   "outputs": [
    {
     "name": "stdout",
     "output_type": "stream",
     "text": [
      "Logistic Regression AUC-ROC Score: 0.844551282051282\n"
     ]
    }
   ],
   "source": [
    "# Define hyperparameters to tune\n",
    "log_reg = LogisticRegression(random_state=42)\n",
    "\n",
    "log_reg_params = {'C': [0.001, 0.01, 0.1, 1, 10, 100, 1000]}\n",
    "\n",
    "log_reg_gs = GridSearchCV(log_reg, log_reg_params, cv=5)\n",
    "\n",
    "log_reg_gs.fit(X_train, y_train)\n",
    "\n",
    "log_reg_preds = log_reg_gs.predict(X_test)\n",
    "\n",
    "log_reg_auc = roc_auc_score(y_test, log_reg_preds)\n",
    "\n",
    "print(f'Logistic Regression AUC-ROC Score: {log_reg_auc}')"
   ]
  },
  {
   "cell_type": "code",
   "execution_count": 63,
   "metadata": {},
   "outputs": [
    {
     "data": {
      "image/png": "[encoded data removed]",
      "text/plain": [
       "<Figure size 720x1440 with 1 Axes>"
      ]
     },
     "metadata": {
      "needs_background": "light"
     },
     "output_type": "display_data"
    }
   ],
   "source": [
    "# Fetch the coefficients from the trained logistic regression model\n",
    "coefficients = log_reg_gs.best_estimator_.coef_[0]\n",
    "\n",
    "# Create a dataframe for the coefficients\n",
    "coefficients_df = pd.DataFrame({'Feature': X.columns, 'Coefficient': coefficients})\n",
    "\n",
    "# Get the absolute values of the coefficients for sorting\n",
    "coefficients_df['abs'] = coefficients_df['Coefficient'].apply(abs)\n",
    "coefficients_df = coefficients_df.sort_values('abs', ascending=False).drop(columns='abs')\n",
    "\n",
    "# Plot the coefficients\n",
    "plt.figure(figsize=(10,20))\n",
    "plt.barh(coefficients_df['Feature'], coefficients_df['Coefficient'])\n",
    "plt.xlabel('Coefficient')\n",
    "plt.ylabel('Feature')\n",
    "plt.title('Logistic Regression Coefficients')\n",
    "plt.gca().invert_yaxis()\n",
    "plt.show()\n"
   ]
  },
  {
   "cell_type": "markdown",
   "metadata": {},
   "source": [
    "### Balanced dataset"
   ]
  },
  {
   "cell_type": "code",
   "execution_count": 64,
   "metadata": {},
   "outputs": [
    {
     "name": "stdout",
     "output_type": "stream",
     "text": [
      "Requirement already satisfied: imblearn in c:\\users\\earne\\anaconda3\\lib\\site-packages (0.0)\n",
      "Requirement already satisfied: imbalanced-learn in c:\\users\\earne\\anaconda3\\lib\\site-packages (from imblearn) (0.11.0)\n",
      "Requirement already satisfied: numpy>=1.17.3 in c:\\users\\earne\\anaconda3\\lib\\site-packages (from imbalanced-learn->imblearn) (1.22.4)\n",
      "Requirement already satisfied: joblib>=1.1.1 in c:\\users\\earne\\anaconda3\\lib\\site-packages (from imbalanced-learn->imblearn) (1.2.0)\n",
      "Requirement already satisfied: threadpoolctl>=2.0.0 in c:\\users\\earne\\anaconda3\\lib\\site-packages (from imbalanced-learn->imblearn) (2.1.0)\n",
      "Requirement already satisfied: scikit-learn>=1.0.2 in c:\\users\\earne\\anaconda3\\lib\\site-packages (from imbalanced-learn->imblearn) (1.2.2)\n",
      "Requirement already satisfied: scipy>=1.5.0 in c:\\users\\earne\\anaconda3\\lib\\site-packages (from imbalanced-learn->imblearn) (1.10.1)\n"
     ]
    }
   ],
   "source": [
    "!pip install imblearn"
   ]
  },
  {
   "cell_type": "code",
   "execution_count": 75,
   "metadata": {},
   "outputs": [
    {
     "data": {
      "text/plain": [
       "misconduct\n",
       "0    1248\n",
       "1    1248\n",
       "Name: count, dtype: int64"
      ]
     },
     "execution_count": 75,
     "metadata": {},
     "output_type": "execute_result"
    }
   ],
   "source": [
    "#rebalance the dataset using imblearn\n",
    "from imblearn.over_sampling import RandomOverSampler\n",
    "\n",
    "# Define the random oversampler\n",
    "ros = RandomOverSampler(random_state=42)\n",
    "\n",
    "# Fit and apply the transform\n",
    "X_train_bal, y_train_bal = ros.fit_resample(X_train, y_train)\n",
    "\n",
    "# Check the balance of the target variable\n",
    "y_train_bal.value_counts()"
   ]
  },
  {
   "cell_type": "code",
   "execution_count": 76,
   "metadata": {},
   "outputs": [
    {
     "name": "stdout",
     "output_type": "stream",
     "text": [
      "Logistic Regression AUC-ROC Score: 0.8477564102564102\n"
     ]
    }
   ],
   "source": [
    "log_reg = LogisticRegression(random_state=42)\n",
    "\n",
    "log_reg_params = {'C': [0.001, 0.01, 0.1, 1, 10, 100, 1000]}\n",
    "\n",
    "log_reg_gs = GridSearchCV(log_reg, log_reg_params, cv=5)\n",
    "\n",
    "log_reg_gs.fit(X_train_bal, y_train_bal)\n",
    "\n",
    "log_reg_preds = log_reg_gs.predict(X_test)\n",
    "\n",
    "log_reg_auc = roc_auc_score(y_test, log_reg_preds)\n",
    "\n",
    "print(f'Logistic Regression AUC-ROC Score: {log_reg_auc}')"
   ]
  },
  {
   "cell_type": "code",
   "execution_count": 68,
   "metadata": {},
   "outputs": [
    {
     "data": {
      "image/png": "[encoded data removed]",
      "text/plain": [
       "<Figure size 720x1440 with 1 Axes>"
      ]
     },
     "metadata": {
      "needs_background": "light"
     },
     "output_type": "display_data"
    }
   ],
   "source": [
    "# Fetch the coefficients from the trained logistic regression model\n",
    "coefficients = log_reg_gs.best_estimator_.coef_[0]\n",
    "\n",
    "# Create a dataframe for the coefficients\n",
    "coefficients_df = pd.DataFrame({'Feature': X.columns, 'Coefficient': coefficients})\n",
    "\n",
    "# Get the absolute values of the coefficients for sorting\n",
    "coefficients_df['abs'] = coefficients_df['Coefficient'].apply(abs)\n",
    "coefficients_df = coefficients_df.sort_values('abs', ascending=False).drop(columns='abs')\n",
    "\n",
    "# Plot the coefficients\n",
    "plt.figure(figsize=(10,20))\n",
    "plt.barh(coefficients_df['Feature'], coefficients_df['Coefficient'])\n",
    "plt.xlabel('Coefficient')\n",
    "plt.ylabel('Feature')\n",
    "plt.title('Logistic Regression Coefficients')\n",
    "plt.gca().invert_yaxis()\n",
    "plt.show()"
   ]
  },
  {
   "cell_type": "markdown",
   "metadata": {},
   "source": [
    "## Penalized Logistic Regression"
   ]
  },
  {
   "cell_type": "markdown",
   "metadata": {},
   "source": [
    "### Imbalanced"
   ]
  },
  {
   "cell_type": "code",
   "execution_count": 69,
   "metadata": {},
   "outputs": [],
   "source": [
    "#Grid search was implemented to identify the ideal values for a model’s hyperparameters. \n",
    "#Set a grid of parameters to map estimator parameters to sequences of allowed values\n",
    "param_grid = {'C': [0.001, 0.01, 0.1, 1, 10]}\n",
    "grid_search = GridSearchCV(LogisticRegression(penalty='l2'), param_grid, cv=5)\n",
    "grid_search.fit(X_train, y_train)\n",
    "\n",
    "best_C = grid_search.best_params_['C']"
   ]
  },
  {
   "cell_type": "code",
   "execution_count": 70,
   "metadata": {},
   "outputs": [
    {
     "data": {
      "text/html": [
       "<style>#sk-container-id-1 {color: black;background-color: white;}#sk-container-id-1 pre{padding: 0;}#sk-container-id-1 div.sk-toggleable {background-color: white;}#sk-container-id-1 label.sk-toggleable__label {cursor: pointer;display: block;width: 100%;margin-bottom: 0;padding: 0.3em;box-sizing: border-box;text-align: center;}#sk-container-id-1 label.sk-toggleable__label-arrow:before {content: \"▸\";float: left;margin-right: 0.25em;color: #696969;}#sk-container-id-1 label.sk-toggleable__label-arrow:hover:before {color: black;}#sk-container-id-1 div.sk-estimator:hover label.sk-toggleable__label-arrow:before {color: black;}#sk-container-id-1 div.sk-toggleable__content {max-height: 0;max-width: 0;overflow: hidden;text-align: left;background-color: #f0f8ff;}#sk-container-id-1 div.sk-toggleable__content pre {margin: 0.2em;color: black;border-radius: 0.25em;background-color: #f0f8ff;}#sk-container-id-1 input.sk-toggleable__control:checked~div.sk-toggleable__content {max-height: 200px;max-width: 100%;overflow: auto;}#sk-container-id-1 input.sk-toggleable__control:checked~label.sk-toggleable__label-arrow:before {content: \"▾\";}#sk-container-id-1 div.sk-estimator input.sk-toggleable__control:checked~label.sk-toggleable__label {background-color: #d4ebff;}#sk-container-id-1 div.sk-label input.sk-toggleable__control:checked~label.sk-toggleable__label {background-color: #d4ebff;}#sk-container-id-1 input.sk-hidden--visually {border: 0;clip: rect(1px 1px 1px 1px);clip: rect(1px, 1px, 1px, 1px);height: 1px;margin: -1px;overflow: hidden;padding: 0;position: absolute;width: 1px;}#sk-container-id-1 div.sk-estimator {font-family: monospace;background-color: #f0f8ff;border: 1px dotted black;border-radius: 0.25em;box-sizing: border-box;margin-bottom: 0.5em;}#sk-container-id-1 div.sk-estimator:hover {background-color: #d4ebff;}#sk-container-id-1 div.sk-parallel-item::after {content: \"\";width: 100%;border-bottom: 1px solid gray;flex-grow: 1;}#sk-container-id-1 div.sk-label:hover label.sk-toggleable__label {background-color: #d4ebff;}#sk-container-id-1 div.sk-serial::before {content: \"\";position: absolute;border-left: 1px solid gray;box-sizing: border-box;top: 0;bottom: 0;left: 50%;z-index: 0;}#sk-container-id-1 div.sk-serial {display: flex;flex-direction: column;align-items: center;background-color: white;padding-right: 0.2em;padding-left: 0.2em;position: relative;}#sk-container-id-1 div.sk-item {position: relative;z-index: 1;}#sk-container-id-1 div.sk-parallel {display: flex;align-items: stretch;justify-content: center;background-color: white;position: relative;}#sk-container-id-1 div.sk-item::before, #sk-container-id-1 div.sk-parallel-item::before {content: \"\";position: absolute;border-left: 1px solid gray;box-sizing: border-box;top: 0;bottom: 0;left: 50%;z-index: -1;}#sk-container-id-1 div.sk-parallel-item {display: flex;flex-direction: column;z-index: 1;position: relative;background-color: white;}#sk-container-id-1 div.sk-parallel-item:first-child::after {align-self: flex-end;width: 50%;}#sk-container-id-1 div.sk-parallel-item:last-child::after {align-self: flex-start;width: 50%;}#sk-container-id-1 div.sk-parallel-item:only-child::after {width: 0;}#sk-container-id-1 div.sk-dashed-wrapped {border: 1px dashed gray;margin: 0 0.4em 0.5em 0.4em;box-sizing: border-box;padding-bottom: 0.4em;background-color: white;}#sk-container-id-1 div.sk-label label {font-family: monospace;font-weight: bold;display: inline-block;line-height: 1.2em;}#sk-container-id-1 div.sk-label-container {text-align: center;}#sk-container-id-1 div.sk-container {/* jupyter's `normalize.less` sets `[hidden] { display: none; }` but bootstrap.min.css set `[hidden] { display: none !important; }` so we also need the `!important` here to be able to override the default hidden behavior on the sphinx rendered scikit-learn.org. See: https://github.com/scikit-learn/scikit-learn/issues/21755 */display: inline-block !important;position: relative;}#sk-container-id-1 div.sk-text-repr-fallback {display: none;}</style><div id=\"sk-container-id-1\" class=\"sk-top-container\"><div class=\"sk-text-repr-fallback\"><pre>LogisticRegression(C=10)</pre><b>In a Jupyter environment, please rerun this cell to show the HTML representation or trust the notebook. <br />On GitHub, the HTML representation is unable to render, please try loading this page with nbviewer.org.</b></div><div class=\"sk-container\" hidden><div class=\"sk-item\"><div class=\"sk-estimator sk-toggleable\"><input class=\"sk-toggleable__control sk-hidden--visually\" id=\"sk-estimator-id-1\" type=\"checkbox\" checked><label for=\"sk-estimator-id-1\" class=\"sk-toggleable__label sk-toggleable__label-arrow\">LogisticRegression</label><div class=\"sk-toggleable__content\"><pre>LogisticRegression(C=10)</pre></div></div></div></div></div>"
      ],
      "text/plain": [
       "LogisticRegression(C=10)"
      ]
     },
     "execution_count": 70,
     "metadata": {},
     "output_type": "execute_result"
    }
   ],
   "source": [
    "\n",
    "model = LogisticRegression(penalty='l2', C=best_C)\n",
    "model.fit(X_train, y_train)"
   ]
  },
  {
   "cell_type": "code",
   "execution_count": 71,
   "metadata": {},
   "outputs": [],
   "source": [
    "y_pred = model.predict(X_test)"
   ]
  },
  {
   "cell_type": "code",
   "execution_count": 74,
   "metadata": {},
   "outputs": [
    {
     "name": "stdout",
     "output_type": "stream",
     "text": [
      "Accuracy: 0.9358974358974359\n",
      "              precision    recall  f1-score   support\n",
      "\n",
      "           0       0.93      1.00      0.96       312\n",
      "           1       0.98      0.69      0.81        78\n",
      "\n",
      "    accuracy                           0.94       390\n",
      "   macro avg       0.96      0.84      0.89       390\n",
      "weighted avg       0.94      0.94      0.93       390\n",
      "\n",
      "Cross Val Score:  0.9280608459065051\n"
     ]
    }
   ],
   "source": [
    "from sklearn.metrics import classification_report\n",
    "import statistics as stats\n",
    "from sklearn.model_selection import cross_val_score\n",
    "accuracy = accuracy_score(y_test, y_pred)\n",
    "print(\"Accuracy:\", accuracy)\n",
    "print(classification_report(y_test, y_pred))\n",
    "print(\"Cross Val Score: \", stats.mean(cross_val_score(model, X_train, \n",
    "                                                      y_train, cv = 5)))"
   ]
  },
  {
   "cell_type": "markdown",
   "metadata": {},
   "source": [
    "### Balanced"
   ]
  },
  {
   "cell_type": "code",
   "execution_count": 77,
   "metadata": {},
   "outputs": [],
   "source": [
    "param_grid = {'C': [0.001, 0.01, 0.1, 1, 10]}\n",
    "grid_search = GridSearchCV(LogisticRegression(penalty='l2'), param_grid, cv=5)\n",
    "grid_search.fit(X_train_bal, y_train_bal)\n",
    "\n",
    "best_C = grid_search.best_params_['C']"
   ]
  },
  {
   "cell_type": "code",
   "execution_count": 78,
   "metadata": {},
   "outputs": [
    {
     "data": {
      "text/html": [
       "<style>#sk-container-id-2 {color: black;background-color: white;}#sk-container-id-2 pre{padding: 0;}#sk-container-id-2 div.sk-toggleable {background-color: white;}#sk-container-id-2 label.sk-toggleable__label {cursor: pointer;display: block;width: 100%;margin-bottom: 0;padding: 0.3em;box-sizing: border-box;text-align: center;}#sk-container-id-2 label.sk-toggleable__label-arrow:before {content: \"▸\";float: left;margin-right: 0.25em;color: #696969;}#sk-container-id-2 label.sk-toggleable__label-arrow:hover:before {color: black;}#sk-container-id-2 div.sk-estimator:hover label.sk-toggleable__label-arrow:before {color: black;}#sk-container-id-2 div.sk-toggleable__content {max-height: 0;max-width: 0;overflow: hidden;text-align: left;background-color: #f0f8ff;}#sk-container-id-2 div.sk-toggleable__content pre {margin: 0.2em;color: black;border-radius: 0.25em;background-color: #f0f8ff;}#sk-container-id-2 input.sk-toggleable__control:checked~div.sk-toggleable__content {max-height: 200px;max-width: 100%;overflow: auto;}#sk-container-id-2 input.sk-toggleable__control:checked~label.sk-toggleable__label-arrow:before {content: \"▾\";}#sk-container-id-2 div.sk-estimator input.sk-toggleable__control:checked~label.sk-toggleable__label {background-color: #d4ebff;}#sk-container-id-2 div.sk-label input.sk-toggleable__control:checked~label.sk-toggleable__label {background-color: #d4ebff;}#sk-container-id-2 input.sk-hidden--visually {border: 0;clip: rect(1px 1px 1px 1px);clip: rect(1px, 1px, 1px, 1px);height: 1px;margin: -1px;overflow: hidden;padding: 0;position: absolute;width: 1px;}#sk-container-id-2 div.sk-estimator {font-family: monospace;background-color: #f0f8ff;border: 1px dotted black;border-radius: 0.25em;box-sizing: border-box;margin-bottom: 0.5em;}#sk-container-id-2 div.sk-estimator:hover {background-color: #d4ebff;}#sk-container-id-2 div.sk-parallel-item::after {content: \"\";width: 100%;border-bottom: 1px solid gray;flex-grow: 1;}#sk-container-id-2 div.sk-label:hover label.sk-toggleable__label {background-color: #d4ebff;}#sk-container-id-2 div.sk-serial::before {content: \"\";position: absolute;border-left: 1px solid gray;box-sizing: border-box;top: 0;bottom: 0;left: 50%;z-index: 0;}#sk-container-id-2 div.sk-serial {display: flex;flex-direction: column;align-items: center;background-color: white;padding-right: 0.2em;padding-left: 0.2em;position: relative;}#sk-container-id-2 div.sk-item {position: relative;z-index: 1;}#sk-container-id-2 div.sk-parallel {display: flex;align-items: stretch;justify-content: center;background-color: white;position: relative;}#sk-container-id-2 div.sk-item::before, #sk-container-id-2 div.sk-parallel-item::before {content: \"\";position: absolute;border-left: 1px solid gray;box-sizing: border-box;top: 0;bottom: 0;left: 50%;z-index: -1;}#sk-container-id-2 div.sk-parallel-item {display: flex;flex-direction: column;z-index: 1;position: relative;background-color: white;}#sk-container-id-2 div.sk-parallel-item:first-child::after {align-self: flex-end;width: 50%;}#sk-container-id-2 div.sk-parallel-item:last-child::after {align-self: flex-start;width: 50%;}#sk-container-id-2 div.sk-parallel-item:only-child::after {width: 0;}#sk-container-id-2 div.sk-dashed-wrapped {border: 1px dashed gray;margin: 0 0.4em 0.5em 0.4em;box-sizing: border-box;padding-bottom: 0.4em;background-color: white;}#sk-container-id-2 div.sk-label label {font-family: monospace;font-weight: bold;display: inline-block;line-height: 1.2em;}#sk-container-id-2 div.sk-label-container {text-align: center;}#sk-container-id-2 div.sk-container {/* jupyter's `normalize.less` sets `[hidden] { display: none; }` but bootstrap.min.css set `[hidden] { display: none !important; }` so we also need the `!important` here to be able to override the default hidden behavior on the sphinx rendered scikit-learn.org. See: https://github.com/scikit-learn/scikit-learn/issues/21755 */display: inline-block !important;position: relative;}#sk-container-id-2 div.sk-text-repr-fallback {display: none;}</style><div id=\"sk-container-id-2\" class=\"sk-top-container\"><div class=\"sk-text-repr-fallback\"><pre>LogisticRegression(C=10)</pre><b>In a Jupyter environment, please rerun this cell to show the HTML representation or trust the notebook. <br />On GitHub, the HTML representation is unable to render, please try loading this page with nbviewer.org.</b></div><div class=\"sk-container\" hidden><div class=\"sk-item\"><div class=\"sk-estimator sk-toggleable\"><input class=\"sk-toggleable__control sk-hidden--visually\" id=\"sk-estimator-id-2\" type=\"checkbox\" checked><label for=\"sk-estimator-id-2\" class=\"sk-toggleable__label sk-toggleable__label-arrow\">LogisticRegression</label><div class=\"sk-toggleable__content\"><pre>LogisticRegression(C=10)</pre></div></div></div></div></div>"
      ],
      "text/plain": [
       "LogisticRegression(C=10)"
      ]
     },
     "execution_count": 78,
     "metadata": {},
     "output_type": "execute_result"
    }
   ],
   "source": [
    "model = LogisticRegression(penalty='l2', C=best_C)\n",
    "model.fit(X_train_bal, y_train_bal)"
   ]
  },
  {
   "cell_type": "code",
   "execution_count": 79,
   "metadata": {},
   "outputs": [],
   "source": [
    "y_pred = model.predict(X_test)"
   ]
  },
  {
   "cell_type": "code",
   "execution_count": 80,
   "metadata": {},
   "outputs": [
    {
     "name": "stdout",
     "output_type": "stream",
     "text": [
      "Accuracy: 0.8948717948717949\n",
      "              precision    recall  f1-score   support\n",
      "\n",
      "           0       0.94      0.93      0.93       312\n",
      "           1       0.72      0.77      0.75        78\n",
      "\n",
      "    accuracy                           0.89       390\n",
      "   macro avg       0.83      0.85      0.84       390\n",
      "weighted avg       0.90      0.89      0.90       390\n",
      "\n",
      "Cross Val Score:  0.8381394789579159\n"
     ]
    }
   ],
   "source": [
    "from sklearn.metrics import classification_report\n",
    "import statistics as stats\n",
    "from sklearn.model_selection import cross_val_score\n",
    "accuracy = accuracy_score(y_test, y_pred)\n",
    "print(\"Accuracy:\", accuracy)\n",
    "print(classification_report(y_test, y_pred))\n",
    "print(\"Cross Val Score: \", stats.mean(cross_val_score(model, X_train_bal, \n",
    "                                                      y_train_bal, cv = 5)))"
   ]
  },
  {
   "cell_type": "markdown",
   "metadata": {},
   "source": [
    "## Random Forest"
   ]
  },
  {
   "cell_type": "markdown",
   "metadata": {},
   "source": [
    "### Imbalanced"
   ]
  },
  {
   "cell_type": "code",
   "execution_count": 81,
   "metadata": {},
   "outputs": [
    {
     "data": {
      "text/html": [
       "<style>#sk-container-id-3 {color: black;background-color: white;}#sk-container-id-3 pre{padding: 0;}#sk-container-id-3 div.sk-toggleable {background-color: white;}#sk-container-id-3 label.sk-toggleable__label {cursor: pointer;display: block;width: 100%;margin-bottom: 0;padding: 0.3em;box-sizing: border-box;text-align: center;}#sk-container-id-3 label.sk-toggleable__label-arrow:before {content: \"▸\";float: left;margin-right: 0.25em;color: #696969;}#sk-container-id-3 label.sk-toggleable__label-arrow:hover:before {color: black;}#sk-container-id-3 div.sk-estimator:hover label.sk-toggleable__label-arrow:before {color: black;}#sk-container-id-3 div.sk-toggleable__content {max-height: 0;max-width: 0;overflow: hidden;text-align: left;background-color: #f0f8ff;}#sk-container-id-3 div.sk-toggleable__content pre {margin: 0.2em;color: black;border-radius: 0.25em;background-color: #f0f8ff;}#sk-container-id-3 input.sk-toggleable__control:checked~div.sk-toggleable__content {max-height: 200px;max-width: 100%;overflow: auto;}#sk-container-id-3 input.sk-toggleable__control:checked~label.sk-toggleable__label-arrow:before {content: \"▾\";}#sk-container-id-3 div.sk-estimator input.sk-toggleable__control:checked~label.sk-toggleable__label {background-color: #d4ebff;}#sk-container-id-3 div.sk-label input.sk-toggleable__control:checked~label.sk-toggleable__label {background-color: #d4ebff;}#sk-container-id-3 input.sk-hidden--visually {border: 0;clip: rect(1px 1px 1px 1px);clip: rect(1px, 1px, 1px, 1px);height: 1px;margin: -1px;overflow: hidden;padding: 0;position: absolute;width: 1px;}#sk-container-id-3 div.sk-estimator {font-family: monospace;background-color: #f0f8ff;border: 1px dotted black;border-radius: 0.25em;box-sizing: border-box;margin-bottom: 0.5em;}#sk-container-id-3 div.sk-estimator:hover {background-color: #d4ebff;}#sk-container-id-3 div.sk-parallel-item::after {content: \"\";width: 100%;border-bottom: 1px solid gray;flex-grow: 1;}#sk-container-id-3 div.sk-label:hover label.sk-toggleable__label {background-color: #d4ebff;}#sk-container-id-3 div.sk-serial::before {content: \"\";position: absolute;border-left: 1px solid gray;box-sizing: border-box;top: 0;bottom: 0;left: 50%;z-index: 0;}#sk-container-id-3 div.sk-serial {display: flex;flex-direction: column;align-items: center;background-color: white;padding-right: 0.2em;padding-left: 0.2em;position: relative;}#sk-container-id-3 div.sk-item {position: relative;z-index: 1;}#sk-container-id-3 div.sk-parallel {display: flex;align-items: stretch;justify-content: center;background-color: white;position: relative;}#sk-container-id-3 div.sk-item::before, #sk-container-id-3 div.sk-parallel-item::before {content: \"\";position: absolute;border-left: 1px solid gray;box-sizing: border-box;top: 0;bottom: 0;left: 50%;z-index: -1;}#sk-container-id-3 div.sk-parallel-item {display: flex;flex-direction: column;z-index: 1;position: relative;background-color: white;}#sk-container-id-3 div.sk-parallel-item:first-child::after {align-self: flex-end;width: 50%;}#sk-container-id-3 div.sk-parallel-item:last-child::after {align-self: flex-start;width: 50%;}#sk-container-id-3 div.sk-parallel-item:only-child::after {width: 0;}#sk-container-id-3 div.sk-dashed-wrapped {border: 1px dashed gray;margin: 0 0.4em 0.5em 0.4em;box-sizing: border-box;padding-bottom: 0.4em;background-color: white;}#sk-container-id-3 div.sk-label label {font-family: monospace;font-weight: bold;display: inline-block;line-height: 1.2em;}#sk-container-id-3 div.sk-label-container {text-align: center;}#sk-container-id-3 div.sk-container {/* jupyter's `normalize.less` sets `[hidden] { display: none; }` but bootstrap.min.css set `[hidden] { display: none !important; }` so we also need the `!important` here to be able to override the default hidden behavior on the sphinx rendered scikit-learn.org. See: https://github.com/scikit-learn/scikit-learn/issues/21755 */display: inline-block !important;position: relative;}#sk-container-id-3 div.sk-text-repr-fallback {display: none;}</style><div id=\"sk-container-id-3\" class=\"sk-top-container\"><div class=\"sk-text-repr-fallback\"><pre>RandomForestClassifier(n_estimators=50)</pre><b>In a Jupyter environment, please rerun this cell to show the HTML representation or trust the notebook. <br />On GitHub, the HTML representation is unable to render, please try loading this page with nbviewer.org.</b></div><div class=\"sk-container\" hidden><div class=\"sk-item\"><div class=\"sk-estimator sk-toggleable\"><input class=\"sk-toggleable__control sk-hidden--visually\" id=\"sk-estimator-id-3\" type=\"checkbox\" checked><label for=\"sk-estimator-id-3\" class=\"sk-toggleable__label sk-toggleable__label-arrow\">RandomForestClassifier</label><div class=\"sk-toggleable__content\"><pre>RandomForestClassifier(n_estimators=50)</pre></div></div></div></div></div>"
      ],
      "text/plain": [
       "RandomForestClassifier(n_estimators=50)"
      ]
     },
     "execution_count": 81,
     "metadata": {},
     "output_type": "execute_result"
    }
   ],
   "source": [
    "from sklearn.ensemble import RandomForestClassifier\n",
    "model = RandomForestClassifier()\n",
    "model = RandomForestClassifier(n_estimators=50)\n",
    "model.fit(X_train, y_train)"
   ]
  },
  {
   "cell_type": "code",
   "execution_count": 82,
   "metadata": {},
   "outputs": [
    {
     "data": {
      "text/plain": [
       "0.9076923076923077"
      ]
     },
     "execution_count": 82,
     "metadata": {},
     "output_type": "execute_result"
    }
   ],
   "source": [
    "model.score(X_test, y_test)"
   ]
  },
  {
   "cell_type": "code",
   "execution_count": 83,
   "metadata": {},
   "outputs": [
    {
     "name": "stdout",
     "output_type": "stream",
     "text": [
      "              precision    recall  f1-score   support\n",
      "\n",
      "           0       0.92      0.96      0.94       312\n",
      "           1       0.83      0.68      0.75        78\n",
      "\n",
      "    accuracy                           0.91       390\n",
      "   macro avg       0.88      0.82      0.85       390\n",
      "weighted avg       0.90      0.91      0.90       390\n",
      "\n",
      "Cross Val Score:  0.929983922829582\n"
     ]
    }
   ],
   "source": [
    "rf = RandomForestClassifier().fit(X_train, y_train)\n",
    "rf_pred = rf.predict(X_test)\n",
    "\n",
    "print(classification_report(y_test, rf_pred))\n",
    "\n",
    "print(\"Cross Val Score: \", stats.mean(cross_val_score(rf, X_train, y_train, cv = 5)))"
   ]
  },
  {
   "cell_type": "markdown",
   "metadata": {},
   "source": [
    "### Balanced"
   ]
  },
  {
   "cell_type": "code",
   "execution_count": 84,
   "metadata": {},
   "outputs": [
    {
     "data": {
      "text/html": [
       "<style>#sk-container-id-4 {color: black;background-color: white;}#sk-container-id-4 pre{padding: 0;}#sk-container-id-4 div.sk-toggleable {background-color: white;}#sk-container-id-4 label.sk-toggleable__label {cursor: pointer;display: block;width: 100%;margin-bottom: 0;padding: 0.3em;box-sizing: border-box;text-align: center;}#sk-container-id-4 label.sk-toggleable__label-arrow:before {content: \"▸\";float: left;margin-right: 0.25em;color: #696969;}#sk-container-id-4 label.sk-toggleable__label-arrow:hover:before {color: black;}#sk-container-id-4 div.sk-estimator:hover label.sk-toggleable__label-arrow:before {color: black;}#sk-container-id-4 div.sk-toggleable__content {max-height: 0;max-width: 0;overflow: hidden;text-align: left;background-color: #f0f8ff;}#sk-container-id-4 div.sk-toggleable__content pre {margin: 0.2em;color: black;border-radius: 0.25em;background-color: #f0f8ff;}#sk-container-id-4 input.sk-toggleable__control:checked~div.sk-toggleable__content {max-height: 200px;max-width: 100%;overflow: auto;}#sk-container-id-4 input.sk-toggleable__control:checked~label.sk-toggleable__label-arrow:before {content: \"▾\";}#sk-container-id-4 div.sk-estimator input.sk-toggleable__control:checked~label.sk-toggleable__label {background-color: #d4ebff;}#sk-container-id-4 div.sk-label input.sk-toggleable__control:checked~label.sk-toggleable__label {background-color: #d4ebff;}#sk-container-id-4 input.sk-hidden--visually {border: 0;clip: rect(1px 1px 1px 1px);clip: rect(1px, 1px, 1px, 1px);height: 1px;margin: -1px;overflow: hidden;padding: 0;position: absolute;width: 1px;}#sk-container-id-4 div.sk-estimator {font-family: monospace;background-color: #f0f8ff;border: 1px dotted black;border-radius: 0.25em;box-sizing: border-box;margin-bottom: 0.5em;}#sk-container-id-4 div.sk-estimator:hover {background-color: #d4ebff;}#sk-container-id-4 div.sk-parallel-item::after {content: \"\";width: 100%;border-bottom: 1px solid gray;flex-grow: 1;}#sk-container-id-4 div.sk-label:hover label.sk-toggleable__label {background-color: #d4ebff;}#sk-container-id-4 div.sk-serial::before {content: \"\";position: absolute;border-left: 1px solid gray;box-sizing: border-box;top: 0;bottom: 0;left: 50%;z-index: 0;}#sk-container-id-4 div.sk-serial {display: flex;flex-direction: column;align-items: center;background-color: white;padding-right: 0.2em;padding-left: 0.2em;position: relative;}#sk-container-id-4 div.sk-item {position: relative;z-index: 1;}#sk-container-id-4 div.sk-parallel {display: flex;align-items: stretch;justify-content: center;background-color: white;position: relative;}#sk-container-id-4 div.sk-item::before, #sk-container-id-4 div.sk-parallel-item::before {content: \"\";position: absolute;border-left: 1px solid gray;box-sizing: border-box;top: 0;bottom: 0;left: 50%;z-index: -1;}#sk-container-id-4 div.sk-parallel-item {display: flex;flex-direction: column;z-index: 1;position: relative;background-color: white;}#sk-container-id-4 div.sk-parallel-item:first-child::after {align-self: flex-end;width: 50%;}#sk-container-id-4 div.sk-parallel-item:last-child::after {align-self: flex-start;width: 50%;}#sk-container-id-4 div.sk-parallel-item:only-child::after {width: 0;}#sk-container-id-4 div.sk-dashed-wrapped {border: 1px dashed gray;margin: 0 0.4em 0.5em 0.4em;box-sizing: border-box;padding-bottom: 0.4em;background-color: white;}#sk-container-id-4 div.sk-label label {font-family: monospace;font-weight: bold;display: inline-block;line-height: 1.2em;}#sk-container-id-4 div.sk-label-container {text-align: center;}#sk-container-id-4 div.sk-container {/* jupyter's `normalize.less` sets `[hidden] { display: none; }` but bootstrap.min.css set `[hidden] { display: none !important; }` so we also need the `!important` here to be able to override the default hidden behavior on the sphinx rendered scikit-learn.org. See: https://github.com/scikit-learn/scikit-learn/issues/21755 */display: inline-block !important;position: relative;}#sk-container-id-4 div.sk-text-repr-fallback {display: none;}</style><div id=\"sk-container-id-4\" class=\"sk-top-container\"><div class=\"sk-text-repr-fallback\"><pre>RandomForestClassifier(n_estimators=50)</pre><b>In a Jupyter environment, please rerun this cell to show the HTML representation or trust the notebook. <br />On GitHub, the HTML representation is unable to render, please try loading this page with nbviewer.org.</b></div><div class=\"sk-container\" hidden><div class=\"sk-item\"><div class=\"sk-estimator sk-toggleable\"><input class=\"sk-toggleable__control sk-hidden--visually\" id=\"sk-estimator-id-4\" type=\"checkbox\" checked><label for=\"sk-estimator-id-4\" class=\"sk-toggleable__label sk-toggleable__label-arrow\">RandomForestClassifier</label><div class=\"sk-toggleable__content\"><pre>RandomForestClassifier(n_estimators=50)</pre></div></div></div></div></div>"
      ],
      "text/plain": [
       "RandomForestClassifier(n_estimators=50)"
      ]
     },
     "execution_count": 84,
     "metadata": {},
     "output_type": "execute_result"
    }
   ],
   "source": [
    "from sklearn.ensemble import RandomForestClassifier\n",
    "model = RandomForestClassifier()\n",
    "model = RandomForestClassifier(n_estimators=50)\n",
    "model.fit(X_train_bal, y_train_bal)"
   ]
  },
  {
   "cell_type": "code",
   "execution_count": 85,
   "metadata": {},
   "outputs": [
    {
     "data": {
      "text/plain": [
       "0.8897435897435897"
      ]
     },
     "execution_count": 85,
     "metadata": {},
     "output_type": "execute_result"
    }
   ],
   "source": [
    "model.score(X_test, y_test)"
   ]
  },
  {
   "cell_type": "code",
   "execution_count": 86,
   "metadata": {},
   "outputs": [
    {
     "name": "stdout",
     "output_type": "stream",
     "text": [
      "              precision    recall  f1-score   support\n",
      "\n",
      "           0       0.96      0.90      0.93       312\n",
      "           1       0.67      0.85      0.75        78\n",
      "\n",
      "    accuracy                           0.89       390\n",
      "   macro avg       0.82      0.87      0.84       390\n",
      "weighted avg       0.90      0.89      0.89       390\n",
      "\n",
      "Cross Val Score:  0.9379054108216434\n"
     ]
    }
   ],
   "source": [
    "rf = RandomForestClassifier().fit(X_train_bal, y_train_bal)\n",
    "rf_pred = rf.predict(X_test)\n",
    "\n",
    "print(classification_report(y_test, rf_pred))\n",
    "\n",
    "print(\"Cross Val Score: \", stats.mean(cross_val_score(rf, X_train_bal, y_train_bal, cv = 5)))"
   ]
  },
  {
   "cell_type": "markdown",
   "metadata": {},
   "source": [
    "## Decision Tree"
   ]
  },
  {
   "cell_type": "markdown",
   "metadata": {},
   "source": [
    "### Imbalanced"
   ]
  },
  {
   "cell_type": "code",
   "execution_count": 87,
   "metadata": {},
   "outputs": [
    {
     "name": "stdout",
     "output_type": "stream",
     "text": [
      "              precision    recall  f1-score   support\n",
      "\n",
      "           0       0.92      0.97      0.95       312\n",
      "           1       0.87      0.68      0.76        78\n",
      "\n",
      "    accuracy                           0.92       390\n",
      "   macro avg       0.90      0.83      0.86       390\n",
      "weighted avg       0.91      0.92      0.91       390\n",
      "\n",
      "Cross Val Score:  0.9216382224420809\n"
     ]
    }
   ],
   "source": [
    "from sklearn.tree import DecisionTreeClassifier\n",
    "decisiontree = DecisionTreeClassifier().fit(X_train, y_train)\n",
    "dt_pred = decisiontree.predict(X_test)\n",
    "\n",
    "print(classification_report(y_test, dt_pred))\n",
    "print(\"Cross Val Score: \", stats.mean(cross_val_score(decisiontree, X_train, \n",
    "                                                      y_train, cv = 5))) "
   ]
  },
  {
   "cell_type": "markdown",
   "metadata": {},
   "source": [
    "### Balanced"
   ]
  },
  {
   "cell_type": "code",
   "execution_count": 88,
   "metadata": {},
   "outputs": [
    {
     "name": "stdout",
     "output_type": "stream",
     "text": [
      "              precision    recall  f1-score   support\n",
      "\n",
      "           0       0.96      0.88      0.92       312\n",
      "           1       0.65      0.86      0.74        78\n",
      "\n",
      "    accuracy                           0.88       390\n",
      "   macro avg       0.81      0.87      0.83       390\n",
      "weighted avg       0.90      0.88      0.89       390\n",
      "\n",
      "Cross Val Score:  0.9262869739478958\n"
     ]
    }
   ],
   "source": [
    "from sklearn.tree import DecisionTreeClassifier\n",
    "decisiontree = DecisionTreeClassifier().fit(X_train_bal, y_train_bal)\n",
    "dt_pred = decisiontree.predict(X_test)\n",
    "\n",
    "print(classification_report(y_test, dt_pred))\n",
    "print(\"Cross Val Score: \", stats.mean(cross_val_score(decisiontree, X_train_bal, \n",
    "                                                      y_train_bal, cv = 5))) "
   ]
  },
  {
   "cell_type": "markdown",
   "metadata": {},
   "source": [
    "## Support Vector Machine"
   ]
  },
  {
   "cell_type": "markdown",
   "metadata": {},
   "source": [
    "### Imbalanced"
   ]
  },
  {
   "cell_type": "code",
   "execution_count": 89,
   "metadata": {},
   "outputs": [],
   "source": [
    "from sklearn import svm\n",
    "\n",
    "SVM = svm.SVC(kernel='linear', gamma='auto', C=2)\n",
    "SVM.fit(X_train, y_train)\n",
    "\n",
    "y_predict = SVM.predict(X_test)"
   ]
  },
  {
   "cell_type": "code",
   "execution_count": 90,
   "metadata": {},
   "outputs": [
    {
     "name": "stdout",
     "output_type": "stream",
     "text": [
      "              precision    recall  f1-score   support\n",
      "\n",
      "           0       0.92      0.99      0.96       312\n",
      "           1       0.96      0.65      0.78        78\n",
      "\n",
      "    accuracy                           0.93       390\n",
      "   macro avg       0.94      0.82      0.87       390\n",
      "weighted avg       0.93      0.93      0.92       390\n",
      "\n",
      "Cross Val Score:  0.924849534174293\n"
     ]
    }
   ],
   "source": [
    "print(classification_report(y_test, y_predict))\n",
    "print(\"Cross Val Score: \", stats.mean(cross_val_score(SVM, X_train, \n",
    "                                                      y_train, cv = 5))) "
   ]
  },
  {
   "cell_type": "markdown",
   "metadata": {},
   "source": [
    "### Balanced"
   ]
  },
  {
   "cell_type": "code",
   "execution_count": null,
   "metadata": {},
   "outputs": [],
   "source": [
    "from sklearn import svm\n",
    "\n",
    "SVM = svm.SVC(kernel='linear', gamma='auto', C=2)\n",
    "SVM.fit(X_train_bal, y_train_bal)\n",
    "\n",
    "y_predict = SVM.predict(X_test)"
   ]
  },
  {
   "cell_type": "code",
   "execution_count": 91,
   "metadata": {},
   "outputs": [
    {
     "name": "stdout",
     "output_type": "stream",
     "text": [
      "              precision    recall  f1-score   support\n",
      "\n",
      "           0       0.92      0.99      0.96       312\n",
      "           1       0.96      0.65      0.78        78\n",
      "\n",
      "    accuracy                           0.93       390\n",
      "   macro avg       0.94      0.82      0.87       390\n",
      "weighted avg       0.93      0.93      0.92       390\n",
      "\n",
      "Cross Val Score:  0.8261202404809619\n"
     ]
    }
   ],
   "source": [
    "print(classification_report(y_test, y_predict))\n",
    "print(\"Cross Val Score: \", stats.mean(cross_val_score(SVM, X_train_bal, \n",
    "                                                      y_train_bal, cv = 5))) "
   ]
  },
  {
   "cell_type": "markdown",
   "metadata": {},
   "source": [
    "## K-Nearest-Neighbors"
   ]
  },
  {
   "cell_type": "markdown",
   "metadata": {},
   "source": [
    "### Imbalanced"
   ]
  },
  {
   "cell_type": "code",
   "execution_count": 93,
   "metadata": {},
   "outputs": [
    {
     "name": "stdout",
     "output_type": "stream",
     "text": [
      "              precision    recall  f1-score   support\n",
      "\n",
      "           0       0.87      0.97      0.92       312\n",
      "           1       0.79      0.42      0.55        78\n",
      "\n",
      "    accuracy                           0.86       390\n",
      "   macro avg       0.83      0.70      0.73       390\n",
      "weighted avg       0.85      0.86      0.84       390\n",
      "\n",
      "Cross Val Score:  0.8503586445708632\n"
     ]
    }
   ],
   "source": [
    "from sklearn.neighbors import NearestNeighbors, KNeighborsClassifier\n",
    "kneighbors = KNeighborsClassifier().fit(X_train, y_train)\n",
    "knn_pred = kneighbors.predict(X_test)\n",
    "\n",
    "print(classification_report(y_test, knn_pred))\n",
    "\n",
    "print(\"Cross Val Score: \", stats.mean(cross_val_score(kneighbors, \n",
    "                                                      X_train, y_train, cv=5)))"
   ]
  },
  {
   "cell_type": "markdown",
   "metadata": {},
   "source": [
    "### Balanced"
   ]
  },
  {
   "cell_type": "code",
   "execution_count": 92,
   "metadata": {},
   "outputs": [
    {
     "name": "stdout",
     "output_type": "stream",
     "text": [
      "              precision    recall  f1-score   support\n",
      "\n",
      "           0       0.93      0.85      0.89       312\n",
      "           1       0.55      0.74      0.63        78\n",
      "\n",
      "    accuracy                           0.83       390\n",
      "   macro avg       0.74      0.79      0.76       390\n",
      "weighted avg       0.85      0.83      0.83       390\n",
      "\n",
      "Cross Val Score:  0.8709963927855712\n"
     ]
    }
   ],
   "source": [
    "from sklearn.neighbors import NearestNeighbors, KNeighborsClassifier\n",
    "kneighbors = KNeighborsClassifier().fit(X_train_bal, y_train_bal)\n",
    "knn_pred = kneighbors.predict(X_test)\n",
    "\n",
    "print(classification_report(y_test, knn_pred))\n",
    "\n",
    "print(\"Cross Val Score: \", stats.mean(cross_val_score(kneighbors, \n",
    "                                                      X_train_bal, y_train_bal, cv=5)))"
   ]
  },
  {
   "cell_type": "markdown",
   "metadata": {},
   "source": []
  }
 ],
 "metadata": {
  "kernelspec": {
   "display_name": "base",
   "language": "python",
   "name": "python3"
  },
  "language_info": {
   "codemirror_mode": {
    "name": "ipython",
    "version": 3
   },
   "file_extension": ".py",
   "mimetype": "text/x-python",
   "name": "python",
   "nbconvert_exporter": "python",
   "pygments_lexer": "ipython3",
   "version": "3.8.8"
  },
  "orig_nbformat": 4
 },
 "nbformat": 4,
 "nbformat_minor": 2
}
